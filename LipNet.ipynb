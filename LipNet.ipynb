{
 "cells": [
  {
   "cell_type": "markdown",
   "id": "a3573a47-3689-4668-b62f-5c8451b2b4e9",
   "metadata": {
    "editable": true,
    "id": "a3573a47-3689-4668-b62f-5c8451b2b4e9",
    "tags": []
   },
   "source": [
    "# 0. Install and Import Dependencies"
   ]
  },
  {
   "cell_type": "code",
   "execution_count": 5,
   "id": "ni0KA3RDVbC4",
   "metadata": {
    "id": "ni0KA3RDVbC4"
   },
   "outputs": [],
   "source": [
    "# from google.colab import drive\n",
    "# drive.mount('/content/drive')"
   ]
  },
  {
   "cell_type": "code",
   "execution_count": 6,
   "id": "ddfbccbe-41ae-4c23-98b1-a13868e2b499",
   "metadata": {
    "id": "ddfbccbe-41ae-4c23-98b1-a13868e2b499",
    "scrolled": true,
    "tags": []
   },
   "outputs": [
    {
     "name": "stdout",
     "output_type": "stream",
     "text": [
      "Package                      Version\n",
      "---------------------------- ---------------\n",
      "absl-py                      2.1.0\n",
      "anyio                        4.2.0\n",
      "argon2-cffi                  23.1.0\n",
      "argon2-cffi-bindings         21.2.0\n",
      "arrow                        1.3.0\n",
      "asttokens                    2.4.1\n",
      "astunparse                   1.6.3\n",
      "async-lru                    2.0.4\n",
      "attrs                        23.2.0\n",
      "Babel                        2.14.0\n",
      "beautifulsoup4               4.12.3\n",
      "bleach                       6.1.0\n",
      "cachetools                   5.3.2\n",
      "certifi                      2023.11.17\n",
      "cffi                         1.16.0\n",
      "charset-normalizer           3.3.2\n",
      "comm                         0.2.1\n",
      "contourpy                    1.2.0\n",
      "cycler                       0.12.1\n",
      "debugpy                      1.8.0\n",
      "decorator                    5.1.1\n",
      "defusedxml                   0.7.1\n",
      "executing                    2.0.1\n",
      "fastjsonschema               2.19.1\n",
      "filelock                     3.13.1\n",
      "flatbuffers                  23.5.26\n",
      "fonttools                    4.47.2\n",
      "fqdn                         1.5.1\n",
      "gast                         0.5.4\n",
      "gdown                        4.7.3\n",
      "google-auth                  2.26.2\n",
      "google-auth-oauthlib         1.2.0\n",
      "google-pasta                 0.2.0\n",
      "grpcio                       1.60.0\n",
      "h5py                         3.10.0\n",
      "idna                         3.6\n",
      "imageio                      2.33.1\n",
      "ipykernel                    6.29.0\n",
      "ipython                      8.20.0\n",
      "isoduration                  20.11.0\n",
      "jedi                         0.19.1\n",
      "Jinja2                       3.1.3\n",
      "json5                        0.9.14\n",
      "jsonpointer                  2.4\n",
      "jsonschema                   4.21.0\n",
      "jsonschema-specifications    2023.12.1\n",
      "jupyter_client               8.6.0\n",
      "jupyter_core                 5.7.1\n",
      "jupyter-events               0.9.0\n",
      "jupyter-lsp                  2.2.2\n",
      "jupyter_server               2.12.5\n",
      "jupyter_server_terminals     0.5.1\n",
      "jupyterlab                   4.0.10\n",
      "jupyterlab_pygments          0.3.0\n",
      "jupyterlab_server            2.25.2\n",
      "keras                        2.15.0\n",
      "kiwisolver                   1.4.5\n",
      "libclang                     16.0.6\n",
      "Markdown                     3.5.2\n",
      "MarkupSafe                   2.1.3\n",
      "matplotlib                   3.8.2\n",
      "matplotlib-inline            0.1.6\n",
      "mistune                      3.0.2\n",
      "ml-dtypes                    0.2.0\n",
      "nbclient                     0.9.0\n",
      "nbconvert                    7.14.2\n",
      "nbformat                     5.9.2\n",
      "nest-asyncio                 1.5.9\n",
      "notebook                     7.0.6\n",
      "notebook_shim                0.2.3\n",
      "numpy                        1.26.3\n",
      "oauthlib                     3.2.2\n",
      "opencv-python                4.9.0.80\n",
      "opt-einsum                   3.3.0\n",
      "overrides                    7.4.0\n",
      "packaging                    23.2\n",
      "pandocfilters                1.5.1\n",
      "parso                        0.8.3\n",
      "pexpect                      4.9.0\n",
      "pillow                       10.2.0\n",
      "pip                          23.2.1\n",
      "platformdirs                 4.1.0\n",
      "prometheus-client            0.19.0\n",
      "prompt-toolkit               3.0.43\n",
      "protobuf                     4.23.4\n",
      "psutil                       5.9.7\n",
      "ptyprocess                   0.7.0\n",
      "pure-eval                    0.2.2\n",
      "pyasn1                       0.5.1\n",
      "pyasn1-modules               0.3.0\n",
      "pycparser                    2.21\n",
      "Pygments                     2.17.2\n",
      "pyparsing                    3.1.1\n",
      "PySocks                      1.7.1\n",
      "python-dateutil              2.8.2\n",
      "python-json-logger           2.0.7\n",
      "PyYAML                       6.0.1\n",
      "pyzmq                        25.1.2\n",
      "referencing                  0.32.1\n",
      "requests                     2.31.0\n",
      "requests-oauthlib            1.3.1\n",
      "rfc3339-validator            0.1.4\n",
      "rfc3986-validator            0.1.1\n",
      "rpds-py                      0.17.1\n",
      "rsa                          4.9\n",
      "Send2Trash                   1.8.2\n",
      "setuptools                   65.5.0\n",
      "six                          1.16.0\n",
      "sniffio                      1.3.0\n",
      "soupsieve                    2.5\n",
      "stack-data                   0.6.3\n",
      "tensorboard                  2.15.1\n",
      "tensorboard-data-server      0.7.2\n",
      "tensorflow                   2.15.0.post1\n",
      "tensorflow-estimator         2.15.0\n",
      "tensorflow-io-gcs-filesystem 0.35.0\n",
      "termcolor                    2.4.0\n",
      "terminado                    0.18.0\n",
      "tinycss2                     1.2.1\n",
      "tornado                      6.4\n",
      "tqdm                         4.66.1\n",
      "traitlets                    5.14.1\n",
      "types-python-dateutil        2.8.19.20240106\n",
      "typing_extensions            4.9.0\n",
      "uri-template                 1.3.0\n",
      "urllib3                      2.1.0\n",
      "wcwidth                      0.2.13\n",
      "webcolors                    1.13\n",
      "webencodings                 0.5.1\n",
      "websocket-client             1.7.0\n",
      "Werkzeug                     3.0.1\n",
      "wheel                        0.42.0\n",
      "wrapt                        1.14.1\n",
      "\n",
      "\u001b[1m[\u001b[0m\u001b[34;49mnotice\u001b[0m\u001b[1;39;49m]\u001b[0m\u001b[39;49m A new release of pip is available: \u001b[0m\u001b[31;49m23.2.1\u001b[0m\u001b[39;49m -> \u001b[0m\u001b[32;49m23.3.2\u001b[0m\n",
      "\u001b[1m[\u001b[0m\u001b[34;49mnotice\u001b[0m\u001b[1;39;49m]\u001b[0m\u001b[39;49m To update, run: \u001b[0m\u001b[32;49mpython3.11 -m pip install --upgrade pip\u001b[0m\n"
     ]
    }
   ],
   "source": [
    "# !pip list"
   ]
  },
  {
   "cell_type": "code",
   "execution_count": 2,
   "id": "b08413ae",
   "metadata": {},
   "outputs": [
    {
     "name": "stdout",
     "output_type": "stream",
     "text": [
      "./\n"
     ]
    }
   ],
   "source": [
    "GOOGLE_DRIVE = False\n",
    "\n",
    "BASE_PATH = './'\n",
    "\n",
    "if GOOGLE_DRIVE is True:\n",
    "    BASE_PATH = '/content/drive/MyDrive/lipnet/' \n",
    "\n",
    "print(BASE_PATH)"
   ]
  },
  {
   "cell_type": "code",
   "execution_count": 2,
   "id": "02f907ea-f669-46c7-adcf-7f257e663448",
   "metadata": {
    "id": "02f907ea-f669-46c7-adcf-7f257e663448",
    "scrolled": true,
    "tags": []
   },
   "outputs": [],
   "source": [
    "# !pip install opencv-python matplotlib imageio tensorflow numpy"
   ]
  },
  {
   "cell_type": "code",
   "execution_count": 3,
   "id": "db068879-adf4-4151-8d7b-e505f798f77c",
   "metadata": {
    "cellView": "code",
    "id": "db068879-adf4-4151-8d7b-e505f798f77c",
    "tags": []
   },
   "outputs": [
    {
     "name": "stderr",
     "output_type": "stream",
     "text": [
      "2024-01-20 10:55:57.094872: E external/local_xla/xla/stream_executor/cuda/cuda_dnn.cc:9261] Unable to register cuDNN factory: Attempting to register factory for plugin cuDNN when one has already been registered\n",
      "2024-01-20 10:55:57.094936: E external/local_xla/xla/stream_executor/cuda/cuda_fft.cc:607] Unable to register cuFFT factory: Attempting to register factory for plugin cuFFT when one has already been registered\n",
      "2024-01-20 10:55:57.115288: E external/local_xla/xla/stream_executor/cuda/cuda_blas.cc:1515] Unable to register cuBLAS factory: Attempting to register factory for plugin cuBLAS when one has already been registered\n",
      "2024-01-20 10:55:57.167366: I tensorflow/core/platform/cpu_feature_guard.cc:182] This TensorFlow binary is optimized to use available CPU instructions in performance-critical operations.\n",
      "To enable the following instructions: AVX2 FMA, in other operations, rebuild TensorFlow with the appropriate compiler flags.\n",
      "2024-01-20 10:55:57.949051: W tensorflow/compiler/tf2tensorrt/utils/py_utils.cc:38] TF-TRT Warning: Could not find TensorRT\n"
     ]
    }
   ],
   "source": [
    "import os\n",
    "import cv2\n",
    "import tensorflow as tf\n",
    "import numpy as np\n",
    "from typing import List\n",
    "from matplotlib import pyplot as plt\n",
    "import imageio"
   ]
  },
  {
   "cell_type": "code",
   "execution_count": 4,
   "id": "1e3db0b0-e559-4ad6-91fd-e7414b7d75e6",
   "metadata": {
    "colab": {
     "base_uri": "https://localhost:8080/"
    },
    "id": "1e3db0b0-e559-4ad6-91fd-e7414b7d75e6",
    "outputId": "d6055b7b-afab-4a08-b261-53175770b301"
   },
   "outputs": [
    {
     "name": "stderr",
     "output_type": "stream",
     "text": [
      "2024-01-20 10:56:01.062888: I external/local_xla/xla/stream_executor/cuda/cuda_executor.cc:901] successful NUMA node read from SysFS had negative value (-1), but there must be at least one NUMA node, so returning NUMA node zero. See more at https://github.com/torvalds/linux/blob/v6.0/Documentation/ABI/testing/sysfs-bus-pci#L344-L355\n",
      "2024-01-20 10:56:01.151627: I external/local_xla/xla/stream_executor/cuda/cuda_executor.cc:901] successful NUMA node read from SysFS had negative value (-1), but there must be at least one NUMA node, so returning NUMA node zero. See more at https://github.com/torvalds/linux/blob/v6.0/Documentation/ABI/testing/sysfs-bus-pci#L344-L355\n",
      "2024-01-20 10:56:01.151838: I external/local_xla/xla/stream_executor/cuda/cuda_executor.cc:901] successful NUMA node read from SysFS had negative value (-1), but there must be at least one NUMA node, so returning NUMA node zero. See more at https://github.com/torvalds/linux/blob/v6.0/Documentation/ABI/testing/sysfs-bus-pci#L344-L355\n"
     ]
    },
    {
     "data": {
      "text/plain": [
       "[PhysicalDevice(name='/physical_device:GPU:0', device_type='GPU')]"
      ]
     },
     "execution_count": 4,
     "metadata": {},
     "output_type": "execute_result"
    }
   ],
   "source": [
    "tf.config.experimental.list_physical_devices('GPU')"
   ]
  },
  {
   "cell_type": "code",
   "execution_count": 5,
   "id": "378d045a-3003-4f93-b7d2-a25a97774a68",
   "metadata": {
    "id": "378d045a-3003-4f93-b7d2-a25a97774a68",
    "tags": []
   },
   "outputs": [],
   "source": [
    "physical_devices = tf.config.list_physical_devices('GPU')\n",
    "try:\n",
    "    tf.config.experimental.set_memory_growth(physical_devices[0], True) # GPU 메모리 사용 효율화\n",
    "except:\n",
    "    pass"
   ]
  },
  {
   "cell_type": "markdown",
   "id": "7a19e88e-c7b9-45c1-ae1e-f2109329c71b",
   "metadata": {
    "id": "7a19e88e-c7b9-45c1-ae1e-f2109329c71b",
    "tags": []
   },
   "source": [
    "# 1. Build Data Loading Functions"
   ]
  },
  {
   "cell_type": "code",
   "execution_count": 6,
   "id": "8fb99c90-e05a-437f-839d-6e772f8c1dd5",
   "metadata": {
    "id": "8fb99c90-e05a-437f-839d-6e772f8c1dd5",
    "tags": []
   },
   "outputs": [],
   "source": [
    "# import gdown"
   ]
  },
  {
   "cell_type": "code",
   "execution_count": 7,
   "id": "c019e4c6-2af3-4160-99ea-5c8cb009f1a7",
   "metadata": {
    "id": "c019e4c6-2af3-4160-99ea-5c8cb009f1a7",
    "tags": []
   },
   "outputs": [],
   "source": [
    "# url = 'https://drive.google.com/uc?id=1YlvpDLix3S-U8fd-gqRwPcWXAXm8JwjL'\n",
    "# output = 'data.zip'\n",
    "# gdown.download(url, output, quiet=False)\n",
    "# gdown.extractall('data.zip')"
   ]
  },
  {
   "cell_type": "code",
   "execution_count": 8,
   "id": "0y4hkExqaI2o",
   "metadata": {
    "id": "0y4hkExqaI2o"
   },
   "outputs": [],
   "source": [
    "# def load_video(path: str) -> List[float]:\n",
    "#     cap = cv2.VideoCapture(path)\n",
    "#     frames = []\n",
    "#     for _ in range(int(cap.get(cv2.CAP_PROP_FRAME_COUNT))):\n",
    "#         ret, frame = cap.read()\n",
    "#         frame = tf.constant(frame, dtype=tf.float32)  # 이미지를 텐서로 변환\n",
    "#         frame = tf.image.rgb_to_grayscale(frame)\n",
    "#         frames.append(frame[190:236, 80:220, :])\n",
    "#     cap.release()\n",
    "\n",
    "#     mean = tf.math.reduce_mean(frames)\n",
    "#     std = tf.math.reduce_std(tf.cast(frames, tf.float32))\n",
    "#     return tf.cast((frames - mean), tf.float32) / std\n"
   ]
  },
  {
   "cell_type": "code",
   "execution_count": 9,
   "id": "8548cc59-6dfc-4acc-abc3-3e65212db02e",
   "metadata": {
    "id": "8548cc59-6dfc-4acc-abc3-3e65212db02e",
    "tags": []
   },
   "outputs": [],
   "source": [
    "def load_video(path:str) -> List[float]:\n",
    "\n",
    "    cap = cv2.VideoCapture(path)\n",
    "    frames = []\n",
    "    fn = int(cap.get(cv2.CAP_PROP_FRAME_COUNT))\n",
    "\n",
    "    if fn != 75:\n",
    "      print(f'Wrong video! frame num: {fn}')\n",
    "\n",
    "    for _ in range(fn):\n",
    "        ret, frame = cap.read()\n",
    "        if frame is not None:\n",
    "          frame = tf.image.rgb_to_grayscale(frame)\n",
    "          frames.append(frame[190:236,80:220,:])\n",
    "        else:\n",
    "          print(\"load_video() path\" + path)\n",
    "    cap.release()\n",
    "\n",
    "    mean = tf.math.reduce_mean(frames)\n",
    "    std = tf.math.reduce_std(tf.cast(frames, tf.float32))\n",
    "    return tf.cast((frames - mean), tf.float32) / std"
   ]
  },
  {
   "cell_type": "code",
   "execution_count": 10,
   "id": "ec735e0b-ec98-4eb0-8f49-c35527d6670a",
   "metadata": {
    "id": "ec735e0b-ec98-4eb0-8f49-c35527d6670a",
    "tags": []
   },
   "outputs": [],
   "source": [
    "vocab = [x for x in \"abcdefghijklmnopqrstuvwxyz'?!123456789 \"]"
   ]
  },
  {
   "cell_type": "code",
   "execution_count": 11,
   "id": "be04e972-d7a5-4a72-82d8-a6bdde1f3ce6",
   "metadata": {
    "colab": {
     "base_uri": "https://localhost:8080/"
    },
    "id": "be04e972-d7a5-4a72-82d8-a6bdde1f3ce6",
    "outputId": "507c654d-6f61-46dc-fcf5-f3c5b60c16a7",
    "tags": []
   },
   "outputs": [
    {
     "name": "stdout",
     "output_type": "stream",
     "text": [
      "The vocabulary is: ['', 'a', 'b', 'c', 'd', 'e', 'f', 'g', 'h', 'i', 'j', 'k', 'l', 'm', 'n', 'o', 'p', 'q', 'r', 's', 't', 'u', 'v', 'w', 'x', 'y', 'z', \"'\", '?', '!', '1', '2', '3', '4', '5', '6', '7', '8', '9', ' '] (size =40)\n"
     ]
    },
    {
     "name": "stderr",
     "output_type": "stream",
     "text": [
      "2024-01-20 10:56:07.377970: I external/local_xla/xla/stream_executor/cuda/cuda_executor.cc:901] successful NUMA node read from SysFS had negative value (-1), but there must be at least one NUMA node, so returning NUMA node zero. See more at https://github.com/torvalds/linux/blob/v6.0/Documentation/ABI/testing/sysfs-bus-pci#L344-L355\n",
      "2024-01-20 10:56:07.378183: I external/local_xla/xla/stream_executor/cuda/cuda_executor.cc:901] successful NUMA node read from SysFS had negative value (-1), but there must be at least one NUMA node, so returning NUMA node zero. See more at https://github.com/torvalds/linux/blob/v6.0/Documentation/ABI/testing/sysfs-bus-pci#L344-L355\n",
      "2024-01-20 10:56:07.378330: I external/local_xla/xla/stream_executor/cuda/cuda_executor.cc:901] successful NUMA node read from SysFS had negative value (-1), but there must be at least one NUMA node, so returning NUMA node zero. See more at https://github.com/torvalds/linux/blob/v6.0/Documentation/ABI/testing/sysfs-bus-pci#L344-L355\n",
      "2024-01-20 10:56:07.442730: I external/local_xla/xla/stream_executor/cuda/cuda_executor.cc:901] successful NUMA node read from SysFS had negative value (-1), but there must be at least one NUMA node, so returning NUMA node zero. See more at https://github.com/torvalds/linux/blob/v6.0/Documentation/ABI/testing/sysfs-bus-pci#L344-L355\n",
      "2024-01-20 10:56:07.442854: I external/local_xla/xla/stream_executor/cuda/cuda_executor.cc:901] successful NUMA node read from SysFS had negative value (-1), but there must be at least one NUMA node, so returning NUMA node zero. See more at https://github.com/torvalds/linux/blob/v6.0/Documentation/ABI/testing/sysfs-bus-pci#L344-L355\n",
      "2024-01-20 10:56:07.442956: I external/local_xla/xla/stream_executor/cuda/cuda_executor.cc:901] successful NUMA node read from SysFS had negative value (-1), but there must be at least one NUMA node, so returning NUMA node zero. See more at https://github.com/torvalds/linux/blob/v6.0/Documentation/ABI/testing/sysfs-bus-pci#L344-L355\n",
      "2024-01-20 10:56:07.443032: I tensorflow/core/common_runtime/gpu/gpu_device.cc:1929] Created device /job:localhost/replica:0/task:0/device:GPU:0 with 7900 MB memory:  -> device: 0, name: NVIDIA GeForce RTX 3080, pci bus id: 0000:08:00.0, compute capability: 8.6\n"
     ]
    }
   ],
   "source": [
    "char_to_num = tf.keras.layers.StringLookup(vocabulary=vocab, oov_token=\"\")\n",
    "num_to_char = tf.keras.layers.StringLookup(\n",
    "    vocabulary=char_to_num.get_vocabulary(), oov_token=\"\", invert=True\n",
    ")\n",
    "\n",
    "print(\n",
    "    f\"The vocabulary is: {char_to_num.get_vocabulary()} \"\n",
    "    f\"(size ={char_to_num.vocabulary_size()})\"\n",
    ")"
   ]
  },
  {
   "cell_type": "code",
   "execution_count": 12,
   "id": "559f7420-6802-45fa-9ca0-b1ff209b461c",
   "metadata": {
    "id": "559f7420-6802-45fa-9ca0-b1ff209b461c",
    "tags": []
   },
   "outputs": [],
   "source": [
    "# char_to_num.get_vocabulary()"
   ]
  },
  {
   "cell_type": "code",
   "execution_count": 13,
   "id": "797ff78b-b48f-4e14-bb62-8cd0ebf9501a",
   "metadata": {
    "id": "797ff78b-b48f-4e14-bb62-8cd0ebf9501a",
    "tags": []
   },
   "outputs": [],
   "source": [
    "# char_to_num(['n','i','c','k'])"
   ]
  },
  {
   "cell_type": "code",
   "execution_count": 14,
   "id": "8cd7f4f4-ae77-4509-a4f4-c723787ebad1",
   "metadata": {
    "id": "8cd7f4f4-ae77-4509-a4f4-c723787ebad1"
   },
   "outputs": [],
   "source": [
    "# num_to_char([14,  9,  3, 11])"
   ]
  },
  {
   "cell_type": "code",
   "execution_count": 15,
   "id": "9491bab5-6a3c-4f79-879a-8f9fbe73ae2e",
   "metadata": {
    "editable": true,
    "id": "9491bab5-6a3c-4f79-879a-8f9fbe73ae2e",
    "tags": []
   },
   "outputs": [],
   "source": [
    "def load_alignments(path:str) -> List[str]:\n",
    "    # print(\"load_alignments() path: \" + path)\n",
    "\n",
    "    with open(path, 'r') as f:\n",
    "        lines = f.readlines()\n",
    "    tokens = []\n",
    "    for line in lines:\n",
    "        line = line.split()\n",
    "        if line[2] != 'sil':  #.align 파일에서 마지막 컬럼 (sil, bin, blue..) 만 사용된다. 데이터를 만들 때 고려하지 않아도 되는 듯.\n",
    "            tokens = [*tokens,' ',line[2]]\n",
    "    # print(tokens) # [' ', 'bin', ' ', 'blue', ' ', 'at', ' ', 'l', ' ', 'six', ' ', 'now']\n",
    "    tokens = tf.strings.unicode_split(tokens, input_encoding='UTF-8')\n",
    "    # print(tokens)\n",
    "    tokens = tf.reshape(tokens, (-1))\n",
    "    # print(tokens)\n",
    "    tokens = char_to_num(tokens)[1:]\n",
    "    # print(tokens)\n",
    "    return tokens # tf.Tensor([ 2  9 14 39  2 12 21  5 39  1 20 39 12 39 19  9 24 39 14 15 23], shape=(21,), dtype=int64)"
   ]
  },
  {
   "cell_type": "code",
   "execution_count": 85,
   "id": "dd01ca9f-77fb-4643-a2aa-47dd82c5d66b",
   "metadata": {
    "id": "dd01ca9f-77fb-4643-a2aa-47dd82c5d66b",
    "tags": []
   },
   "outputs": [],
   "source": [
    "def load_data(path: str):\n",
    "    path = bytes.decode(path.numpy())\n",
    "    # print(\"load_data() path: \" + path)\n",
    "    folder_name = path.split('/')[-2]\n",
    "    # print(\"load_data() folder_name: \" + folder_name)\n",
    "    file_name = path.split('/')[-1].split('.')[0]\n",
    "    # File name splitting for windows\n",
    "    # file_name = path.split('\\\\')[-1].split('.')[0]\n",
    "    video_path = os.path.join('data', '150', f'{folder_name}',f'{file_name}.mpg')\n",
    "    alignment_path = os.path.join('data','150', 'alignments',f'{folder_name}',f'{file_name}.align')\n",
    "    # print(f'video_path: {video_path}')\n",
    "    # print(f'alignment_path: {alignment_path}')\n",
    "    \n",
    "    video_path = BASE_PATH + video_path\n",
    "    alignment_path = BASE_PATH + alignment_path\n",
    "\n",
    "    # print(video_path)\n",
    "    frames = load_video(video_path)\n",
    "    alignments = load_alignments(alignment_path)\n",
    "    \n",
    "    return frames, alignments"
   ]
  },
  {
   "cell_type": "code",
   "execution_count": 123,
   "id": "5c0b9288-9dee-4262-a868-6e289c14cadc",
   "metadata": {
    "id": "dd01ca9f-77fb-4643-a2aa-47dd82c5d66b",
    "tags": []
   },
   "outputs": [],
   "source": [
    "def load_test_data(path: str):\n",
    "    path = bytes.decode(path.numpy())\n",
    "    # print(\"load_data() path: \" + path)\n",
    "    folder_name = path.split('/')[-2]\n",
    "    # print(\"load_data() folder_name: \" + folder_name)\n",
    "    file_name = path.split('/')[-1].split('.')[0]\n",
    "    # File name splitting for windows\n",
    "    # file_name = path.split('\\\\')[-1].split('.')[0]\n",
    "    video_path = os.path.join('data', f'{folder_name}',f'{file_name}.mpg')\n",
    "    alignment_path = os.path.join('data', 'alignments',f'{folder_name}',f'{file_name}.align')\n",
    "    # print(f'video_path: {video_path}')\n",
    "    # print(f'alignment_path: {alignment_path}')\n",
    "    \n",
    "    video_path = BASE_PATH + video_path\n",
    "    alignment_path = BASE_PATH + alignment_path\n",
    "\n",
    "    # print(video_path)\n",
    "    frames = load_video(video_path)\n",
    "    alignments = load_alignments(alignment_path)\n",
    "    \n",
    "    return frames, alignments"
   ]
  },
  {
   "cell_type": "code",
   "execution_count": 17,
   "id": "8cb7cc58-31ae-4904-a805-1177a82717d2",
   "metadata": {
    "id": "8cb7cc58-31ae-4904-a805-1177a82717d2",
    "tags": []
   },
   "outputs": [],
   "source": [
    "# test_path = BASE_PATH + 'data/s1_/lrwl5s.mpg'"
   ]
  },
  {
   "cell_type": "code",
   "execution_count": 18,
   "id": "76aa964f-0c84-490d-897a-d00e3966e2c9",
   "metadata": {
    "id": "76aa964f-0c84-490d-897a-d00e3966e2c9"
   },
   "outputs": [],
   "source": [
    "# tf.convert_to_tensor(test_path).numpy().decode('utf-8').split('\\\\')[-1].split('.')[0]"
   ]
  },
  {
   "cell_type": "code",
   "execution_count": 19,
   "id": "fd6815f2-678d-4198-87a2-1156ab41c359",
   "metadata": {
    "id": "fd6815f2-678d-4198-87a2-1156ab41c359"
   },
   "outputs": [
    {
     "data": {
      "text/plain": [
       "'lrwl5s'"
      ]
     },
     "execution_count": 19,
     "metadata": {},
     "output_type": "execute_result"
    }
   ],
   "source": [
    "# tf.convert_to_tensor(test_path).numpy().decode('utf-8').split('/')[-1].split('.')[0]"
   ]
  },
  {
   "cell_type": "code",
   "execution_count": 20,
   "id": "eb602c71-8560-4f9e-b26b-08202febb937",
   "metadata": {
    "id": "eb602c71-8560-4f9e-b26b-08202febb937",
    "scrolled": true,
    "tags": []
   },
   "outputs": [],
   "source": [
    "# frames, alignments = load_data(tf.convert_to_tensor(test_path))"
   ]
  },
  {
   "cell_type": "code",
   "execution_count": 21,
   "id": "OsD7wS21b3VC",
   "metadata": {
    "id": "OsD7wS21b3VC"
   },
   "outputs": [
    {
     "data": {
      "text/plain": [
       "<tf.Tensor: shape=(75, 46, 140, 1), dtype=float32, numpy=\n",
       "array([[[[ 1.0672733 ],\n",
       "         [ 0.9486874 ],\n",
       "         [ 0.6719869 ],\n",
       "         ...,\n",
       "         [ 0.27670047],\n",
       "         [ 0.23717184],\n",
       "         [ 0.23717184]],\n",
       "\n",
       "        [[ 0.9486874 ],\n",
       "         [ 0.8696301 ],\n",
       "         [ 0.35575777],\n",
       "         ...,\n",
       "         [ 0.27670047],\n",
       "         [ 0.23717184],\n",
       "         [ 0.23717184]],\n",
       "\n",
       "        [[ 1.4230311 ],\n",
       "         [ 1.4230311 ],\n",
       "         [ 1.1068019 ],\n",
       "         ...,\n",
       "         [ 0.27670047],\n",
       "         [ 0.23717184],\n",
       "         [ 0.23717184]],\n",
       "\n",
       "        ...,\n",
       "\n",
       "        [[ 1.1463306 ],\n",
       "         [ 1.1463306 ],\n",
       "         [ 1.1463306 ],\n",
       "         ...,\n",
       "         [ 0.        ],\n",
       "         [ 0.        ],\n",
       "         [ 0.        ]],\n",
       "\n",
       "        [[ 1.0672733 ],\n",
       "         [ 1.0672733 ],\n",
       "         [ 1.0672733 ],\n",
       "         ...,\n",
       "         [ 0.        ],\n",
       "         [ 0.        ],\n",
       "         [ 0.        ]],\n",
       "\n",
       "        [[ 1.0672733 ],\n",
       "         [ 1.0672733 ],\n",
       "         [ 1.0672733 ],\n",
       "         ...,\n",
       "         [ 0.        ],\n",
       "         [ 0.        ],\n",
       "         [10.079803  ]]],\n",
       "\n",
       "\n",
       "       [[[ 1.2649165 ],\n",
       "         [ 0.988216  ],\n",
       "         [ 0.6719869 ],\n",
       "         ...,\n",
       "         [ 0.27670047],\n",
       "         [ 0.23717184],\n",
       "         [ 0.23717184]],\n",
       "\n",
       "        [[ 1.0277447 ],\n",
       "         [ 1.0672733 ],\n",
       "         [ 0.31622913],\n",
       "         ...,\n",
       "         [ 0.27670047],\n",
       "         [ 0.23717184],\n",
       "         [ 0.23717184]],\n",
       "\n",
       "        [[ 1.3439738 ],\n",
       "         [ 1.2649165 ],\n",
       "         [ 0.988216  ],\n",
       "         ...,\n",
       "         [ 0.23717184],\n",
       "         [ 0.23717184],\n",
       "         [ 0.23717184]],\n",
       "\n",
       "        ...,\n",
       "\n",
       "        [[ 1.1463306 ],\n",
       "         [ 1.1463306 ],\n",
       "         [ 1.0672733 ],\n",
       "         ...,\n",
       "         [ 0.        ],\n",
       "         [ 0.        ],\n",
       "         [ 0.        ]],\n",
       "\n",
       "        [[ 1.1463306 ],\n",
       "         [ 1.1463306 ],\n",
       "         [ 1.0672733 ],\n",
       "         ...,\n",
       "         [ 0.        ],\n",
       "         [ 0.        ],\n",
       "         [ 0.        ]],\n",
       "\n",
       "        [[ 1.1463306 ],\n",
       "         [ 1.1463306 ],\n",
       "         [ 1.0672733 ],\n",
       "         ...,\n",
       "         [ 0.        ],\n",
       "         [ 0.        ],\n",
       "         [10.079803  ]]],\n",
       "\n",
       "\n",
       "       [[[ 1.1463306 ],\n",
       "         [ 0.988216  ],\n",
       "         [ 0.75104415],\n",
       "         ...,\n",
       "         [ 0.23717184],\n",
       "         [ 0.1976432 ],\n",
       "         [ 0.1976432 ]],\n",
       "\n",
       "        [[ 1.1068019 ],\n",
       "         [ 1.0672733 ],\n",
       "         [ 0.3952864 ],\n",
       "         ...,\n",
       "         [ 0.1976432 ],\n",
       "         [ 0.1976432 ],\n",
       "         [ 0.1976432 ]],\n",
       "\n",
       "        [[ 1.3835024 ],\n",
       "         [ 1.3439738 ],\n",
       "         [ 0.988216  ],\n",
       "         ...,\n",
       "         [ 0.23717184],\n",
       "         [ 0.23717184],\n",
       "         [ 0.23717184]],\n",
       "\n",
       "        ...,\n",
       "\n",
       "        [[ 1.1463306 ],\n",
       "         [ 1.1463306 ],\n",
       "         [ 1.1463306 ],\n",
       "         ...,\n",
       "         [10.079803  ],\n",
       "         [ 0.        ],\n",
       "         [10.079803  ]],\n",
       "\n",
       "        [[ 1.1463306 ],\n",
       "         [ 1.1463306 ],\n",
       "         [ 1.1463306 ],\n",
       "         ...,\n",
       "         [10.079803  ],\n",
       "         [10.079803  ],\n",
       "         [10.079803  ]],\n",
       "\n",
       "        [[ 1.1463306 ],\n",
       "         [ 1.1463306 ],\n",
       "         [ 1.1463306 ],\n",
       "         ...,\n",
       "         [10.079803  ],\n",
       "         [10.079803  ],\n",
       "         [10.079803  ]]],\n",
       "\n",
       "\n",
       "       ...,\n",
       "\n",
       "\n",
       "       [[[ 0.6719869 ],\n",
       "         [ 1.0277447 ],\n",
       "         [ 1.0672733 ],\n",
       "         ...,\n",
       "         [ 0.23717184],\n",
       "         [ 0.23717184],\n",
       "         [ 0.23717184]],\n",
       "\n",
       "        [[ 0.55340093],\n",
       "         [ 0.55340093],\n",
       "         [ 0.3952864 ],\n",
       "         ...,\n",
       "         [ 0.23717184],\n",
       "         [ 0.23717184],\n",
       "         [ 0.23717184]],\n",
       "\n",
       "        [[ 1.0672733 ],\n",
       "         [ 1.0672733 ],\n",
       "         [ 0.9091587 ],\n",
       "         ...,\n",
       "         [ 0.27670047],\n",
       "         [ 0.27670047],\n",
       "         [ 0.27670047]],\n",
       "\n",
       "        ...,\n",
       "\n",
       "        [[ 1.0277447 ],\n",
       "         [ 1.0277447 ],\n",
       "         [ 0.988216  ],\n",
       "         ...,\n",
       "         [10.040275  ],\n",
       "         [10.040275  ],\n",
       "         [10.040275  ]],\n",
       "\n",
       "        [[ 1.0277447 ],\n",
       "         [ 1.0277447 ],\n",
       "         [ 0.988216  ],\n",
       "         ...,\n",
       "         [10.040275  ],\n",
       "         [10.040275  ],\n",
       "         [10.040275  ]],\n",
       "\n",
       "        [[ 1.0277447 ],\n",
       "         [ 1.0277447 ],\n",
       "         [ 0.988216  ],\n",
       "         ...,\n",
       "         [10.040275  ],\n",
       "         [10.040275  ],\n",
       "         [10.040275  ]]],\n",
       "\n",
       "\n",
       "       [[[ 0.7905728 ],\n",
       "         [ 1.0672733 ],\n",
       "         [ 1.1858592 ],\n",
       "         ...,\n",
       "         [ 0.23717184],\n",
       "         [ 0.23717184],\n",
       "         [ 0.23717184]],\n",
       "\n",
       "        [[ 0.6719869 ],\n",
       "         [ 0.5138723 ],\n",
       "         [ 0.35575777],\n",
       "         ...,\n",
       "         [ 0.23717184],\n",
       "         [ 0.23717184],\n",
       "         [ 0.23717184]],\n",
       "\n",
       "        [[ 1.1463306 ],\n",
       "         [ 1.1463306 ],\n",
       "         [ 0.9091587 ],\n",
       "         ...,\n",
       "         [ 0.27670047],\n",
       "         [ 0.27670047],\n",
       "         [ 0.27670047]],\n",
       "\n",
       "        ...,\n",
       "\n",
       "        [[ 1.1858592 ],\n",
       "         [ 1.1068019 ],\n",
       "         [ 1.0672733 ],\n",
       "         ...,\n",
       "         [ 0.        ],\n",
       "         [10.079803  ],\n",
       "         [10.079803  ]],\n",
       "\n",
       "        [[ 1.1068019 ],\n",
       "         [ 1.1068019 ],\n",
       "         [ 1.0672733 ],\n",
       "         ...,\n",
       "         [10.079803  ],\n",
       "         [10.040275  ],\n",
       "         [10.040275  ]],\n",
       "\n",
       "        [[ 1.1068019 ],\n",
       "         [ 1.1068019 ],\n",
       "         [ 1.0672733 ],\n",
       "         ...,\n",
       "         [10.079803  ],\n",
       "         [10.040275  ],\n",
       "         [10.040275  ]]],\n",
       "\n",
       "\n",
       "       [[[ 0.7905728 ],\n",
       "         [ 1.0672733 ],\n",
       "         [ 1.2253878 ],\n",
       "         ...,\n",
       "         [ 0.15811457],\n",
       "         [ 0.15811457],\n",
       "         [ 0.15811457]],\n",
       "\n",
       "        [[ 0.6719869 ],\n",
       "         [ 0.5138723 ],\n",
       "         [ 0.3952864 ],\n",
       "         ...,\n",
       "         [ 0.15811457],\n",
       "         [ 0.15811457],\n",
       "         [ 0.15811457]],\n",
       "\n",
       "        [[ 1.1858592 ],\n",
       "         [ 1.1858592 ],\n",
       "         [ 0.9091587 ],\n",
       "         ...,\n",
       "         [ 0.27670047],\n",
       "         [ 0.27670047],\n",
       "         [ 0.27670047]],\n",
       "\n",
       "        ...,\n",
       "\n",
       "        [[ 1.1463306 ],\n",
       "         [ 1.1463306 ],\n",
       "         [ 1.0672733 ],\n",
       "         ...,\n",
       "         [ 0.        ],\n",
       "         [10.079803  ],\n",
       "         [10.079803  ]],\n",
       "\n",
       "        [[ 1.1858592 ],\n",
       "         [ 1.1068019 ],\n",
       "         [ 1.0672733 ],\n",
       "         ...,\n",
       "         [10.079803  ],\n",
       "         [10.040275  ],\n",
       "         [10.040275  ]],\n",
       "\n",
       "        [[ 1.1858592 ],\n",
       "         [ 1.1068019 ],\n",
       "         [ 1.0672733 ],\n",
       "         ...,\n",
       "         [10.079803  ],\n",
       "         [10.040275  ],\n",
       "         [10.040275  ]]]], dtype=float32)>"
      ]
     },
     "execution_count": 21,
     "metadata": {},
     "output_type": "execute_result"
    }
   ],
   "source": [
    "# frames"
   ]
  },
  {
   "cell_type": "code",
   "execution_count": 22,
   "id": "LoQ1pUNEb7XR",
   "metadata": {
    "id": "LoQ1pUNEb7XR"
   },
   "outputs": [
    {
     "data": {
      "text/plain": [
       "<tf.Tensor: shape=(27,), dtype=int64, numpy=\n",
       "array([12,  1, 25, 39, 18,  5,  4, 39, 19, 16, 39, 23,  9, 20,  8, 39, 12,\n",
       "       39,  6,  9, 22,  5, 39, 19, 15, 15, 14])>"
      ]
     },
     "execution_count": 22,
     "metadata": {},
     "output_type": "execute_result"
    }
   ],
   "source": [
    "# alignments"
   ]
  },
  {
   "cell_type": "code",
   "execution_count": 23,
   "id": "bfe004dd-8291-45c7-bbf1-b850990da564",
   "metadata": {
    "id": "bfe004dd-8291-45c7-bbf1-b850990da564"
   },
   "outputs": [
    {
     "data": {
      "text/plain": [
       "<tf.Tensor: shape=(), dtype=string, numpy=b'./data/s1_/lrwl5s.mpg'>"
      ]
     },
     "execution_count": 23,
     "metadata": {},
     "output_type": "execute_result"
    }
   ],
   "source": [
    "# tf.convert_to_tensor(test_path)"
   ]
  },
  {
   "cell_type": "code",
   "execution_count": 24,
   "id": "0e3184a1-6b02-4b4f-84a8-a0a65f951ea2",
   "metadata": {
    "id": "0e3184a1-6b02-4b4f-84a8-a0a65f951ea2"
   },
   "outputs": [
    {
     "data": {
      "text/plain": [
       "<matplotlib.image.AxesImage at 0x7f20c1dbbf50>"
      ]
     },
     "execution_count": 24,
     "metadata": {},
     "output_type": "execute_result"
    },
    {
     "data": {
      "image/png": "[encoded data removed]",
      "text/plain": [
       "<Figure size 640x480 with 1 Axes>"
      ]
     },
     "metadata": {},
     "output_type": "display_data"
    }
   ],
   "source": [
    "# plt.imshow(frames[4]) # frames of video (0 ~ 74)"
   ]
  },
  {
   "cell_type": "code",
   "execution_count": 25,
   "id": "d7ec0833-d54b-4073-84cf-92d011c60ec1",
   "metadata": {
    "id": "d7ec0833-d54b-4073-84cf-92d011c60ec1"
   },
   "outputs": [
    {
     "data": {
      "text/plain": [
       "<tf.Tensor: shape=(27,), dtype=int64, numpy=\n",
       "array([12,  1, 25, 39, 18,  5,  4, 39, 19, 16, 39, 23,  9, 20,  8, 39, 12,\n",
       "       39,  6,  9, 22,  5, 39, 19, 15, 15, 14])>"
      ]
     },
     "execution_count": 25,
     "metadata": {},
     "output_type": "execute_result"
    }
   ],
   "source": [
    "# alignments #[' ', 'bin', ' ', 'blue', ' ', 'at', ' ', 'l', ' ', 'six', ' ', 'now']를 char_to_num을 이용해 숫자로 변환 한 형태"
   ]
  },
  {
   "cell_type": "code",
   "execution_count": 26,
   "id": "255302a9-8a03-4164-a892-e48077b6aa9e",
   "metadata": {
    "id": "255302a9-8a03-4164-a892-e48077b6aa9e"
   },
   "outputs": [
    {
     "data": {
      "text/plain": [
       "array([12,  1, 25, 39, 18,  5,  4, 39, 19, 16, 39, 23,  9, 20,  8, 39, 12,\n",
       "       39,  6,  9, 22,  5, 39, 19, 15, 15, 14])"
      ]
     },
     "execution_count": 26,
     "metadata": {},
     "output_type": "execute_result"
    }
   ],
   "source": [
    "# alignments.numpy()"
   ]
  },
  {
   "cell_type": "code",
   "execution_count": 27,
   "id": "3823e59d-0919-4fba-b9d2-966ba7f59524",
   "metadata": {
    "id": "3823e59d-0919-4fba-b9d2-966ba7f59524"
   },
   "outputs": [
    {
     "data": {
      "text/plain": [
       "<tf.Tensor: shape=(27,), dtype=string, numpy=\n",
       "array([b'l', b'a', b'y', b' ', b'r', b'e', b'd', b' ', b's', b'p', b' ',\n",
       "       b'w', b'i', b't', b'h', b' ', b'l', b' ', b'f', b'i', b'v', b'e',\n",
       "       b' ', b's', b'o', b'o', b'n'], dtype=object)>"
      ]
     },
     "execution_count": 27,
     "metadata": {},
     "output_type": "execute_result"
    }
   ],
   "source": [
    "# num_to_char(alignments.numpy())"
   ]
  },
  {
   "cell_type": "code",
   "execution_count": 28,
   "id": "4eefdf11-8a49-4617-a73a-3765a03d352f",
   "metadata": {
    "id": "4eefdf11-8a49-4617-a73a-3765a03d352f"
   },
   "outputs": [
    {
     "data": {
      "text/plain": [
       "array([b'l', b'a', b'y', b' ', b'r', b'e', b'd', b' ', b's', b'p', b' ',\n",
       "       b'w', b'i', b't', b'h', b' ', b'l', b' ', b'f', b'i', b'v', b'e',\n",
       "       b' ', b's', b'o', b'o', b'n'], dtype=object)"
      ]
     },
     "execution_count": 28,
     "metadata": {},
     "output_type": "execute_result"
    }
   ],
   "source": [
    "# num_to_char(alignments.numpy()).numpy()"
   ]
  },
  {
   "cell_type": "code",
   "execution_count": 29,
   "id": "6bd43f1d-f263-475f-ba38-7683909da32b",
   "metadata": {
    "id": "6bd43f1d-f263-475f-ba38-7683909da32b"
   },
   "outputs": [
    {
     "data": {
      "text/plain": [
       "['l',\n",
       " 'a',\n",
       " 'y',\n",
       " ' ',\n",
       " 'r',\n",
       " 'e',\n",
       " 'd',\n",
       " ' ',\n",
       " 's',\n",
       " 'p',\n",
       " ' ',\n",
       " 'w',\n",
       " 'i',\n",
       " 't',\n",
       " 'h',\n",
       " ' ',\n",
       " 'l',\n",
       " ' ',\n",
       " 'f',\n",
       " 'i',\n",
       " 'v',\n",
       " 'e',\n",
       " ' ',\n",
       " 's',\n",
       " 'o',\n",
       " 'o',\n",
       " 'n']"
      ]
     },
     "execution_count": 29,
     "metadata": {},
     "output_type": "execute_result"
    }
   ],
   "source": [
    "# [bytes.decode(x) for x in num_to_char(alignments.numpy()).numpy()]"
   ]
  },
  {
   "cell_type": "code",
   "execution_count": 30,
   "id": "fe1ad370-b287-4b46-85a2-7c45b0bd9b10",
   "metadata": {
    "id": "fe1ad370-b287-4b46-85a2-7c45b0bd9b10"
   },
   "outputs": [
    {
     "data": {
      "text/plain": [
       "<tf.Tensor: shape=(), dtype=string, numpy=b'lay red sp with l five soon'>"
      ]
     },
     "execution_count": 30,
     "metadata": {},
     "output_type": "execute_result"
    }
   ],
   "source": [
    "# tf.strings.reduce_join([bytes.decode(x) for x in num_to_char(alignments.numpy()).numpy()])"
   ]
  },
  {
   "cell_type": "code",
   "execution_count": 17,
   "id": "6871031a-b0ba-4c76-a852-f6329b0f2606",
   "metadata": {
    "id": "6871031a-b0ba-4c76-a852-f6329b0f2606",
    "tags": []
   },
   "outputs": [],
   "source": [
    "def mappable_function(path:str) ->List[str]:\n",
    "    result = tf.py_function(load_data, [path], (tf.float32, tf.int64))\n",
    "    return result"
   ]
  },
  {
   "cell_type": "markdown",
   "id": "c40a7eb4-0c3e-4eab-9291-5611cb68ce08",
   "metadata": {
    "id": "c40a7eb4-0c3e-4eab-9291-5611cb68ce08",
    "tags": []
   },
   "source": [
    "# 2. Create Data Pipeline"
   ]
  },
  {
   "cell_type": "code",
   "execution_count": 32,
   "id": "bd1a6431-c19d-4315-b27e-95a40e644507",
   "metadata": {
    "scrolled": true
   },
   "outputs": [],
   "source": [
    "# 하위 폴더를 돌며 '._' 로 시작하는 파일 지우기\n",
    "# import os\n",
    "\n",
    "# def remove_dotunderscore_files(root_folder):\n",
    "#     for foldername, subfolders, filenames in os.walk(root_folder):\n",
    "#         for filename in filenames:\n",
    "#             if filename.startswith('._'):\n",
    "#                 file_path = os.path.join(foldername, filename)\n",
    "#                 os.remove(file_path)\n",
    "#                 print(f'Removed: {file_path}')\n",
    "\n",
    "# # 사용 예시\n",
    "# root_directory = './data'\n",
    "# remove_dotunderscore_files(root_directory)\n"
   ]
  },
  {
   "cell_type": "code",
   "execution_count": 18,
   "id": "7686355d-45aa-4c85-ad9c-053e6a9b4d81",
   "metadata": {
    "id": "7686355d-45aa-4c85-ad9c-053e6a9b4d81",
    "tags": []
   },
   "outputs": [],
   "source": [
    "from matplotlib import pyplot as plt"
   ]
  },
  {
   "cell_type": "code",
   "execution_count": 19,
   "id": "Yufekosh-Z9F",
   "metadata": {
    "colab": {
     "base_uri": "https://localhost:8080/"
    },
    "id": "Yufekosh-Z9F",
    "outputId": "c28a0366-68c5-4fa5-c8e2-e89a13a28df4"
   },
   "outputs": [
    {
     "name": "stdout",
     "output_type": "stream",
     "text": [
      "1492\n"
     ]
    }
   ],
   "source": [
    "import os\n",
    "\n",
    "# 기본 디렉토리 경로\n",
    "base_dir = './data/150/'\n",
    "\n",
    "# 서브 디렉토리 목록 (s1부터 s10까지)\n",
    "# s8의 데이터는 문제가 많아서 제외\n",
    "sub_directories = [\n",
    "    # 's2_'\n",
    "    # 's1', 's2',\n",
    "    's1_', 's2_', 's3_', 's4_', 's5_', 's6_', 's7_', 's9_', 's10_', 's11_',\n",
    "    # 's11', 's12', 's13', 's14', 's15', 's16', 's17', 's18', 's19', 's20',\n",
    "    # 's22', 's23', 's24', 's25', 's26', 's27', 's28', 's29', 's30',\n",
    "    # 's31', 's32', 's33', 's34'\n",
    "    ]\n",
    "\n",
    "# 모든 데이터셋을 담을 변수\n",
    "all_data = tf.data.Dataset.list_files([os.path.join(base_dir, sub_dir, '*.mpg') for sub_dir in sub_directories])\n",
    "# all_data = all_data.repeat(100) # 데이터 셋을 epoch 만큼 반복 시켜 늘림\n",
    "print(len(all_data))\n",
    "\n",
    "# 데이터를 메모리에 미리 로드\n",
    "# all_data = all_data.cache()\n",
    "\n",
    "\n",
    "# 데이터셋 확인\n",
    "# for file_path in all_data:\n",
    "    # print(file_path.numpy().decode('utf-8'))\n"
   ]
  },
  {
   "cell_type": "code",
   "execution_count": 20,
   "id": "d3d9c5e9-8345-411e-acb0-074a7694e154",
   "metadata": {
    "id": "d3d9c5e9-8345-411e-acb0-074a7694e154",
    "tags": []
   },
   "outputs": [],
   "source": [
    "data = all_data\n",
    "data_len = len(data)\n",
    "\n",
    "batch_size = 1\n",
    "\n",
    "data = data.shuffle(int(data_len / 10), reshuffle_each_iteration=False) # shuffle for 10 %\n",
    "data = data.map(mappable_function) # load_data -> load_video/load_align 를 거쳐 입모양 부분만 뽑아낸 데이터들이 된다\n",
    "data = data.padded_batch(batch_size, padded_shapes=([75,None,None,None],[40])) # batch_size 개씩 묶어 배치를 구성. 전체 데이터의 수가 1000 / 2 = 500 이 된다. [40]: .align파일의 마지막 열에 있는 단어와 철자들의 합은 40이하이면 되고 모자란 경우 0으로 패딩된다\n",
    "data = data.prefetch(tf.data.AUTOTUNE)\n",
    "\n",
    "# Added for split\n",
    "train_num = int(data_len / batch_size * 0.8)\n",
    "train = data.take(train_num)\n",
    "test = data.skip(train_num)\n"
   ]
  },
  {
   "cell_type": "code",
   "execution_count": 21,
   "id": "63443e18-1b24-499c-8efb-050d7d3f0269",
   "metadata": {
    "id": "63443e18-1b24-499c-8efb-050d7d3f0269",
    "scrolled": true
   },
   "outputs": [],
   "source": [
    "# frames, alignments = data.as_numpy_iterator().next()"
   ]
  },
  {
   "cell_type": "code",
   "execution_count": 22,
   "id": "p2ROUZyOg3JA",
   "metadata": {
    "colab": {
     "base_uri": "https://localhost:8080/"
    },
    "id": "p2ROUZyOg3JA",
    "outputId": "b0616512-47a9-4d4d-8ec4-1fbdb44b7497"
   },
   "outputs": [
    {
     "data": {
      "text/plain": [
       "1193"
      ]
     },
     "execution_count": 22,
     "metadata": {},
     "output_type": "execute_result"
    }
   ],
   "source": [
    "len(train)"
   ]
  },
  {
   "cell_type": "code",
   "execution_count": 23,
   "id": "kk_1KR9lg5vF",
   "metadata": {
    "colab": {
     "base_uri": "https://localhost:8080/"
    },
    "id": "kk_1KR9lg5vF",
    "outputId": "b32b39a0-1bce-4b94-b0ab-0fb4390960d9"
   },
   "outputs": [
    {
     "data": {
      "text/plain": [
       "299"
      ]
     },
     "execution_count": 23,
     "metadata": {},
     "output_type": "execute_result"
    }
   ],
   "source": [
    "len(test)"
   ]
  },
  {
   "cell_type": "code",
   "execution_count": 24,
   "id": "bea067a3-5bf2-4328-a604-e9a2f951a66f",
   "metadata": {
    "id": "bea067a3-5bf2-4328-a604-e9a2f951a66f"
   },
   "outputs": [
    {
     "ename": "NameError",
     "evalue": "name 'frames' is not defined",
     "output_type": "error",
     "traceback": [
      "\u001b[0;31m---------------------------------------------------------------------------\u001b[0m",
      "\u001b[0;31mNameError\u001b[0m                                 Traceback (most recent call last)",
      "Cell \u001b[0;32mIn[24], line 1\u001b[0m\n\u001b[0;32m----> 1\u001b[0m \u001b[38;5;28mprint\u001b[39m(\u001b[38;5;124m\"\u001b[39m\u001b[38;5;124mFrames Shape:\u001b[39m\u001b[38;5;124m\"\u001b[39m, \u001b[43mframes\u001b[49m\u001b[38;5;241m.\u001b[39mshape)\n\u001b[1;32m      2\u001b[0m \u001b[38;5;28mprint\u001b[39m(\u001b[38;5;124m\"\u001b[39m\u001b[38;5;124mAlignments Shape:\u001b[39m\u001b[38;5;124m\"\u001b[39m, alignments\u001b[38;5;241m.\u001b[39mshape)\n\u001b[1;32m      4\u001b[0m \u001b[38;5;66;03m# 만약 값이 너무 크다면, 첫 번째 프레임과 정렬 정보의 일부를 출력해 보세요.\u001b[39;00m\n\u001b[1;32m      5\u001b[0m \u001b[38;5;66;03m# print(\"First Frame:\", frames[0])\u001b[39;00m\n\u001b[1;32m      6\u001b[0m \u001b[38;5;66;03m# print(\"First Alignment:\", alignments[0])\u001b[39;00m\n",
      "\u001b[0;31mNameError\u001b[0m: name 'frames' is not defined"
     ]
    }
   ],
   "source": [
    "# print(\"Frames Shape:\", frames.shape)\n",
    "# print(\"Alignments Shape:\", alignments.shape)\n",
    "\n",
    "# 만약 값이 너무 크다면, 첫 번째 프레임과 정렬 정보의 일부를 출력해 보세요.\n",
    "# print(\"First Frame:\", frames[0])\n",
    "# print(\"First Alignment:\", alignments[0])\n"
   ]
  },
  {
   "cell_type": "code",
   "execution_count": 25,
   "id": "07a9aa19-5c53-493c-aa79-c33a366e5220",
   "metadata": {
    "id": "07a9aa19-5c53-493c-aa79-c33a366e5220"
   },
   "outputs": [
    {
     "ename": "NameError",
     "evalue": "name 'frames' is not defined",
     "output_type": "error",
     "traceback": [
      "\u001b[0;31m---------------------------------------------------------------------------\u001b[0m",
      "\u001b[0;31mNameError\u001b[0m                                 Traceback (most recent call last)",
      "Cell \u001b[0;32mIn[25], line 1\u001b[0m\n\u001b[0;32m----> 1\u001b[0m \u001b[38;5;28mlen\u001b[39m(\u001b[43mframes\u001b[49m)\n",
      "\u001b[0;31mNameError\u001b[0m: name 'frames' is not defined"
     ]
    }
   ],
   "source": [
    "# len(frames)"
   ]
  },
  {
   "cell_type": "code",
   "execution_count": 96,
   "id": "e58c6bba-347c-4a91-8086-f90c60f56dc9",
   "metadata": {
    "id": "e58c6bba-347c-4a91-8086-f90c60f56dc9"
   },
   "outputs": [
    {
     "data": {
      "text/plain": [
       "27"
      ]
     },
     "execution_count": 96,
     "metadata": {},
     "output_type": "execute_result"
    }
   ],
   "source": [
    "# len(alignments)"
   ]
  },
  {
   "cell_type": "code",
   "execution_count": 97,
   "id": "5cf2d676-93a9-434c-b3c7-bdcc2577b2e7",
   "metadata": {
    "id": "5cf2d676-93a9-434c-b3c7-bdcc2577b2e7",
    "tags": []
   },
   "outputs": [],
   "source": [
    "# sample = data.as_numpy_iterator()"
   ]
  },
  {
   "cell_type": "code",
   "execution_count": 98,
   "id": "efa6cd46-7079-46c0-b45b-832f339f6cb0",
   "metadata": {
    "id": "efa6cd46-7079-46c0-b45b-832f339f6cb0",
    "scrolled": true,
    "tags": []
   },
   "outputs": [
    {
     "data": {
      "text/plain": [
       "array([[[[[1.2006118 ],\n",
       "          [1.2006118 ],\n",
       "          [1.2006118 ],\n",
       "          ...,\n",
       "          [9.417298  ],\n",
       "          [9.417298  ],\n",
       "          [9.454818  ]],\n",
       "\n",
       "         [[1.2006118 ],\n",
       "          [1.2006118 ],\n",
       "          [1.2006118 ],\n",
       "          ...,\n",
       "          [9.417298  ],\n",
       "          [9.417298  ],\n",
       "          [9.454818  ]],\n",
       "\n",
       "         [[1.1630927 ],\n",
       "          [1.1630927 ],\n",
       "          [1.1630927 ],\n",
       "          ...,\n",
       "          [9.492337  ],\n",
       "          [9.529856  ],\n",
       "          [9.529856  ]],\n",
       "\n",
       "         ...,\n",
       "\n",
       "         [[0.6003059 ],\n",
       "          [0.6003059 ],\n",
       "          [0.6003059 ],\n",
       "          ...,\n",
       "          [8.479321  ],\n",
       "          [8.51684   ],\n",
       "          [8.554359  ]],\n",
       "\n",
       "         [[0.6003059 ],\n",
       "          [0.6003059 ],\n",
       "          [0.6003059 ],\n",
       "          ...,\n",
       "          [8.479321  ],\n",
       "          [8.51684   ],\n",
       "          [8.591878  ]],\n",
       "\n",
       "         [[0.6003059 ],\n",
       "          [0.6003059 ],\n",
       "          [0.6003059 ],\n",
       "          ...,\n",
       "          [8.51684   ],\n",
       "          [8.591878  ],\n",
       "          [8.704435  ]]],\n",
       "\n",
       "\n",
       "        [[[1.1255735 ],\n",
       "          [1.1255735 ],\n",
       "          [1.1630927 ],\n",
       "          ...,\n",
       "          [9.454818  ],\n",
       "          [9.454818  ],\n",
       "          [9.454818  ]],\n",
       "\n",
       "         [[1.1255735 ],\n",
       "          [1.1255735 ],\n",
       "          [1.1630927 ],\n",
       "          ...,\n",
       "          [9.454818  ],\n",
       "          [9.454818  ],\n",
       "          [9.454818  ]],\n",
       "\n",
       "         [[1.1255735 ],\n",
       "          [1.1255735 ],\n",
       "          [1.1255735 ],\n",
       "          ...,\n",
       "          [9.454818  ],\n",
       "          [9.492337  ],\n",
       "          [9.492337  ]],\n",
       "\n",
       "         ...,\n",
       "\n",
       "         [[0.6003059 ],\n",
       "          [0.6003059 ],\n",
       "          [0.6003059 ],\n",
       "          ...,\n",
       "          [8.479321  ],\n",
       "          [8.479321  ],\n",
       "          [8.51684   ]],\n",
       "\n",
       "         [[0.6003059 ],\n",
       "          [0.6003059 ],\n",
       "          [0.6003059 ],\n",
       "          ...,\n",
       "          [8.479321  ],\n",
       "          [8.51684   ],\n",
       "          [8.554359  ]],\n",
       "\n",
       "         [[0.6003059 ],\n",
       "          [0.6003059 ],\n",
       "          [0.6003059 ],\n",
       "          ...,\n",
       "          [8.51684   ],\n",
       "          [8.554359  ],\n",
       "          [8.629397  ]]],\n",
       "\n",
       "\n",
       "        [[[1.1255735 ],\n",
       "          [1.1255735 ],\n",
       "          [1.1630927 ],\n",
       "          ...,\n",
       "          [9.454818  ],\n",
       "          [9.454818  ],\n",
       "          [9.454818  ]],\n",
       "\n",
       "         [[1.1255735 ],\n",
       "          [1.1255735 ],\n",
       "          [1.1630927 ],\n",
       "          ...,\n",
       "          [9.454818  ],\n",
       "          [9.454818  ],\n",
       "          [9.454818  ]],\n",
       "\n",
       "         [[1.1255735 ],\n",
       "          [1.1255735 ],\n",
       "          [1.1255735 ],\n",
       "          ...,\n",
       "          [9.454818  ],\n",
       "          [9.492337  ],\n",
       "          [9.454818  ]],\n",
       "\n",
       "         ...,\n",
       "\n",
       "         [[0.637825  ],\n",
       "          [0.637825  ],\n",
       "          [0.637825  ],\n",
       "          ...,\n",
       "          [8.51684   ],\n",
       "          [8.479321  ],\n",
       "          [8.51684   ]],\n",
       "\n",
       "         [[0.637825  ],\n",
       "          [0.637825  ],\n",
       "          [0.637825  ],\n",
       "          ...,\n",
       "          [8.51684   ],\n",
       "          [8.51684   ],\n",
       "          [8.554359  ]],\n",
       "\n",
       "         [[0.637825  ],\n",
       "          [0.637825  ],\n",
       "          [0.637825  ],\n",
       "          ...,\n",
       "          [8.554359  ],\n",
       "          [8.554359  ],\n",
       "          [8.629397  ]]],\n",
       "\n",
       "\n",
       "        ...,\n",
       "\n",
       "\n",
       "        [[[1.1630927 ],\n",
       "          [1.1630927 ],\n",
       "          [1.1630927 ],\n",
       "          ...,\n",
       "          [9.567375  ],\n",
       "          [9.567375  ],\n",
       "          [0.        ]],\n",
       "\n",
       "         [[1.1255735 ],\n",
       "          [1.1255735 ],\n",
       "          [1.1255735 ],\n",
       "          ...,\n",
       "          [9.567375  ],\n",
       "          [0.        ],\n",
       "          [0.        ]],\n",
       "\n",
       "         [[1.1255735 ],\n",
       "          [1.1255735 ],\n",
       "          [1.1255735 ],\n",
       "          ...,\n",
       "          [0.        ],\n",
       "          [0.        ],\n",
       "          [0.07503824]],\n",
       "\n",
       "         ...,\n",
       "\n",
       "         [[0.637825  ],\n",
       "          [0.637825  ],\n",
       "          [0.6003059 ],\n",
       "          ...,\n",
       "          [8.704435  ],\n",
       "          [8.779473  ],\n",
       "          [8.854512  ]],\n",
       "\n",
       "         [[0.6003059 ],\n",
       "          [0.6003059 ],\n",
       "          [0.6003059 ],\n",
       "          ...,\n",
       "          [8.779473  ],\n",
       "          [8.816993  ],\n",
       "          [8.96707   ]],\n",
       "\n",
       "         [[0.6003059 ],\n",
       "          [0.6003059 ],\n",
       "          [0.6003059 ],\n",
       "          ...,\n",
       "          [8.816993  ],\n",
       "          [8.892031  ],\n",
       "          [9.004588  ]]],\n",
       "\n",
       "\n",
       "        [[[1.1630927 ],\n",
       "          [1.1630927 ],\n",
       "          [1.1630927 ],\n",
       "          ...,\n",
       "          [9.529856  ],\n",
       "          [9.529856  ],\n",
       "          [9.567375  ]],\n",
       "\n",
       "         [[1.1255735 ],\n",
       "          [1.1255735 ],\n",
       "          [1.1255735 ],\n",
       "          ...,\n",
       "          [9.529856  ],\n",
       "          [9.567375  ],\n",
       "          [9.567375  ]],\n",
       "\n",
       "         [[1.1630927 ],\n",
       "          [1.1630927 ],\n",
       "          [1.1630927 ],\n",
       "          ...,\n",
       "          [9.567375  ],\n",
       "          [9.567375  ],\n",
       "          [0.        ]],\n",
       "\n",
       "         ...,\n",
       "\n",
       "         [[0.6003059 ],\n",
       "          [0.6003059 ],\n",
       "          [0.56278676],\n",
       "          ...,\n",
       "          [8.629397  ],\n",
       "          [8.779473  ],\n",
       "          [8.854512  ]],\n",
       "\n",
       "         [[0.56278676],\n",
       "          [0.56278676],\n",
       "          [0.56278676],\n",
       "          ...,\n",
       "          [8.741955  ],\n",
       "          [8.854512  ],\n",
       "          [8.96707   ]],\n",
       "\n",
       "         [[0.56278676],\n",
       "          [0.56278676],\n",
       "          [0.56278676],\n",
       "          ...,\n",
       "          [8.854512  ],\n",
       "          [8.892031  ],\n",
       "          [9.042108  ]]],\n",
       "\n",
       "\n",
       "        [[[1.1630927 ],\n",
       "          [1.1630927 ],\n",
       "          [1.1630927 ],\n",
       "          ...,\n",
       "          [9.567375  ],\n",
       "          [9.567375  ],\n",
       "          [0.        ]],\n",
       "\n",
       "         [[1.1630927 ],\n",
       "          [1.1630927 ],\n",
       "          [1.1630927 ],\n",
       "          ...,\n",
       "          [9.567375  ],\n",
       "          [0.        ],\n",
       "          [0.        ]],\n",
       "\n",
       "         [[1.1255735 ],\n",
       "          [1.1255735 ],\n",
       "          [1.1255735 ],\n",
       "          ...,\n",
       "          [0.        ],\n",
       "          [0.        ],\n",
       "          [0.07503824]],\n",
       "\n",
       "         ...,\n",
       "\n",
       "         [[0.637825  ],\n",
       "          [0.637825  ],\n",
       "          [0.6003059 ],\n",
       "          ...,\n",
       "          [8.704435  ],\n",
       "          [8.854512  ],\n",
       "          [8.96707   ]],\n",
       "\n",
       "         [[0.637825  ],\n",
       "          [0.637825  ],\n",
       "          [0.6003059 ],\n",
       "          ...,\n",
       "          [8.779473  ],\n",
       "          [8.892031  ],\n",
       "          [9.004588  ]],\n",
       "\n",
       "         [[0.6003059 ],\n",
       "          [0.6003059 ],\n",
       "          [0.6003059 ],\n",
       "          ...,\n",
       "          [8.892031  ],\n",
       "          [8.96707   ],\n",
       "          [9.079627  ]]]]], dtype=float32)"
      ]
     },
     "execution_count": 98,
     "metadata": {},
     "output_type": "execute_result"
    }
   ],
   "source": [
    "# val = sample.next(); val[0]"
   ]
  },
  {
   "cell_type": "code",
   "execution_count": 99,
   "id": "acf5eb4f-a0da-4a9a-bf24-af13e9cc2fbe",
   "metadata": {
    "id": "acf5eb4f-a0da-4a9a-bf24-af13e9cc2fbe",
    "tags": []
   },
   "outputs": [],
   "source": [
    "# imageio.mimsave('./animation.gif', val[0][0], fps=10)\n",
    "# imageio.mimsave('./animation.gif', val[0][0].squeeze(), fps=10)"
   ]
  },
  {
   "cell_type": "code",
   "execution_count": 100,
   "id": "c33a87a2-d5e0-4ec9-b174-73ebf41bf03a",
   "metadata": {
    "id": "c33a87a2-d5e0-4ec9-b174-73ebf41bf03a",
    "tags": []
   },
   "outputs": [],
   "source": [
    "# 0:videos(1:alignments), 0: 1st video out of the batch(0~1),  0: return the first frame in the video(0~74)\n",
    "# plt.imshow(val[0][0][12])"
   ]
  },
  {
   "cell_type": "code",
   "execution_count": 101,
   "id": "46175921-6721-4138-b511-b50573a05567",
   "metadata": {
    "id": "46175921-6721-4138-b511-b50573a05567",
    "tags": []
   },
   "outputs": [],
   "source": [
    "# tf.strings.reduce_join([num_to_char(word) for word in val[1][0]])\n",
    "# ([num_to_char(word) for word in val[1][0]])"
   ]
  },
  {
   "cell_type": "code",
   "execution_count": 102,
   "id": "7ce8a026-d112-4470-a848-89e626a76772",
   "metadata": {
    "id": "7ce8a026-d112-4470-a848-89e626a76772",
    "tags": []
   },
   "outputs": [],
   "source": [
    "# ([(word) for word in val[1][0]]) #마지막에 0의 연속이 들어간 것은 패딩의 효과 인듯"
   ]
  },
  {
   "cell_type": "markdown",
   "id": "0f47733c-83bc-465c-b118-b198b492ad37",
   "metadata": {
    "id": "0f47733c-83bc-465c-b118-b198b492ad37",
    "tags": []
   },
   "source": [
    "# 3. Design the Deep Neural Network"
   ]
  },
  {
   "cell_type": "code",
   "execution_count": 37,
   "id": "d8e9a497-191b-4842-afbd-26f5e13c43ba",
   "metadata": {
    "id": "d8e9a497-191b-4842-afbd-26f5e13c43ba",
    "tags": []
   },
   "outputs": [],
   "source": [
    "from tensorflow.keras.models import Sequential\n",
    "from tensorflow.keras.layers import Conv3D, LSTM, Dense, Dropout, Bidirectional, MaxPool3D, Activation, Reshape, SpatialDropout3D, BatchNormalization, TimeDistributed, Flatten\n",
    "# from tensorflow.keras.optimizers import Adam #`tf.keras.optimizers.Adam` runs slowly on M1/M2 Macs, please use the legacy Keras optimizer instead, located at `tf.keras.optimizers.legacy.Adam`\n",
    "from tensorflow.keras.optimizers.legacy import Adam\n",
    "from tensorflow.keras.callbacks import ModelCheckpoint, LearningRateScheduler"
   ]
  },
  {
   "cell_type": "code",
   "execution_count": 38,
   "id": "3f753ed2-70b9-4236-8c1c-08ca065dc8bf",
   "metadata": {
    "id": "3f753ed2-70b9-4236-8c1c-08ca065dc8bf"
   },
   "outputs": [],
   "source": [
    "# data.as_numpy_iterator().next()[0][0].shape #[0: video][0: 배치 중 1번째]"
   ]
  },
  {
   "cell_type": "code",
   "execution_count": 39,
   "id": "f9171056-a352-491a-9ed9-92b28ced268e",
   "metadata": {
    "id": "f9171056-a352-491a-9ed9-92b28ced268e",
    "tags": []
   },
   "outputs": [],
   "source": [
    "model = Sequential()\n",
    "model.add(Conv3D(128, 3, input_shape=(75,46,140,1), padding='same'))\n",
    "model.add(Activation('relu'))\n",
    "model.add(MaxPool3D((1,2,2)))\n",
    "\n",
    "model.add(Conv3D(256, 3, padding='same'))\n",
    "model.add(Activation('relu'))\n",
    "model.add(MaxPool3D((1,2,2)))\n",
    "\n",
    "model.add(Conv3D(75, 3, padding='same'))\n",
    "model.add(Activation('relu'))\n",
    "model.add(MaxPool3D((1,2,2)))\n",
    "\n",
    "model.add(TimeDistributed(Flatten()))\n",
    "\n",
    "model.add(Bidirectional(LSTM(128, kernel_initializer='Orthogonal', return_sequences=True)))\n",
    "model.add(Dropout(.5))\n",
    "\n",
    "model.add(Bidirectional(LSTM(128, kernel_initializer='Orthogonal', return_sequences=True)))\n",
    "model.add(Dropout(.5))\n",
    "\n",
    "model.add(Dense(char_to_num.vocabulary_size()+1, kernel_initializer='he_normal', activation='softmax'))"
   ]
  },
  {
   "cell_type": "code",
   "execution_count": 40,
   "id": "78851825-2bcd-42a9-b7f2-28bb5a6bf43a",
   "metadata": {
    "colab": {
     "base_uri": "https://localhost:8080/"
    },
    "id": "78851825-2bcd-42a9-b7f2-28bb5a6bf43a",
    "outputId": "0715cb32-fe41-45b7-d2e3-846d0cdfd657",
    "tags": []
   },
   "outputs": [
    {
     "name": "stdout",
     "output_type": "stream",
     "text": [
      "Model: \"sequential_1\"\n",
      "_________________________________________________________________\n",
      " Layer (type)                Output Shape              Param #   \n",
      "=================================================================\n",
      " conv3d_3 (Conv3D)           (None, 75, 46, 140, 128   3584      \n",
      "                             )                                   \n",
      "                                                                 \n",
      " activation_3 (Activation)   (None, 75, 46, 140, 128   0         \n",
      "                             )                                   \n",
      "                                                                 \n",
      " max_pooling3d_3 (MaxPoolin  (None, 75, 23, 70, 128)   0         \n",
      " g3D)                                                            \n",
      "                                                                 \n",
      " conv3d_4 (Conv3D)           (None, 75, 23, 70, 256)   884992    \n",
      "                                                                 \n",
      " activation_4 (Activation)   (None, 75, 23, 70, 256)   0         \n",
      "                                                                 \n",
      " max_pooling3d_4 (MaxPoolin  (None, 75, 11, 35, 256)   0         \n",
      " g3D)                                                            \n",
      "                                                                 \n",
      " conv3d_5 (Conv3D)           (None, 75, 11, 35, 75)    518475    \n",
      "                                                                 \n",
      " activation_5 (Activation)   (None, 75, 11, 35, 75)    0         \n",
      "                                                                 \n",
      " max_pooling3d_5 (MaxPoolin  (None, 75, 5, 17, 75)     0         \n",
      " g3D)                                                            \n",
      "                                                                 \n",
      " time_distributed_1 (TimeDi  (None, 75, 6375)          0         \n",
      " stributed)                                                      \n",
      "                                                                 \n",
      " bidirectional_2 (Bidirecti  (None, 75, 256)           6660096   \n",
      " onal)                                                           \n",
      "                                                                 \n",
      " dropout_2 (Dropout)         (None, 75, 256)           0         \n",
      "                                                                 \n",
      " bidirectional_3 (Bidirecti  (None, 75, 256)           394240    \n",
      " onal)                                                           \n",
      "                                                                 \n",
      " dropout_3 (Dropout)         (None, 75, 256)           0         \n",
      "                                                                 \n",
      " dense_1 (Dense)             (None, 75, 41)            10537     \n",
      "                                                                 \n",
      "=================================================================\n",
      "Total params: 8471924 (32.32 MB)\n",
      "Trainable params: 8471924 (32.32 MB)\n",
      "Non-trainable params: 0 (0.00 Byte)\n",
      "_________________________________________________________________\n"
     ]
    }
   ],
   "source": [
    "model.summary()"
   ]
  },
  {
   "cell_type": "code",
   "execution_count": 41,
   "id": "f4b4798c-a65a-4c47-9e2a-3b09dc98d320",
   "metadata": {
    "id": "f4b4798c-a65a-4c47-9e2a-3b09dc98d320"
   },
   "outputs": [],
   "source": [
    "# 5*17*75"
   ]
  },
  {
   "cell_type": "code",
   "execution_count": 42,
   "id": "e5c2eae0-c359-41a4-97a0-75c44dccb7d1",
   "metadata": {
    "id": "e5c2eae0-c359-41a4-97a0-75c44dccb7d1",
    "tags": []
   },
   "outputs": [],
   "source": [
    "# yhat = model.predict(val[0])"
   ]
  },
  {
   "cell_type": "code",
   "execution_count": 109,
   "id": "ffdc7319-0d69-4f7e-a6d4-ce72deb81c0b",
   "metadata": {
    "id": "ffdc7319-0d69-4f7e-a6d4-ce72deb81c0b"
   },
   "outputs": [],
   "source": [
    "# tf.strings.reduce_join([num_to_char(x) for x in tf.argmax(yhat[0],axis=1)])"
   ]
  },
  {
   "cell_type": "code",
   "execution_count": 110,
   "id": "a8d15c83-c18e-4812-a3e0-6d4b2eb3d302",
   "metadata": {
    "id": "a8d15c83-c18e-4812-a3e0-6d4b2eb3d302"
   },
   "outputs": [],
   "source": [
    "# tf.argmax(yhat[0], axis=1)"
   ]
  },
  {
   "cell_type": "code",
   "execution_count": 111,
   "id": "6ed47531-8317-4255-9a12-b757642258e6",
   "metadata": {
    "id": "6ed47531-8317-4255-9a12-b757642258e6",
    "tags": []
   },
   "outputs": [],
   "source": [
    "# tf.strings.reduce_join([num_to_char(tf.argmax(x)) for x in yhat[0]])"
   ]
  },
  {
   "cell_type": "code",
   "execution_count": 30,
   "id": "7c37b9b9-5298-4038-9c33-5031d1b457f0",
   "metadata": {
    "colab": {
     "base_uri": "https://localhost:8080/"
    },
    "id": "7c37b9b9-5298-4038-9c33-5031d1b457f0",
    "outputId": "ae515f10-318b-4e0a-e563-a4cf3a865a3e",
    "tags": []
   },
   "outputs": [
    {
     "data": {
      "text/plain": [
       "(None, 75, 46, 140, 1)"
      ]
     },
     "execution_count": 30,
     "metadata": {},
     "output_type": "execute_result"
    }
   ],
   "source": [
    "model.input_shape"
   ]
  },
  {
   "cell_type": "code",
   "execution_count": 31,
   "id": "98b316a4-5322-4782-8e36-4b3c1a696d85",
   "metadata": {
    "colab": {
     "base_uri": "https://localhost:8080/"
    },
    "id": "98b316a4-5322-4782-8e36-4b3c1a696d85",
    "outputId": "e8a55eac-50da-405d-9234-d60e29af6e54",
    "tags": []
   },
   "outputs": [
    {
     "data": {
      "text/plain": [
       "(None, 75, 41)"
      ]
     },
     "execution_count": 31,
     "metadata": {},
     "output_type": "execute_result"
    }
   ],
   "source": [
    "model.output_shape"
   ]
  },
  {
   "cell_type": "markdown",
   "id": "2ec02176-5c26-46c3-aff7-8352e6563c7d",
   "metadata": {
    "id": "2ec02176-5c26-46c3-aff7-8352e6563c7d",
    "tags": []
   },
   "source": [
    "# 4. Setup Training Options and Train"
   ]
  },
  {
   "cell_type": "code",
   "execution_count": 43,
   "id": "ab015fd0-7fb4-4d5d-9fa2-30a05dbd515a",
   "metadata": {
    "id": "ab015fd0-7fb4-4d5d-9fa2-30a05dbd515a",
    "tags": []
   },
   "outputs": [],
   "source": [
    "def scheduler(epoch, lr):\n",
    "    if epoch < 30:\n",
    "        return lr\n",
    "    else:\n",
    "        return lr * tf.math.exp(-0.1)"
   ]
  },
  {
   "cell_type": "code",
   "execution_count": 44,
   "id": "c564d5c9-db54-4e88-b311-9aeab7fb3e69",
   "metadata": {
    "id": "c564d5c9-db54-4e88-b311-9aeab7fb3e69",
    "tags": []
   },
   "outputs": [],
   "source": [
    "def CTCLoss(y_true, y_pred):\n",
    "\n",
    "    batch_len = tf.cast(tf.shape(y_true)[0], dtype=\"int64\")\n",
    "    input_length = tf.cast(tf.shape(y_pred)[1], dtype=\"int64\")\n",
    "    label_length = tf.cast(tf.shape(y_true)[1], dtype=\"int64\")\n",
    "\n",
    "    input_length = input_length * tf.ones(shape=(batch_len, 1), dtype=\"int64\")\n",
    "    label_length = label_length * tf.ones(shape=(batch_len, 1), dtype=\"int64\")\n",
    "\n",
    "    loss = tf.keras.backend.ctc_batch_cost(y_true, y_pred, input_length, label_length)\n",
    "    return loss"
   ]
  },
  {
   "cell_type": "code",
   "execution_count": 45,
   "id": "a26dc3fc-a19c-4378-bd8c-e2b597a1d15c",
   "metadata": {
    "id": "a26dc3fc-a19c-4378-bd8c-e2b597a1d15c",
    "tags": []
   },
   "outputs": [],
   "source": [
    "class ProduceExample(tf.keras.callbacks.Callback):\n",
    "\n",
    "    def __init__(self, dataset_) -> None:\n",
    "        self.dataset = dataset_\n",
    "        print(self.dataset)\n",
    "        self.iterator = self.dataset.as_numpy_iterator()\n",
    "\n",
    "\n",
    "    def on_epoch_end(self, epoch, logs=None) -> None:\n",
    "        try:\n",
    "            data = self.iterator.next()\n",
    "        except StopIteration:\n",
    "            self.iterator = self.dataset.as_numpy_iterator()\n",
    "            data = self.iterator.next()\n",
    "\n",
    "        yhat = self.model.predict(data[0])\n",
    "        print(\"yhat------------\")\n",
    "        print(yhat.shape)\n",
    "        print(yhat[0][0])\n",
    "        print(yhat.shape[0])\n",
    "        print(yhat)\n",
    "\n",
    "        batch_size_ = yhat.shape[0]\n",
    "        print(batch_size_)\n",
    "        print(f'len yhat: {len(yhat)}')\n",
    "\n",
    "        decoded = tf.keras.backend.ctc_decode(yhat, [75] * batch_size_, greedy=False)[0][0].numpy()\n",
    "        for x in range(len(yhat)):\n",
    "            print('Original:', tf.strings.reduce_join(num_to_char(data[1][x])).numpy().decode('utf-8'))\n",
    "            print('Prediction:', tf.strings.reduce_join(num_to_char(decoded[x])).numpy().decode('utf-8'))\n",
    "            print('~'*100)"
   ]
  },
  {
   "cell_type": "code",
   "execution_count": 46,
   "id": "04be90d8-2482-46f9-b513-d5f4f8001c7e",
   "metadata": {
    "colab": {
     "base_uri": "https://localhost:8080/"
    },
    "id": "04be90d8-2482-46f9-b513-d5f4f8001c7e",
    "outputId": "5bfc3bb5-d4e4-4a94-87f8-47c1e924bc6d",
    "tags": []
   },
   "outputs": [
    {
     "name": "stdout",
     "output_type": "stream",
     "text": [
      "<_SkipDataset element_spec=(TensorSpec(shape=(None, 75, None, None, None), dtype=tf.float32, name=None), TensorSpec(shape=(None, 40), dtype=tf.int64, name=None))>\n"
     ]
    }
   ],
   "source": [
    "model.compile(optimizer=Adam(learning_rate=0.0001), loss=CTCLoss)\n",
    "checkpoint_callback = ModelCheckpoint(os.path.join(BASE_PATH + 'models','checkpoint'), monitor='loss', save_weights_only=True)\n",
    "schedule_callback = LearningRateScheduler(scheduler)\n",
    "example_callback = ProduceExample(test)"
   ]
  },
  {
   "cell_type": "code",
   "execution_count": 118,
   "id": "PLoaICYFl_KP",
   "metadata": {
    "id": "PLoaICYFl_KP"
   },
   "outputs": [],
   "source": [
    "# spe = int(data_len / batch_size)\n",
    "# print(\"steps_per_epoch: \" + str(spe))"
   ]
  },
  {
   "cell_type": "code",
   "execution_count": 119,
   "id": "39e0ece1-1c23-4b61-9c8e-10318f032fcf",
   "metadata": {},
   "outputs": [],
   "source": [
    "# 트레이스백 필터링 비활성화\n",
    "tf.debugging.disable_traceback_filtering()"
   ]
  },
  {
   "cell_type": "code",
   "execution_count": 120,
   "id": "fe65e229-c79b-4b12-a7f5-7361ebf6d8d0",
   "metadata": {
    "scrolled": true
   },
   "outputs": [],
   "source": [
    "# pip install torch"
   ]
  },
  {
   "cell_type": "code",
   "execution_count": 121,
   "id": "5a625d61-76ec-494a-a3a0-551807c49373",
   "metadata": {},
   "outputs": [
    {
     "name": "stdout",
     "output_type": "stream",
     "text": [
      "cudnn version:8901\n",
      "cuda version: 12.1\n"
     ]
    }
   ],
   "source": [
    "# import tensorflow as tf\n",
    "\n",
    "# print(\"TensorFlow version:\", tf.__version__)\n",
    "# print(\"CUDA version:\", tf.test.is_built_with_cuda())\n",
    "# # print(\"cuDNN version:\", tf.test.is_built_with_cudnn())\n",
    "# print(\"cuDNN version:\", tf.config.list_physical_devices('GPU'))\n",
    "\n",
    "\n",
    "import torch\n",
    "print(\"cudnn version:{}\".format(torch.backends.cudnn.version()))\n",
    "print(\"cuda version: {}\".format(torch.version.cuda))"
   ]
  },
  {
   "cell_type": "code",
   "execution_count": 122,
   "id": "Iap7RVFEL-16",
   "metadata": {
    "colab": {
     "base_uri": "https://localhost:8080/"
    },
    "id": "Iap7RVFEL-16",
    "outputId": "ad12c36d-4f85-429a-c9cc-fffcb892b37a",
    "scrolled": true
   },
   "outputs": [
    {
     "name": "stdout",
     "output_type": "stream",
     "text": [
      "Epoch 1/50\n",
      "1/1 [==============================] - 1s 901ms/step - loss: 78.80\n",
      "yhat------------\n",
      "(1, 75, 41)\n",
      "[0.00614552 0.03378477 0.13781337 0.00551973 0.00367048 0.0294256\n",
      " 0.00289672 0.00574014 0.00363985 0.02751667 0.00214086 0.00205911\n",
      " 0.26640752 0.00211815 0.01047057 0.00279005 0.17981973 0.00339729\n",
      " 0.00683529 0.16945863 0.01749746 0.00357504 0.00193665 0.00508477\n",
      " 0.00225753 0.01007132 0.00215888 0.00082062 0.00100834 0.0010231\n",
      " 0.00211802 0.00155704 0.00054392 0.00113166 0.00109391 0.00141836\n",
      " 0.0017674  0.00072449 0.002151   0.00998338 0.03042704]\n",
      "1\n",
      "[[[6.1455159e-03 3.3784766e-02 1.3781337e-01 ... 2.1510031e-03\n",
      "   9.9833841e-03 3.0427042e-02]\n",
      "  [4.1881795e-03 1.8931794e-01 6.2452327e-02 ... 1.2980463e-03\n",
      "   2.0527365e-02 3.1474460e-02]\n",
      "  [3.2406920e-03 2.6545128e-01 2.8476775e-02 ... 1.0412335e-03\n",
      "   6.5334164e-02 2.6527349e-02]\n",
      "  ...\n",
      "  [4.8103160e-01 2.6657654e-04 3.3560253e-05 ... 4.4745957e-05\n",
      "   5.7159225e-05 5.1582557e-01]\n",
      "  [3.1484413e-01 3.3291033e-04 4.1059495e-05 ... 4.5945832e-05\n",
      "   6.4705710e-05 6.8160343e-01]\n",
      "  [9.4042963e-01 3.0457744e-04 3.3723860e-05 ... 7.6445147e-05\n",
      "   7.1896495e-05 5.6067806e-02]]]\n",
      "1\n",
      "len yhat: 1\n",
      "Original: set blue with u zero soon\n",
      "Prediction: la e e i o o\n",
      "~~~~~~~~~~~~~~~~~~~~~~~~~~~~~~~~~~~~~~~~~~~~~~~~~~~~~~~~~~~~~~~~~~~~~~~~~~~~~~~~~~~~~~~~~~~~~~~~~~~~\n",
      "1193/1193 [==============================] - 500s 415ms/step - loss: 78.8073 - val_loss: 64.9786 - lr: 1.0000e-04\n",
      "Epoch 2/50\n",
      "1/1 [==============================] - 0s 29ms/steps - loss: 65.88\n",
      "yhat------------\n",
      "(1, 75, 41)\n",
      "[2.5470045e-03 1.3780442e-02 1.7021522e-01 2.2827932e-03 1.5738682e-03\n",
      " 2.3071134e-02 1.1292889e-03 3.2437858e-03 1.5219965e-03 2.0638499e-02\n",
      " 1.0567268e-03 1.0334839e-03 2.6245540e-01 6.3974300e-04 5.0333999e-03\n",
      " 1.3002468e-03 2.2424196e-01 1.0237899e-03 3.3227578e-03 2.2330825e-01\n",
      " 8.2689375e-03 1.5174102e-03 7.9579046e-04 2.0179432e-03 9.6520735e-04\n",
      " 3.4268165e-03 1.1213165e-03 3.5204965e-04 4.0840363e-04 3.7549293e-04\n",
      " 4.9719360e-04 4.6947543e-04 2.2840181e-04 4.3037959e-04 4.2802517e-04\n",
      " 4.6234325e-04 5.5737287e-04 2.9189591e-04 6.2374538e-04 4.3022404e-03\n",
      " 9.0398537e-03]\n",
      "1\n",
      "[[[2.5470045e-03 1.3780442e-02 1.7021522e-01 ... 6.2374538e-04\n",
      "   4.3022404e-03 9.0398537e-03]\n",
      "  [2.9478285e-03 2.6794007e-01 1.9535877e-02 ... 2.6668439e-04\n",
      "   7.2719068e-03 1.0956095e-02]\n",
      "  [1.7537875e-03 2.8283244e-01 3.9030986e-03 ... 2.0503873e-04\n",
      "   3.9961074e-02 6.3976082e-03]\n",
      "  ...\n",
      "  [6.3299978e-01 9.5534728e-05 1.2132414e-05 ... 1.9523579e-05\n",
      "   1.9250376e-05 3.6561644e-01]\n",
      "  [5.6975950e-02 1.0594588e-04 1.7167557e-05 ... 9.1309594e-06\n",
      "   2.1652064e-05 9.4172919e-01]\n",
      "  [9.8335427e-01 7.6451259e-05 7.8598769e-06 ... 2.0727164e-05\n",
      "   1.6815444e-05 1.5699269e-02]]]\n",
      "1\n",
      "len yhat: 1\n",
      "Original: bin green by o zero again\n",
      "Prediction: la e e e eon\n",
      "~~~~~~~~~~~~~~~~~~~~~~~~~~~~~~~~~~~~~~~~~~~~~~~~~~~~~~~~~~~~~~~~~~~~~~~~~~~~~~~~~~~~~~~~~~~~~~~~~~~~\n",
      "1193/1193 [==============================] - 365s 306ms/step - loss: 65.8872 - val_loss: 60.2702 - lr: 1.0000e-04\n",
      "Epoch 3/50\n",
      "1/1 [==============================] - 0s 29ms/steps - loss: 61.76\n",
      "yhat------------\n",
      "(1, 75, 41)\n",
      "[1.2679027e-03 6.0672965e-03 2.1219337e-01 1.2306316e-03 8.8450883e-04\n",
      " 1.6412083e-02 6.8142771e-04 2.9238509e-03 9.9174527e-04 1.1259310e-02\n",
      " 5.3726387e-04 6.8227696e-04 2.2460261e-01 3.6106253e-04 2.2253119e-03\n",
      " 1.0752565e-03 2.4189951e-01 5.1045610e-04 2.0404179e-03 2.5327966e-01\n",
      " 3.5953058e-03 9.4549597e-04 5.3061469e-04 1.4773671e-03 5.9151684e-04\n",
      " 1.3111585e-03 8.2508253e-04 1.4756132e-04 1.7601752e-04 1.7260338e-04\n",
      " 2.0681419e-04 2.0502185e-04 1.3014395e-04 2.4032587e-04 1.8604874e-04\n",
      " 1.9255227e-04 2.8597953e-04 1.4719806e-04 2.8147147e-04 2.7781336e-03\n",
      " 4.4476069e-03]\n",
      "1\n",
      "[[[1.26790267e-03 6.06729649e-03 2.12193370e-01 ... 2.81471468e-04\n",
      "   2.77813361e-03 4.44760686e-03]\n",
      "  [1.75517309e-03 2.12923631e-01 1.27488188e-02 ... 8.63759196e-05\n",
      "   3.27964080e-03 5.26195532e-03]\n",
      "  [1.13198010e-03 2.54334360e-01 2.01179856e-03 ... 8.33332379e-05\n",
      "   1.99359115e-02 1.86500372e-03]\n",
      "  ...\n",
      "  [9.93258834e-01 1.52926514e-05 1.48039567e-06 ... 5.26852773e-06\n",
      "   2.80006952e-06 6.51905173e-03]\n",
      "  [7.07235606e-03 3.54954427e-05 5.78286199e-06 ... 1.83280929e-06\n",
      "   7.19426635e-06 9.92490351e-01]\n",
      "  [9.94063437e-01 4.08264787e-05 3.36563835e-06 ... 1.05290865e-05\n",
      "   6.85071427e-06 5.47226518e-03]]]\n",
      "1\n",
      "len yhat: 1\n",
      "Original: bin red in z one now\n",
      "Prediction: la re t e an\n",
      "~~~~~~~~~~~~~~~~~~~~~~~~~~~~~~~~~~~~~~~~~~~~~~~~~~~~~~~~~~~~~~~~~~~~~~~~~~~~~~~~~~~~~~~~~~~~~~~~~~~~\n",
      "1193/1193 [==============================] - 365s 306ms/step - loss: 61.7688 - val_loss: 54.7571 - lr: 1.0000e-04\n",
      "Epoch 4/50\n",
      "1/1 [==============================] - 0s 33ms/steps - loss: 56.05\n",
      "yhat------------\n",
      "(1, 75, 41)\n",
      "[8.19510198e-04 4.92117135e-03 1.93314537e-01 7.31843233e-04\n",
      " 4.79429087e-04 9.84427799e-03 4.86984587e-04 2.01639580e-03\n",
      " 7.01671524e-04 8.16998351e-03 3.78391880e-04 4.30399959e-04\n",
      " 3.00652087e-01 2.31588056e-04 1.28424598e-03 8.04414391e-04\n",
      " 2.60566890e-01 3.80405196e-04 1.44986797e-03 2.00011089e-01\n",
      " 2.19298503e-03 5.98061131e-04 4.02394624e-04 8.54957209e-04\n",
      " 5.58806234e-04 9.03256470e-04 5.27040160e-04 8.10999190e-05\n",
      " 9.57165685e-05 9.99595359e-05 1.02888465e-04 1.22600934e-04\n",
      " 7.85300290e-05 1.37729498e-04 1.09778834e-04 1.01040256e-04\n",
      " 1.37323572e-04 8.51862424e-05 1.59034171e-04 1.59806502e-03\n",
      " 3.37826274e-03]\n",
      "1\n",
      "[[[8.1951020e-04 4.9211713e-03 1.9331454e-01 ... 1.5903417e-04\n",
      "   1.5980650e-03 3.3782627e-03]\n",
      "  [1.0635764e-03 2.4367622e-01 5.7309773e-03 ... 3.5256635e-05\n",
      "   1.4665978e-03 4.5673428e-03]\n",
      "  [7.2266388e-04 3.1445336e-01 6.2467577e-04 ... 4.1045783e-05\n",
      "   6.7367260e-03 1.1007172e-03]\n",
      "  ...\n",
      "  [9.9690384e-01 6.3395250e-06 5.8289845e-07 ... 2.0187560e-06\n",
      "   1.2074274e-06 2.9997106e-03]\n",
      "  [7.7173882e-03 1.8668350e-05 3.1400382e-06 ... 7.8778811e-07\n",
      "   4.1804992e-06 9.9202162e-01]\n",
      "  [9.9527419e-01 2.1585942e-05 1.8969279e-06 ... 4.8965048e-06\n",
      "   4.0649938e-06 4.4629476e-03]]]\n",
      "1\n",
      "len yhat: 1\n",
      "Original: bin blue at l five again\n",
      "Prediction: la re t e ao\n",
      "~~~~~~~~~~~~~~~~~~~~~~~~~~~~~~~~~~~~~~~~~~~~~~~~~~~~~~~~~~~~~~~~~~~~~~~~~~~~~~~~~~~~~~~~~~~~~~~~~~~~\n",
      "1193/1193 [==============================] - 367s 308ms/step - loss: 56.0573 - val_loss: 52.3568 - lr: 1.0000e-04\n",
      "Epoch 5/50\n",
      "1/1 [==============================] - 0s 29ms/steps - loss: 53.45\n",
      "yhat------------\n",
      "(1, 75, 41)\n",
      "[5.8099197e-04 3.3269846e-03 2.1354961e-01 5.5420300e-04 3.4576366e-04\n",
      " 6.7727021e-03 3.9419479e-04 1.6627287e-03 8.6136971e-04 6.3474369e-03\n",
      " 3.0931053e-04 3.0050252e-04 2.8588948e-01 1.9673487e-04 9.0165029e-04\n",
      " 7.3740480e-04 2.7450389e-01 3.4372360e-04 1.4921969e-03 1.9155358e-01\n",
      " 1.7082428e-03 4.5747502e-04 3.5485465e-04 7.4138102e-04 4.0063297e-04\n",
      " 6.4075663e-04 5.0543767e-04 4.8740963e-05 5.8854304e-05 6.3861866e-05\n",
      " 5.6598125e-05 6.5120432e-05 4.5144705e-05 8.2740000e-05 6.7983456e-05\n",
      " 5.3340169e-05 8.5073552e-05 5.2747757e-05 8.7441804e-05 1.5303508e-03\n",
      " 2.2687090e-03]\n",
      "1\n",
      "[[[5.8099197e-04 3.3269846e-03 2.1354961e-01 ... 8.7441804e-05\n",
      "   1.5303508e-03 2.2687090e-03]\n",
      "  [5.9607235e-04 1.7919663e-01 5.0911624e-03 ... 1.8152276e-05\n",
      "   8.7578327e-04 2.7626527e-03]\n",
      "  [4.3488992e-04 4.3095067e-01 4.5636768e-04 ... 2.6891281e-05\n",
      "   3.0210903e-03 6.0410547e-04]\n",
      "  ...\n",
      "  [9.9399829e-01 6.0395064e-06 8.2535973e-07 ... 2.0741588e-06\n",
      "   1.4117650e-06 5.9071463e-03]\n",
      "  [1.4995603e-02 1.8694338e-05 3.8694970e-06 ... 7.8677203e-07\n",
      "   4.6315572e-06 9.8473793e-01]\n",
      "  [9.9314237e-01 2.0143840e-05 2.6899259e-06 ... 6.1329110e-06\n",
      "   4.3839550e-06 6.5990146e-03]]]\n",
      "1\n",
      "len yhat: 1\n",
      "Original: lay blue by k four again\n",
      "Prediction: la re i e aon\n",
      "~~~~~~~~~~~~~~~~~~~~~~~~~~~~~~~~~~~~~~~~~~~~~~~~~~~~~~~~~~~~~~~~~~~~~~~~~~~~~~~~~~~~~~~~~~~~~~~~~~~~\n",
      "1193/1193 [==============================] - 368s 308ms/step - loss: 53.4562 - val_loss: 49.3852 - lr: 1.0000e-04\n",
      "Epoch 6/50\n",
      "1/1 [==============================] - 0s 29ms/steps - loss: 51.23\n",
      "yhat------------\n",
      "(1, 75, 41)\n",
      "[5.3837697e-04 2.6630047e-03 1.9283174e-01 5.2497565e-04 3.0777801e-04\n",
      " 5.8865659e-03 4.8722123e-04 1.7302420e-03 1.1506029e-03 5.5072731e-03\n",
      " 3.0158448e-04 3.9704374e-04 2.5217429e-01 2.2347379e-04 9.5538277e-04\n",
      " 7.6212728e-04 2.5825134e-01 3.4473379e-04 1.7404655e-03 2.6366743e-01\n",
      " 1.9071882e-03 5.1168125e-04 3.9469797e-04 7.3222548e-04 4.3510951e-04\n",
      " 6.4129924e-04 5.3459575e-04 3.9894076e-05 4.0287228e-05 3.8939354e-05\n",
      " 4.5270492e-05 4.6067456e-05 3.2670956e-05 6.1380320e-05 4.8308495e-05\n",
      " 4.6634406e-05 5.2932428e-05 3.3437016e-05 7.2002440e-05 1.7234026e-03\n",
      " 2.1163572e-03]\n",
      "1\n",
      "[[[5.3837697e-04 2.6630047e-03 1.9283174e-01 ... 7.2002440e-05\n",
      "   1.7234026e-03 2.1163572e-03]\n",
      "  [5.0066318e-04 9.6255131e-02 4.8716543e-03 ... 9.5189307e-06\n",
      "   8.5444038e-04 3.3668536e-03]\n",
      "  [5.0463359e-04 4.2587313e-01 4.9311604e-04 ... 2.0223655e-05\n",
      "   2.8705739e-03 7.4361829e-04]\n",
      "  ...\n",
      "  [9.9276543e-01 4.7623657e-06 1.0747207e-06 ... 1.8776346e-06\n",
      "   1.4832292e-06 7.1428474e-03]\n",
      "  [2.4668965e-02 1.7627011e-05 6.4635919e-06 ... 7.6624190e-07\n",
      "   5.4166471e-06 9.7504073e-01]\n",
      "  [9.9268967e-01 1.3938598e-05 3.0841031e-06 ... 4.3049258e-06\n",
      "   4.1500907e-06 7.0999013e-03]]]\n",
      "1\n",
      "len yhat: 1\n",
      "Original: place white in c two now\n",
      "Prediction: la re t e on\n",
      "~~~~~~~~~~~~~~~~~~~~~~~~~~~~~~~~~~~~~~~~~~~~~~~~~~~~~~~~~~~~~~~~~~~~~~~~~~~~~~~~~~~~~~~~~~~~~~~~~~~~\n",
      "1193/1193 [==============================] - 366s 307ms/step - loss: 51.2390 - val_loss: 47.9870 - lr: 1.0000e-04\n",
      "Epoch 7/50\n",
      "1/1 [==============================] - 0s 30ms/steps - loss: 49.28\n",
      "yhat------------\n",
      "(1, 75, 41)\n",
      "[4.8926385e-04 1.9501460e-03 2.0298135e-01 4.0055902e-04 2.1316479e-04\n",
      " 4.4375053e-03 3.7074246e-04 1.4109382e-03 1.0680107e-03 4.4019115e-03\n",
      " 2.0737163e-04 2.8153902e-04 3.1337100e-01 1.4823349e-04 7.2481431e-04\n",
      " 6.6137797e-04 2.3949732e-01 2.6203060e-04 1.4898287e-03 2.1833926e-01\n",
      " 1.2110269e-03 3.8896000e-04 3.0594162e-04 6.7199272e-04 3.7824150e-04\n",
      " 4.7581038e-04 3.8025388e-04 2.1441083e-05 2.0332407e-05 2.0897078e-05\n",
      " 2.1342668e-05 2.0693642e-05 1.5567186e-05 3.3335240e-05 2.2157823e-05\n",
      " 2.2079417e-05 2.4487585e-05 1.6056807e-05 3.3462038e-05 1.5011176e-03\n",
      " 1.7083966e-03]\n",
      "1\n",
      "[[[4.8926385e-04 1.9501460e-03 2.0298135e-01 ... 3.3462038e-05\n",
      "   1.5011176e-03 1.7083966e-03]\n",
      "  [3.5406643e-04 6.0421329e-02 3.7593914e-03 ... 3.8055721e-06\n",
      "   6.3442241e-04 2.5303480e-03]\n",
      "  [3.6805481e-04 5.5944651e-01 3.2468923e-04 ... 9.8713890e-06\n",
      "   1.7069094e-03 5.2978843e-04]\n",
      "  ...\n",
      "  [9.9131268e-01 4.1609592e-06 1.1531703e-06 ... 1.1342337e-06\n",
      "   1.3186143e-06 8.5968599e-03]\n",
      "  [8.0160096e-02 2.0806227e-05 1.1558143e-05 ... 8.7397046e-07\n",
      "   7.6768074e-06 9.1940951e-01]\n",
      "  [9.9101877e-01 1.1843232e-05 3.9384095e-06 ... 2.8109150e-06\n",
      "   4.1119497e-06 8.7651052e-03]]]\n",
      "1\n",
      "len yhat: 1\n",
      "Original: lay white sp by b eight now\n",
      "Prediction: la bre i e aon\n",
      "~~~~~~~~~~~~~~~~~~~~~~~~~~~~~~~~~~~~~~~~~~~~~~~~~~~~~~~~~~~~~~~~~~~~~~~~~~~~~~~~~~~~~~~~~~~~~~~~~~~~\n",
      "1193/1193 [==============================] - 367s 308ms/step - loss: 49.2850 - val_loss: 45.8206 - lr: 1.0000e-04\n",
      "Epoch 8/50\n",
      "1/1 [==============================] - 0s 30ms/steps - loss: 47.65\n",
      "yhat------------\n",
      "(1, 75, 41)\n",
      "[4.11097688e-04 1.64282799e-03 2.06761122e-01 4.26187878e-04\n",
      " 1.91262079e-04 3.18053621e-03 4.24804137e-04 1.68150023e-03\n",
      " 1.12591847e-03 3.98793397e-03 2.24260104e-04 2.68634845e-04\n",
      " 2.72269964e-01 1.80031522e-04 6.80863450e-04 7.01630779e-04\n",
      " 2.53210425e-01 3.05075606e-04 1.61917706e-03 2.44310513e-01\n",
      " 9.26926732e-04 3.13079974e-04 3.41859006e-04 6.09543815e-04\n",
      " 3.48260975e-04 4.32809757e-04 4.23623831e-04 1.57116010e-05\n",
      " 1.60374602e-05 1.65273341e-05 1.50073929e-05 1.41487981e-05\n",
      " 1.05850213e-05 2.21424398e-05 1.49815114e-05 1.63893365e-05\n",
      " 1.74502529e-05 1.22339325e-05 2.03697236e-05 1.44902698e-03\n",
      " 1.35952805e-03]\n",
      "1\n",
      "[[[4.11097688e-04 1.64282799e-03 2.06761122e-01 ... 2.03697236e-05\n",
      "   1.44902698e-03 1.35952805e-03]\n",
      "  [3.09262454e-04 3.79672535e-02 3.25691747e-03 ... 1.90047422e-06\n",
      "   5.91908232e-04 2.88107223e-03]\n",
      "  [3.33756383e-04 5.46678066e-01 2.95267935e-04 ... 5.81620270e-06\n",
      "   1.71779958e-03 5.66513161e-04]\n",
      "  ...\n",
      "  [9.87520933e-01 3.07545042e-06 8.95947437e-07 ... 5.51014693e-07\n",
      "   1.15583862e-06 1.24008367e-02]\n",
      "  [7.59469718e-02 1.14304812e-05 4.93057951e-06 ... 1.95106779e-07\n",
      "   4.71137901e-06 9.23811853e-01]\n",
      "  [9.82140362e-01 1.06673415e-05 4.01829629e-06 ... 1.40929069e-06\n",
      "   4.52942777e-06 1.76387466e-02]]]\n",
      "1\n",
      "len yhat: 1\n",
      "Original: lay white at q eight again\n",
      "Prediction: la gre it oe aon\n",
      "~~~~~~~~~~~~~~~~~~~~~~~~~~~~~~~~~~~~~~~~~~~~~~~~~~~~~~~~~~~~~~~~~~~~~~~~~~~~~~~~~~~~~~~~~~~~~~~~~~~~\n",
      "1193/1193 [==============================] - 369s 309ms/step - loss: 47.6597 - val_loss: 44.1535 - lr: 1.0000e-04\n",
      "Epoch 9/50\n",
      "1/1 [==============================] - 0s 30ms/steps - loss: 46.68\n",
      "yhat------------\n",
      "(1, 75, 41)\n",
      "[4.3215076e-04 1.3565844e-03 1.8228607e-01 4.0748058e-04 1.5233576e-04\n",
      " 3.1609107e-03 3.8762134e-04 1.5077407e-03 1.0644217e-03 3.7445656e-03\n",
      " 2.1068196e-04 2.5769536e-04 2.6749343e-01 1.8607837e-04 5.8398442e-04\n",
      " 5.1294366e-04 3.3010748e-01 2.5967241e-04 1.5172608e-03 1.9880792e-01\n",
      " 8.5927738e-04 2.8977171e-04 2.7546324e-04 5.1493087e-04 2.9486875e-04\n",
      " 4.1278821e-04 3.8205532e-04 7.5845746e-06 8.7551471e-06 9.4655506e-06\n",
      " 7.4404020e-06 7.0826936e-06 5.0876647e-06 9.6551057e-06 7.8640578e-06\n",
      " 7.6865781e-06 8.0827986e-06 6.0550583e-06 1.1618236e-05 1.2952171e-03\n",
      " 1.1422851e-03]\n",
      "1\n",
      "[[[4.3215076e-04 1.3565844e-03 1.8228607e-01 ... 1.1618236e-05\n",
      "   1.2952171e-03 1.1422851e-03]\n",
      "  [2.6809869e-04 2.6531199e-02 2.1481856e-03 ... 5.3494284e-07\n",
      "   3.8037519e-04 2.1805365e-03]\n",
      "  [3.2694594e-04 6.0852998e-01 2.0424898e-04 ... 2.9786954e-06\n",
      "   1.0920730e-03 5.2032556e-04]\n",
      "  ...\n",
      "  [9.8231399e-01 2.6229259e-06 8.6521226e-07 ... 2.9702528e-07\n",
      "   1.2607086e-06 1.7604003e-02]\n",
      "  [8.5872941e-02 8.0763302e-06 3.2177268e-06 ... 8.0878984e-08\n",
      "   4.0243840e-06 9.1393012e-01]\n",
      "  [9.7475964e-01 9.9116924e-06 4.0144096e-06 ... 7.3779592e-07\n",
      "   4.7050935e-06 2.5005314e-02]]]\n",
      "1\n",
      "len yhat: 1\n",
      "Original: set green at b nine now\n",
      "Prediction: pla wre it ie aon\n",
      "~~~~~~~~~~~~~~~~~~~~~~~~~~~~~~~~~~~~~~~~~~~~~~~~~~~~~~~~~~~~~~~~~~~~~~~~~~~~~~~~~~~~~~~~~~~~~~~~~~~~\n",
      "1193/1193 [==============================] - 367s 307ms/step - loss: 46.6881 - val_loss: 43.2120 - lr: 1.0000e-04\n",
      "Epoch 10/50\n",
      "1/1 [==============================] - 0s 30ms/steps - loss: 45.77\n",
      "yhat------------\n",
      "(1, 75, 41)\n",
      "[4.5021586e-04 1.2155214e-03 2.1850495e-01 3.7220804e-04 1.7406259e-04\n",
      " 2.7112986e-03 3.7152358e-04 1.5702699e-03 1.1753311e-03 3.5973757e-03\n",
      " 2.0567692e-04 2.4915274e-04 2.6714376e-01 1.8644366e-04 5.7349005e-04\n",
      " 5.3982384e-04 2.6855829e-01 2.7116787e-04 1.5549802e-03 2.2506577e-01\n",
      " 7.5617747e-04 2.8452036e-04 2.5414862e-04 5.5561349e-04 2.7681395e-04\n",
      " 4.4140351e-04 4.1430898e-04 4.7043650e-06 5.2027244e-06 5.8826658e-06\n",
      " 4.3563359e-06 4.2819147e-06 2.8202389e-06 6.4812716e-06 4.6891932e-06\n",
      " 5.0007211e-06 4.5843581e-06 3.9901479e-06 7.2175394e-06 1.3421896e-03\n",
      " 1.1242855e-03]\n",
      "1\n",
      "[[[4.5021586e-04 1.2155214e-03 2.1850495e-01 ... 7.2175394e-06\n",
      "   1.3421896e-03 1.1242855e-03]\n",
      "  [2.6274263e-04 2.2212328e-02 2.3184582e-03 ... 2.5105086e-07\n",
      "   3.5479729e-04 2.3087312e-03]\n",
      "  [3.1902536e-04 5.4013759e-01 1.9766022e-04 ... 1.5406835e-06\n",
      "   1.1751386e-03 5.3648057e-04]\n",
      "  ...\n",
      "  [9.6018159e-01 3.5499434e-06 1.3004480e-06 ... 2.1733661e-07\n",
      "   1.7242437e-06 3.9701525e-02]\n",
      "  [7.2040938e-02 7.0294836e-06 2.3745661e-06 ... 4.0722657e-08\n",
      "   3.4576069e-06 9.2780131e-01]\n",
      "  [9.1980481e-01 1.5825502e-05 8.2679853e-06 ... 9.4735128e-07\n",
      "   7.2232560e-06 7.9807319e-02]]]\n",
      "1\n",
      "len yhat: 1\n",
      "Original: place blue by c zero please\n",
      "Prediction: la bre it ie aon\n",
      "~~~~~~~~~~~~~~~~~~~~~~~~~~~~~~~~~~~~~~~~~~~~~~~~~~~~~~~~~~~~~~~~~~~~~~~~~~~~~~~~~~~~~~~~~~~~~~~~~~~~\n",
      "1193/1193 [==============================] - 367s 307ms/step - loss: 45.7774 - val_loss: 42.5570 - lr: 1.0000e-04\n",
      "Epoch 11/50\n",
      "1/1 [==============================] - 0s 29ms/steps - loss: 44.85\n",
      "yhat------------\n",
      "(1, 75, 41)\n",
      "[4.9338263e-04 1.1992393e-03 1.9976053e-01 3.8147639e-04 1.6532087e-04\n",
      " 2.9011951e-03 4.0702187e-04 1.6065106e-03 1.2065250e-03 3.9442461e-03\n",
      " 1.7840347e-04 2.3382696e-04 3.0285919e-01 1.9178324e-04 5.5358605e-04\n",
      " 5.2914157e-04 2.4138787e-01 2.7172777e-04 1.7100067e-03 2.3406993e-01\n",
      " 7.4342091e-04 2.7158359e-04 2.6856500e-04 6.3055084e-04 2.8486594e-04\n",
      " 4.2964105e-04 4.3002723e-04 3.0337239e-06 3.0707495e-06 3.4345267e-06\n",
      " 2.4607052e-06 2.3894843e-06 1.5686603e-06 3.4720968e-06 2.7538831e-06\n",
      " 2.8215729e-06 2.6387277e-06 2.2962511e-06 4.0055697e-06 1.5869276e-03\n",
      " 1.2695020e-03]\n",
      "1\n",
      "[[[4.9338263e-04 1.1992393e-03 1.9976053e-01 ... 4.0055697e-06\n",
      "   1.5869276e-03 1.2695020e-03]\n",
      "  [2.8803764e-04 1.5316918e-02 1.9525395e-03 ... 9.9552821e-08\n",
      "   3.9488846e-04 2.4349808e-03]\n",
      "  [3.6274179e-04 5.3098810e-01 2.3416363e-04 ... 1.0384161e-06\n",
      "   1.3532713e-03 5.1345333e-04]\n",
      "  ...\n",
      "  [9.7917968e-01 3.0259212e-06 1.0763581e-06 ... 8.9068493e-08\n",
      "   1.3659020e-06 2.0720843e-02]\n",
      "  [5.4684047e-02 7.5709204e-06 1.6038334e-06 ... 8.0340206e-09\n",
      "   2.8398533e-06 9.4517779e-01]\n",
      "  [9.1899294e-01 1.8299175e-05 6.4862506e-06 ... 2.7922101e-07\n",
      "   6.4888864e-06 8.0630876e-02]]]\n",
      "1\n",
      "len yhat: 1\n",
      "Original: bin white at sp a zero please\n",
      "Prediction: la bre it ie aon\n",
      "~~~~~~~~~~~~~~~~~~~~~~~~~~~~~~~~~~~~~~~~~~~~~~~~~~~~~~~~~~~~~~~~~~~~~~~~~~~~~~~~~~~~~~~~~~~~~~~~~~~~\n",
      "1193/1193 [==============================] - 368s 308ms/step - loss: 44.8555 - val_loss: 41.7146 - lr: 1.0000e-04\n",
      "Epoch 12/50\n",
      "1/1 [==============================] - 0s 30ms/steps - loss: 44.03\n",
      "yhat------------\n",
      "(1, 75, 41)\n",
      "[4.2382229e-04 1.1474960e-03 2.2065210e-01 3.1414744e-04 1.5352096e-04\n",
      " 2.4323855e-03 4.7678512e-04 1.5391494e-03 1.1462923e-03 3.7347563e-03\n",
      " 1.7030080e-04 2.0239929e-04 2.4302153e-01 1.8257154e-04 5.4716441e-04\n",
      " 4.8923166e-04 2.5657374e-01 2.3093549e-04 1.6936006e-03 2.5945607e-01\n",
      " 6.4920884e-04 2.4219253e-04 2.4540618e-04 6.5396260e-04 2.4607280e-04\n",
      " 4.1520866e-04 3.9395102e-04 1.6254990e-06 1.6601156e-06 1.7714106e-06\n",
      " 1.2266166e-06 1.3230396e-06 9.1414176e-07 1.8382605e-06 1.3629326e-06\n",
      " 1.5017130e-06 1.4651810e-06 1.3032434e-06 2.1344420e-06 1.4005625e-03\n",
      " 1.1472416e-03]\n",
      "1\n",
      "[[[4.2382229e-04 1.1474960e-03 2.2065210e-01 ... 2.1344420e-06\n",
      "   1.4005625e-03 1.1472416e-03]\n",
      "  [2.7195123e-04 1.4232845e-02 2.3906012e-03 ... 3.7514720e-08\n",
      "   3.8375842e-04 2.5758559e-03]\n",
      "  [3.1879681e-04 5.1984113e-01 2.1356597e-04 ... 4.5065400e-07\n",
      "   1.0473360e-03 5.7854253e-04]\n",
      "  ...\n",
      "  [9.5782661e-01 2.8802110e-06 1.0192481e-06 ... 4.5900972e-08\n",
      "   1.1996260e-06 4.2067833e-02]\n",
      "  [8.1067957e-02 6.3846142e-06 1.2590601e-06 ... 4.0003667e-09\n",
      "   2.7683755e-06 9.1880912e-01]\n",
      "  [9.1282731e-01 1.4239311e-05 5.1184579e-06 ... 1.2914826e-07\n",
      "   6.1306559e-06 8.6846247e-02]]]\n",
      "1\n",
      "len yhat: 1\n",
      "Original: set green with c seven soon\n",
      "Prediction: sla wrie it ie on\n",
      "~~~~~~~~~~~~~~~~~~~~~~~~~~~~~~~~~~~~~~~~~~~~~~~~~~~~~~~~~~~~~~~~~~~~~~~~~~~~~~~~~~~~~~~~~~~~~~~~~~~~\n",
      "1193/1193 [==============================] - 367s 308ms/step - loss: 44.0376 - val_loss: 40.2986 - lr: 1.0000e-04\n",
      "Epoch 13/50\n",
      "1/1 [==============================] - 0s 29ms/steps - loss: 43.06\n",
      "yhat------------\n",
      "(1, 75, 41)\n",
      "[4.5254882e-04 1.4024418e-03 2.0244016e-01 2.6416179e-04 1.5203680e-04\n",
      " 2.5310088e-03 4.4612965e-04 1.3267078e-03 1.0465158e-03 3.8916948e-03\n",
      " 1.6154541e-04 1.8588320e-04 2.7236521e-01 1.7318067e-04 5.5451674e-04\n",
      " 4.6940424e-04 2.6275456e-01 2.3441792e-04 1.4571159e-03 2.4246436e-01\n",
      " 6.2122947e-04 2.3002445e-04 2.2346844e-04 6.4213754e-04 2.4636596e-04\n",
      " 3.9112972e-04 3.6553544e-04 1.2651302e-06 1.3023950e-06 1.2009123e-06\n",
      " 9.5722248e-07 1.0824142e-06 7.4239517e-07 1.3281534e-06 1.0066913e-06\n",
      " 1.1000282e-06 1.1281181e-06 9.8623855e-07 1.4806280e-06 1.4517460e-03\n",
      " 1.0411754e-03]\n",
      "1\n",
      "[[[4.5254882e-04 1.4024418e-03 2.0244016e-01 ... 1.4806280e-06\n",
      "   1.4517460e-03 1.0411754e-03]\n",
      "  [3.1798743e-04 1.2010752e-02 3.2922276e-03 ... 2.8146072e-08\n",
      "   4.9691508e-04 2.3422486e-03]\n",
      "  [3.3843584e-04 5.4707968e-01 2.5338307e-04 ... 3.5033668e-07\n",
      "   1.1420167e-03 6.8286259e-04]\n",
      "  ...\n",
      "  [8.9125234e-01 3.3601425e-06 1.2617875e-06 ... 2.9962862e-08\n",
      "   2.3061084e-06 1.0858876e-01]\n",
      "  [4.9009029e-02 4.3251794e-06 7.7201742e-07 ... 1.6874787e-09\n",
      "   2.2543254e-06 9.5089734e-01]\n",
      "  [8.2358778e-01 1.5879921e-05 6.8022882e-06 ... 8.7040341e-08\n",
      "   7.7822187e-06 1.7599833e-01]]]\n",
      "1\n",
      "len yhat: 1\n",
      "Original: bin red with t six please\n",
      "Prediction: la wre it e plase\n",
      "~~~~~~~~~~~~~~~~~~~~~~~~~~~~~~~~~~~~~~~~~~~~~~~~~~~~~~~~~~~~~~~~~~~~~~~~~~~~~~~~~~~~~~~~~~~~~~~~~~~~\n",
      "1193/1193 [==============================] - 365s 306ms/step - loss: 43.0654 - val_loss: 40.0607 - lr: 1.0000e-04\n",
      "Epoch 14/50\n",
      "1/1 [==============================] - 0s 31ms/steps - loss: 42.21\n",
      "yhat------------\n",
      "(1, 75, 41)\n",
      "[4.0275540e-04 1.3361080e-03 2.1728218e-01 2.7445945e-04 1.4124063e-04\n",
      " 2.5622111e-03 5.3285330e-04 1.3798214e-03 1.0094147e-03 3.3538507e-03\n",
      " 1.6176639e-04 1.7858975e-04 2.3707025e-01 1.7952331e-04 4.8975355e-04\n",
      " 4.4386598e-04 2.5665584e-01 2.4274542e-04 1.4906393e-03 2.6949090e-01\n",
      " 5.3661480e-04 2.1707141e-04 2.1375352e-04 6.2511710e-04 2.1883924e-04\n",
      " 4.3212087e-04 3.6736857e-04 7.7515091e-07 8.1420336e-07 8.0489104e-07\n",
      " 6.0342796e-07 7.3509034e-07 4.7208925e-07 8.2992960e-07 6.7046113e-07\n",
      " 7.4604208e-07 7.0828179e-07 6.6672789e-07 8.8458012e-07 1.8076696e-03\n",
      " 8.9401478e-04]\n",
      "1\n",
      "[[[4.0275540e-04 1.3361080e-03 2.1728218e-01 ... 8.8458012e-07\n",
      "   1.8076696e-03 8.9401478e-04]\n",
      "  [3.1021261e-04 1.2867497e-02 2.4463139e-03 ... 1.0515900e-08\n",
      "   4.9903541e-04 2.4098139e-03]\n",
      "  [3.2645333e-04 5.0424486e-01 2.6098615e-04 ... 2.5269395e-07\n",
      "   1.3247075e-03 6.3109485e-04]\n",
      "  ...\n",
      "  [9.4010627e-01 2.2930108e-06 1.0268827e-06 ... 1.8244377e-08\n",
      "   1.6466570e-06 5.9784062e-02]\n",
      "  [5.9787735e-02 4.6111059e-06 7.8074368e-07 ... 6.0252325e-10\n",
      "   2.3809212e-06 9.4012451e-01]\n",
      "  [8.4930223e-01 1.3292480e-05 5.0661329e-06 ... 2.7580386e-08\n",
      "   6.9553726e-06 1.5037023e-01]]]\n",
      "1\n",
      "len yhat: 1\n",
      "Original: lay red at d five soon\n",
      "Prediction: sla gre it ie now\n",
      "~~~~~~~~~~~~~~~~~~~~~~~~~~~~~~~~~~~~~~~~~~~~~~~~~~~~~~~~~~~~~~~~~~~~~~~~~~~~~~~~~~~~~~~~~~~~~~~~~~~~\n",
      "1193/1193 [==============================] - 368s 309ms/step - loss: 42.2144 - val_loss: 38.9621 - lr: 1.0000e-04\n",
      "Epoch 15/50\n",
      "1/1 [==============================] - 0s 30ms/steps - loss: 41.21\n",
      "yhat------------\n",
      "(1, 75, 41)\n",
      "[4.2218814e-04 1.5111750e-03 2.0399046e-01 2.5297547e-04 1.4072005e-04\n",
      " 2.8532578e-03 4.8168655e-04 1.4140123e-03 1.0437150e-03 4.1959574e-03\n",
      " 1.6665274e-04 1.6723450e-04 2.8578082e-01 1.5124552e-04 4.8978999e-04\n",
      " 4.0478780e-04 2.3503296e-01 2.0813751e-04 1.7304148e-03 2.5446650e-01\n",
      " 5.7452085e-04 2.4676690e-04 1.9940721e-04 5.8343529e-04 1.7290942e-04\n",
      " 4.6132450e-04 3.4906919e-04 4.3555966e-07 4.6163009e-07 4.3821368e-07\n",
      " 3.3712692e-07 4.3462191e-07 2.5971127e-07 4.5156045e-07 3.9901485e-07\n",
      " 3.9093618e-07 3.9744180e-07 3.5377059e-07 5.5046144e-07 1.4843543e-03\n",
      " 1.0185728e-03]\n",
      "1\n",
      "[[[4.22188139e-04 1.51117495e-03 2.03990459e-01 ... 5.50461436e-07\n",
      "   1.48435426e-03 1.01857283e-03]\n",
      "  [2.77510408e-04 1.34916035e-02 1.80448114e-03 ... 4.31652047e-09\n",
      "   3.83559440e-04 2.50849454e-03]\n",
      "  [2.50477897e-04 4.92634743e-01 1.78039641e-04 ... 1.03404034e-07\n",
      "   1.09927321e-03 6.30410970e-04]\n",
      "  ...\n",
      "  [9.40886080e-01 1.23834559e-06 6.25601217e-07 ... 4.28557856e-09\n",
      "   1.20067034e-06 5.90203926e-02]\n",
      "  [6.83394596e-02 3.33526214e-06 7.21577578e-07 ... 1.60635241e-10\n",
      "   2.18345622e-06 9.31575298e-01]\n",
      "  [8.85407209e-01 8.22182028e-06 4.48341643e-06 ... 1.41010501e-08\n",
      "   5.70974998e-06 1.14314057e-01]]]\n",
      "1\n",
      "len yhat: 1\n",
      "Original: lay blue at q zero please\n",
      "Prediction: la gre it ie lgase\n",
      "~~~~~~~~~~~~~~~~~~~~~~~~~~~~~~~~~~~~~~~~~~~~~~~~~~~~~~~~~~~~~~~~~~~~~~~~~~~~~~~~~~~~~~~~~~~~~~~~~~~~\n",
      "1193/1193 [==============================] - 366s 307ms/step - loss: 41.2182 - val_loss: 37.3488 - lr: 1.0000e-04\n",
      "Epoch 16/50\n",
      "1/1 [==============================] - 0s 29ms/steps - loss: 39.56\n",
      "yhat------------\n",
      "(1, 75, 41)\n",
      "[3.49000708e-04 1.27488212e-03 2.47131184e-01 2.28438352e-04\n",
      " 1.11941794e-04 2.16464093e-03 3.97134660e-04 1.21317140e-03\n",
      " 7.91527389e-04 3.48768500e-03 1.43602578e-04 1.51090935e-04\n",
      " 2.88794488e-01 1.26525221e-04 3.46015906e-04 2.90709140e-04\n",
      " 2.53093690e-01 1.79048613e-04 1.39993662e-03 1.94261327e-01\n",
      " 4.35725960e-04 2.21317998e-04 1.50957567e-04 4.41070559e-04\n",
      " 1.43738842e-04 3.79167759e-04 2.91895791e-04 3.00950660e-07\n",
      " 3.16242023e-07 2.78069365e-07 2.28483970e-07 3.28336398e-07\n",
      " 1.99981031e-07 2.98265974e-07 2.79000631e-07 2.61021256e-07\n",
      " 3.04946553e-07 2.36235323e-07 3.93194057e-07 1.26180612e-03\n",
      " 7.34817295e-04]\n",
      "1\n",
      "[[[3.4900071e-04 1.2748821e-03 2.4713118e-01 ... 3.9319406e-07\n",
      "   1.2618061e-03 7.3481729e-04]\n",
      "  [1.9994957e-04 1.1628963e-02 2.0988579e-03 ... 2.7971303e-09\n",
      "   3.1054756e-04 1.8024998e-03]\n",
      "  [2.3398192e-04 5.3681904e-01 2.2180962e-04 ... 8.5945274e-08\n",
      "   9.4899512e-04 5.4756191e-04]\n",
      "  ...\n",
      "  [9.4334525e-01 8.1007317e-07 6.2637139e-07 ... 7.5422921e-09\n",
      "   1.1960819e-06 5.6566771e-02]\n",
      "  [8.0526061e-02 2.4863273e-06 6.2212507e-07 ... 3.0906858e-10\n",
      "   1.9132617e-06 9.1939229e-01]\n",
      "  [9.1299182e-01 4.8603738e-06 3.4412103e-06 ... 3.0151874e-08\n",
      "   3.8916155e-06 8.6761713e-02]]]\n",
      "1\n",
      "len yhat: 1\n",
      "Original: place blue by c five soon\n",
      "Prediction: la bre it oe ow\n",
      "~~~~~~~~~~~~~~~~~~~~~~~~~~~~~~~~~~~~~~~~~~~~~~~~~~~~~~~~~~~~~~~~~~~~~~~~~~~~~~~~~~~~~~~~~~~~~~~~~~~~\n",
      "1193/1193 [==============================] - 366s 307ms/step - loss: 39.5633 - val_loss: 36.7415 - lr: 1.0000e-04\n",
      "Epoch 17/50\n",
      "1/1 [==============================] - 0s 30ms/steps - loss: 38.26\n",
      "yhat------------\n",
      "(1, 75, 41)\n",
      "[2.77996878e-04 1.20919186e-03 2.27188066e-01 1.99346148e-04\n",
      " 8.72169912e-05 2.14542332e-03 3.85339838e-04 9.83515638e-04\n",
      " 7.22360681e-04 2.79470324e-03 1.21787860e-04 1.23377729e-04\n",
      " 2.56646782e-01 1.12464688e-04 3.32611962e-04 2.31694692e-04\n",
      " 2.54686326e-01 1.41635086e-04 1.12371205e-03 2.46480659e-01\n",
      " 4.70799132e-04 1.74094879e-04 1.20432887e-04 4.24555532e-04\n",
      " 1.13461501e-04 3.55384953e-04 2.39108762e-04 1.18505369e-07\n",
      " 1.15732156e-07 9.26257258e-08 8.36181471e-08 1.12281697e-07\n",
      " 7.39688986e-08 1.02206741e-07 1.01741300e-07 1.02794814e-07\n",
      " 9.39135134e-08 8.09520202e-08 1.46114544e-07 1.44914608e-03\n",
      " 6.57536555e-04]\n",
      "1\n",
      "[[[2.77996878e-04 1.20919186e-03 2.27188066e-01 ... 1.46114544e-07\n",
      "   1.44914608e-03 6.57536555e-04]\n",
      "  [1.56165115e-04 1.18255569e-02 1.69004174e-03 ... 4.98604824e-10\n",
      "   2.61892128e-04 1.58476783e-03]\n",
      "  [1.76555885e-04 5.40038228e-01 1.57956223e-04 ... 3.30174288e-08\n",
      "   6.53639843e-04 3.95404204e-04]\n",
      "  ...\n",
      "  [9.35633242e-01 6.86617909e-07 4.56584246e-07 ... 6.61032873e-09\n",
      "   6.90973081e-07 6.43035695e-02]\n",
      "  [6.69963583e-02 2.19778690e-06 6.92802132e-07 ... 2.25752278e-10\n",
      "   1.35550818e-06 9.32941437e-01]\n",
      "  [8.80691350e-01 4.71352178e-06 3.10056498e-06 ... 1.74905992e-08\n",
      "   3.00266720e-06 1.19106576e-01]]]\n",
      "1\n",
      "len yhat: 1\n",
      "Original: place blue in h nine please\n",
      "Prediction: la bre it ie agaie\n",
      "~~~~~~~~~~~~~~~~~~~~~~~~~~~~~~~~~~~~~~~~~~~~~~~~~~~~~~~~~~~~~~~~~~~~~~~~~~~~~~~~~~~~~~~~~~~~~~~~~~~~\n",
      "1193/1193 [==============================] - 368s 309ms/step - loss: 38.2630 - val_loss: 34.5417 - lr: 1.0000e-04\n",
      "Epoch 18/50\n",
      "1/1 [==============================] - 0s 30ms/steps - loss: 36.68\n",
      "yhat------------\n",
      "(1, 75, 41)\n",
      "[2.9479008e-04 1.4209754e-03 2.4800803e-01 1.7728120e-04 8.8131812e-05\n",
      " 2.1952058e-03 3.4703800e-04 8.6954248e-04 6.6058035e-04 2.8939245e-03\n",
      " 1.1499035e-04 1.0538124e-04 2.4954219e-01 1.0482119e-04 3.6468709e-04\n",
      " 1.9307857e-04 2.5631538e-01 1.2968313e-04 9.5353305e-04 2.3126481e-01\n",
      " 5.5788335e-04 1.8532705e-04 1.1151545e-04 3.0491978e-04 1.1611764e-04\n",
      " 3.7576648e-04 1.9905933e-04 7.1017602e-08 7.3146765e-08 6.3443586e-08\n",
      " 5.6403248e-08 6.7791071e-08 4.6387509e-08 6.9717565e-08 6.6349649e-08\n",
      " 6.9024964e-08 6.3192687e-08 5.5128627e-08 9.9403827e-08 1.4241536e-03\n",
      " 6.8036647e-04]\n",
      "1\n",
      "[[[2.94790079e-04 1.42097543e-03 2.48008028e-01 ... 9.94038274e-08\n",
      "   1.42415357e-03 6.80366473e-04]\n",
      "  [1.90685867e-04 1.17554795e-02 2.21622456e-03 ... 4.84672469e-10\n",
      "   3.85004329e-04 1.97855150e-03]\n",
      "  [2.48052587e-04 5.45990586e-01 2.24089337e-04 ... 3.44059217e-08\n",
      "   1.02940865e-03 6.12453616e-04]\n",
      "  ...\n",
      "  [9.73591208e-01 2.81040997e-07 2.75571551e-07 ... 1.13419651e-09\n",
      "   4.11129349e-07 2.63716821e-02]\n",
      "  [7.80036673e-02 1.09926907e-06 3.13752423e-07 ... 6.91223884e-11\n",
      "   9.30264150e-07 9.21949089e-01]\n",
      "  [9.11782444e-01 2.90997241e-06 1.76462390e-06 ... 5.64861358e-09\n",
      "   1.93948927e-06 8.80819783e-02]]]\n",
      "1\n",
      "len yhat: 1\n",
      "Original: place green by p nine now\n",
      "Prediction: la gred iy eie now\n",
      "~~~~~~~~~~~~~~~~~~~~~~~~~~~~~~~~~~~~~~~~~~~~~~~~~~~~~~~~~~~~~~~~~~~~~~~~~~~~~~~~~~~~~~~~~~~~~~~~~~~~\n",
      "1193/1193 [==============================] - 366s 307ms/step - loss: 36.6878 - val_loss: 32.1265 - lr: 1.0000e-04\n",
      "Epoch 19/50\n",
      "1/1 [==============================] - 0s 30ms/steps - loss: 35.09\n",
      "yhat------------\n",
      "(1, 75, 41)\n",
      "[1.9677982e-04 1.0009696e-03 2.2722240e-01 1.5216302e-04 6.1124148e-05\n",
      " 1.7842739e-03 3.0310577e-04 8.4130629e-04 4.7080082e-04 2.2004042e-03\n",
      " 9.1181348e-05 7.5377604e-05 2.9209310e-01 8.2215287e-05 1.8869463e-04\n",
      " 1.3402637e-04 2.6186877e-01 8.3835163e-05 8.3025912e-04 2.0735963e-01\n",
      " 3.1631489e-04 1.5565682e-04 8.4000189e-05 2.3987817e-04 8.1556194e-05\n",
      " 2.7818300e-04 1.6420078e-04 4.8526474e-08 4.3594621e-08 3.5828165e-08\n",
      " 3.5349409e-08 4.3501757e-08 2.9365788e-08 3.9530235e-08 3.9916259e-08\n",
      " 4.0005592e-08 3.6286746e-08 3.2386264e-08 6.2635600e-08 1.1805432e-03\n",
      " 4.5876001e-04]\n",
      "1\n",
      "[[[1.9677982e-04 1.0009696e-03 2.2722240e-01 ... 6.2635600e-08\n",
      "   1.1805432e-03 4.5876001e-04]\n",
      "  [1.4495551e-04 1.1929279e-02 1.5865094e-03 ... 3.0833103e-10\n",
      "   2.3607559e-04 1.5331114e-03]\n",
      "  [2.1039089e-04 5.6273252e-01 1.5842827e-04 ... 2.0838851e-08\n",
      "   8.1903487e-04 6.3092442e-04]\n",
      "  ...\n",
      "  [9.5387787e-01 2.8964087e-07 1.5567512e-07 ... 1.5336818e-09\n",
      "   4.9559208e-07 4.6077609e-02]\n",
      "  [7.7705286e-02 1.1658753e-06 2.8497368e-07 ... 4.3153311e-11\n",
      "   1.0657654e-06 9.2224747e-01]\n",
      "  [9.1781151e-01 2.3006603e-06 1.4232106e-06 ... 5.7935665e-09\n",
      "   1.8400580e-06 8.2071044e-02]]]\n",
      "1\n",
      "len yhat: 1\n",
      "Original: place blue at u nine again\n",
      "Prediction: la re at ie again\n",
      "~~~~~~~~~~~~~~~~~~~~~~~~~~~~~~~~~~~~~~~~~~~~~~~~~~~~~~~~~~~~~~~~~~~~~~~~~~~~~~~~~~~~~~~~~~~~~~~~~~~~\n",
      "1193/1193 [==============================] - 367s 308ms/step - loss: 35.0935 - val_loss: 30.5107 - lr: 1.0000e-04\n",
      "Epoch 20/50\n",
      "1/1 [==============================] - 0s 29ms/steps - loss: 33.01\n",
      "yhat------------\n",
      "(1, 75, 41)\n",
      "[1.83789685e-04 8.92822340e-04 2.33196244e-01 1.54311900e-04\n",
      " 5.79388070e-05 1.62962545e-03 2.83021887e-04 7.10722175e-04\n",
      " 4.63442178e-04 1.68148929e-03 8.96203055e-05 6.61397498e-05\n",
      " 2.70522952e-01 9.47034932e-05 1.57313058e-04 1.11725254e-04\n",
      " 2.62852013e-01 7.65168807e-05 6.54560630e-04 2.23223895e-01\n",
      " 2.64804083e-04 1.26481231e-04 7.71448103e-05 2.09698148e-04\n",
      " 7.09178130e-05 2.59190798e-04 1.62988654e-04 4.50455033e-08\n",
      " 3.73366262e-08 3.26033707e-08 3.02643350e-08 3.74950915e-08\n",
      " 2.57111807e-08 3.32461276e-08 3.54394949e-08 3.82949743e-08\n",
      " 3.43695845e-08 2.75518381e-08 5.06486266e-08 1.35937531e-03\n",
      " 3.66107386e-04]\n",
      "1\n",
      "[[[1.8378969e-04 8.9282234e-04 2.3319624e-01 ... 5.0648627e-08\n",
      "   1.3593753e-03 3.6610739e-04]\n",
      "  [1.4014717e-04 9.1637084e-03 1.5035125e-03 ... 2.2329807e-10\n",
      "   2.6258055e-04 1.2288655e-03]\n",
      "  [2.3160051e-04 5.3048503e-01 1.4531346e-04 ... 1.2786889e-08\n",
      "   7.7906420e-04 6.4470252e-04]\n",
      "  ...\n",
      "  [9.7526157e-01 4.2321363e-07 3.2874931e-07 ... 1.3496632e-09\n",
      "   4.5507022e-07 2.4695057e-02]\n",
      "  [6.0882837e-02 1.2144603e-06 3.6681169e-07 ... 1.7139011e-11\n",
      "   1.0254470e-06 9.3906671e-01]\n",
      "  [9.3619293e-01 2.7616925e-06 2.0595191e-06 ... 4.8541344e-09\n",
      "   1.9031277e-06 6.3686863e-02]]]\n",
      "1\n",
      "len yhat: 1\n",
      "Original: place green in q zero again\n",
      "Prediction: la bre it fie again\n",
      "~~~~~~~~~~~~~~~~~~~~~~~~~~~~~~~~~~~~~~~~~~~~~~~~~~~~~~~~~~~~~~~~~~~~~~~~~~~~~~~~~~~~~~~~~~~~~~~~~~~~\n",
      "1193/1193 [==============================] - 367s 308ms/step - loss: 33.0134 - val_loss: 28.9735 - lr: 1.0000e-04\n",
      "Epoch 21/50\n",
      "1/1 [==============================] - 0s 29ms/steps - loss: 31.27\n",
      "yhat------------\n",
      "(1, 75, 41)\n",
      "[2.23943585e-04 1.02896709e-03 2.62492508e-01 1.25355771e-04\n",
      " 5.59130058e-05 1.73245859e-03 2.78311025e-04 8.42851005e-04\n",
      " 5.83877030e-04 1.95248844e-03 7.99714035e-05 7.36970032e-05\n",
      " 2.15544969e-01 9.59807803e-05 2.05809702e-04 1.19630255e-04\n",
      " 2.46002838e-01 6.87476204e-05 7.35209440e-04 2.64303863e-01\n",
      " 3.80419893e-04 1.42285993e-04 9.40325626e-05 2.45557341e-04\n",
      " 7.98849651e-05 2.83928297e-04 1.51364526e-04 2.55200696e-08\n",
      " 1.88352729e-08 1.58884443e-08 1.52369282e-08 2.08476330e-08\n",
      " 1.52646198e-08 1.83381346e-08 2.01733314e-08 2.28750832e-08\n",
      " 1.78125497e-08 1.49895456e-08 2.69322626e-08 1.69153966e-03\n",
      " 3.83366627e-04]\n",
      "1\n",
      "[[[2.2394359e-04 1.0289671e-03 2.6249251e-01 ... 2.6932263e-08\n",
      "   1.6915397e-03 3.8336663e-04]\n",
      "  [1.6603699e-04 9.8502822e-03 1.4902805e-03 ... 1.7741629e-10\n",
      "   3.1293777e-04 1.1409739e-03]\n",
      "  [2.3296865e-04 4.2002144e-01 1.7852790e-04 ... 7.3446862e-09\n",
      "   1.2459727e-03 6.5488048e-04]\n",
      "  ...\n",
      "  [9.6200216e-01 3.2263529e-07 2.5270037e-07 ... 1.8437262e-09\n",
      "   3.0114643e-07 3.7956301e-02]\n",
      "  [5.3135585e-02 9.6135159e-07 2.0956766e-07 ... 1.9329338e-11\n",
      "   5.4721284e-07 9.4682646e-01]\n",
      "  [9.2873907e-01 1.9377967e-06 1.0291415e-06 ... 3.4232799e-09\n",
      "   1.1901204e-06 7.1160316e-02]]]\n",
      "1\n",
      "len yhat: 1\n",
      "Original: set blue at d seven again\n",
      "Prediction: sla blue it ne again\n",
      "~~~~~~~~~~~~~~~~~~~~~~~~~~~~~~~~~~~~~~~~~~~~~~~~~~~~~~~~~~~~~~~~~~~~~~~~~~~~~~~~~~~~~~~~~~~~~~~~~~~~\n",
      "1193/1193 [==============================] - 368s 309ms/step - loss: 31.2797 - val_loss: 27.4040 - lr: 1.0000e-04\n",
      "Epoch 22/50\n",
      "1/1 [==============================] - 0s 29ms/steps - loss: 29.41\n",
      "yhat------------\n",
      "(1, 75, 41)\n",
      "[1.6503630e-04 8.9759583e-04 1.2771213e-01 8.6772008e-05 2.9669913e-05\n",
      " 8.1288081e-04 1.5532821e-04 3.2682612e-04 4.1492234e-04 1.1346258e-03\n",
      " 5.8110261e-05 3.5455007e-05 3.3973688e-01 5.9103830e-05 9.2557646e-05\n",
      " 5.6594195e-05 3.9777508e-01 8.2823775e-05 2.5312891e-04 1.2831475e-01\n",
      " 2.2879885e-04 6.2408348e-05 3.8364276e-05 1.1668269e-04 5.7454512e-05\n",
      " 1.7402192e-04 7.6896416e-05 3.6491393e-08 3.3285541e-08 2.4843470e-08\n",
      " 2.3345583e-08 3.1613030e-08 1.8119037e-08 2.0679646e-08 2.7158888e-08\n",
      " 3.1268097e-08 2.7749275e-08 1.9851949e-08 4.2478199e-08 8.1791118e-04\n",
      " 2.2683050e-04]\n",
      "1\n",
      "[[[1.6503630e-04 8.9759583e-04 1.2771213e-01 ... 4.2478199e-08\n",
      "   8.1791118e-04 2.2683050e-04]\n",
      "  [6.2835345e-05 5.1846239e-03 5.6016666e-04 ... 1.5176981e-10\n",
      "   6.6598339e-05 4.2934145e-04]\n",
      "  [1.6121773e-04 8.7586808e-01 7.7669640e-05 ... 5.7915216e-08\n",
      "   2.2045584e-04 3.4106997e-04]\n",
      "  ...\n",
      "  [9.7361767e-01 1.8622654e-07 9.0470671e-08 ... 3.4540226e-10\n",
      "   2.6026484e-07 2.6355026e-02]\n",
      "  [5.6420017e-02 4.5510293e-07 8.4541433e-08 ... 2.1519496e-12\n",
      "   6.2761870e-07 9.4354683e-01]\n",
      "  [9.2508054e-01 1.2790738e-06 6.3551232e-07 ... 6.1489752e-10\n",
      "   1.0112720e-06 7.4851565e-02]]]\n",
      "1\n",
      "len yhat: 1\n",
      "Original: place white with d nine soon\n",
      "Prediction: place white wit ne son\n",
      "~~~~~~~~~~~~~~~~~~~~~~~~~~~~~~~~~~~~~~~~~~~~~~~~~~~~~~~~~~~~~~~~~~~~~~~~~~~~~~~~~~~~~~~~~~~~~~~~~~~~\n",
      "1193/1193 [==============================] - 366s 307ms/step - loss: 29.4141 - val_loss: 23.6012 - lr: 1.0000e-04\n",
      "Epoch 23/50\n",
      "1/1 [==============================] - 0s 30ms/steps - loss: 27.33\n",
      "yhat------------\n",
      "(1, 75, 41)\n",
      "[2.4298741e-04 1.2803195e-03 3.6723021e-01 1.6963272e-04 4.8441711e-05\n",
      " 2.1272397e-03 3.1900004e-04 1.2949483e-03 6.8087189e-04 2.6522232e-03\n",
      " 7.2612762e-05 9.0225614e-05 1.2724276e-01 6.9578600e-05 4.5718098e-04\n",
      " 1.6604742e-04 1.2360968e-01 3.9433755e-05 6.9549674e-04 3.6506978e-01\n",
      " 5.7892792e-04 1.7332406e-04 7.4995871e-05 4.2005145e-04 5.8677058e-05\n",
      " 5.2123202e-04 1.4537400e-04 7.8837470e-09 4.7911000e-09 3.6065035e-09\n",
      " 2.9522349e-09 5.5863629e-09 3.4216230e-09 4.2990007e-09 4.0125090e-09\n",
      " 6.5322152e-09 3.2173595e-09 3.6134165e-09 6.2981789e-09 3.9028067e-03\n",
      " 5.6593149e-04]\n",
      "1\n",
      "[[[2.4298741e-04 1.2803195e-03 3.6723021e-01 ... 6.2981789e-09\n",
      "   3.9028067e-03 5.6593149e-04]\n",
      "  [1.6026580e-04 1.5196707e-02 9.6633664e-04 ... 1.3153359e-11\n",
      "   3.6628789e-04 1.9371334e-03]\n",
      "  [1.1606246e-04 2.5420231e-01 4.4658627e-05 ... 2.0663801e-10\n",
      "   8.4725680e-04 5.6340796e-04]\n",
      "  ...\n",
      "  [9.8344570e-01 6.2945460e-08 3.3308133e-08 ... 1.0964882e-10\n",
      "   6.8633334e-08 1.6543902e-02]\n",
      "  [2.7029034e-02 1.7204609e-07 3.0190897e-08 ... 3.1242061e-13\n",
      "   2.1891897e-07 9.7295988e-01]\n",
      "  [9.3581772e-01 6.9627663e-07 2.9799114e-07 ... 2.6726338e-10\n",
      "   6.0228598e-07 6.4141974e-02]]]\n",
      "1\n",
      "len yhat: 1\n",
      "Original: set white by o two now\n",
      "Prediction: bin white t wo now\n",
      "~~~~~~~~~~~~~~~~~~~~~~~~~~~~~~~~~~~~~~~~~~~~~~~~~~~~~~~~~~~~~~~~~~~~~~~~~~~~~~~~~~~~~~~~~~~~~~~~~~~~\n",
      "1193/1193 [==============================] - 368s 308ms/step - loss: 27.3380 - val_loss: 22.1937 - lr: 1.0000e-04\n",
      "Epoch 24/50\n",
      "1/1 [==============================] - 0s 31ms/steps - loss: 25.32\n",
      "yhat------------\n",
      "(1, 75, 41)\n",
      "[1.22336991e-04 5.19709836e-04 1.32910043e-01 8.64909453e-05\n",
      " 2.23114348e-05 3.96058953e-04 1.18808181e-04 1.89895582e-04\n",
      " 2.35771120e-04 5.12476836e-04 4.72581305e-05 3.05704270e-05\n",
      " 3.21609139e-01 5.91739336e-05 3.72763898e-05 2.24147207e-05\n",
      " 4.60756570e-01 6.23454034e-05 1.46546998e-04 8.11324492e-02\n",
      " 6.93514303e-05 4.64869227e-05 3.27812995e-05 5.70284938e-05\n",
      " 4.42538512e-05 1.20446064e-04 5.25747018e-05 1.26084601e-07\n",
      " 1.23420406e-07 8.79307933e-08 7.63559669e-08 9.21046350e-08\n",
      " 6.62972184e-08 5.90466662e-08 7.98948605e-08 9.28351795e-08\n",
      " 7.99226001e-08 5.20635943e-08 1.10865081e-07 4.73137596e-04\n",
      " 8.52984303e-05]\n",
      "1\n",
      "[[[1.2233699e-04 5.1970984e-04 1.3291004e-01 ... 1.1086508e-07\n",
      "   4.7313760e-04 8.5298430e-05]\n",
      "  [5.6330580e-05 4.1121156e-03 4.8482791e-04 ... 2.2302814e-10\n",
      "   4.0741677e-05 3.5114572e-04]\n",
      "  [1.6070080e-04 8.3170843e-01 6.2158142e-05 ... 3.1612927e-08\n",
      "   1.8691874e-04 2.8971641e-04]\n",
      "  ...\n",
      "  [9.7137779e-01 1.2077956e-07 6.4516342e-08 ... 3.7758477e-10\n",
      "   1.3579093e-07 2.8601887e-02]\n",
      "  [2.2645274e-02 2.0640582e-07 3.9312098e-08 ... 3.7898032e-13\n",
      "   2.4301144e-07 9.7734147e-01]\n",
      "  [9.4820142e-01 7.8365605e-07 3.9649419e-07 ... 4.3993106e-10\n",
      "   6.5796087e-07 5.1754858e-02]]]\n",
      "1\n",
      "len yhat: 1\n",
      "Original: lay green in y nine please\n",
      "Prediction: place bluen it ie agan\n",
      "~~~~~~~~~~~~~~~~~~~~~~~~~~~~~~~~~~~~~~~~~~~~~~~~~~~~~~~~~~~~~~~~~~~~~~~~~~~~~~~~~~~~~~~~~~~~~~~~~~~~\n",
      "1193/1193 [==============================] - 367s 308ms/step - loss: 25.3273 - val_loss: 19.8037 - lr: 1.0000e-04\n",
      "Epoch 25/50\n",
      "1/1 [==============================] - 0s 29ms/steps - loss: 23.04\n",
      "yhat------------\n",
      "(1, 75, 41)\n",
      "[1.3888378e-04 6.5860158e-04 4.6056998e-01 8.1281192e-05 2.4224959e-05\n",
      " 1.8545558e-03 1.8109480e-04 1.2500935e-03 4.1227305e-04 3.1419946e-03\n",
      " 3.2432072e-05 4.7896443e-05 4.1970123e-02 3.7841757e-05 3.1295538e-04\n",
      " 8.9504960e-05 4.7417395e-02 1.9635656e-05 4.0366675e-04 4.3465039e-01\n",
      " 6.3952681e-04 1.2885703e-04 5.4119657e-05 4.0617469e-04 5.3692347e-05\n",
      " 3.9955354e-04 9.7559954e-05 1.5818146e-09 9.2044594e-10 6.5159933e-10\n",
      " 5.6238270e-10 1.3250504e-09 1.0399646e-09 1.1915545e-09 9.4895969e-10\n",
      " 1.5591215e-09 8.2065804e-10 7.5784040e-10 1.1759689e-09 4.5565069e-03\n",
      " 3.6922033e-04]\n",
      "1\n",
      "[[[1.38883785e-04 6.58601581e-04 4.60569978e-01 ... 1.17596888e-09\n",
      "   4.55650687e-03 3.69220332e-04]\n",
      "  [1.27810403e-04 5.43762324e-03 1.27879903e-03 ... 4.58898024e-12\n",
      "   7.43857527e-04 1.66781526e-03]\n",
      "  [1.15105999e-04 6.24966100e-02 6.87115680e-05 ... 1.07083675e-10\n",
      "   1.77461607e-03 5.45509218e-04]\n",
      "  ...\n",
      "  [9.68707979e-01 1.90838662e-07 9.76648664e-08 ... 2.40572617e-10\n",
      "   1.46799081e-07 3.12725976e-02]\n",
      "  [2.94563938e-02 3.54809202e-07 6.27672776e-08 ... 7.02383410e-13\n",
      "   2.20148081e-07 9.70529854e-01]\n",
      "  [9.48558986e-01 1.01533919e-06 4.04997536e-07 ... 3.21080301e-10\n",
      "   4.92867173e-07 5.14002331e-02]]]\n",
      "1\n",
      "len yhat: 1\n",
      "Original: set white in h two soon\n",
      "Prediction: bin white wit ne sown\n",
      "~~~~~~~~~~~~~~~~~~~~~~~~~~~~~~~~~~~~~~~~~~~~~~~~~~~~~~~~~~~~~~~~~~~~~~~~~~~~~~~~~~~~~~~~~~~~~~~~~~~~\n",
      "1193/1193 [==============================] - 367s 308ms/step - loss: 23.0490 - val_loss: 17.5388 - lr: 1.0000e-04\n",
      "Epoch 26/50\n",
      "1/1 [==============================] - 0s 29ms/steps - loss: 21.39\n",
      "yhat------------\n",
      "(1, 75, 41)\n",
      "[8.1751306e-05 4.8061452e-04 4.7793022e-01 6.8420974e-05 1.6911477e-05\n",
      " 1.3446633e-03 1.3339636e-04 1.1800576e-03 2.4704396e-04 2.2075011e-03\n",
      " 2.2299275e-05 3.2278782e-05 3.0787915e-02 2.1092164e-05 2.7026411e-04\n",
      " 5.9350343e-05 2.2032561e-02 1.0047678e-05 3.6038581e-04 4.5794374e-01\n",
      " 4.1693030e-04 9.5939140e-05 4.3840773e-05 1.7604131e-04 3.6264293e-05\n",
      " 3.7320779e-04 7.9476515e-05 6.6383987e-10 4.8274618e-10 2.9400182e-10\n",
      " 2.8613384e-10 6.8374684e-10 6.3291267e-10 8.3141027e-10 4.2077525e-10\n",
      " 7.7472756e-10 5.1110349e-10 6.3709243e-10 5.4084703e-10 3.2388528e-03\n",
      " 3.0889272e-04]\n",
      "1\n",
      "[[[8.1751306e-05 4.8061452e-04 4.7793022e-01 ... 5.4084703e-10\n",
      "   3.2388528e-03 3.0889272e-04]\n",
      "  [7.8094163e-05 4.3947245e-03 1.1818871e-03 ... 9.0885004e-13\n",
      "   4.8901082e-04 2.0959459e-03]\n",
      "  [9.2599839e-05 5.7404730e-02 6.6567467e-05 ... 5.1445129e-11\n",
      "   1.3142059e-03 5.5346731e-04]\n",
      "  ...\n",
      "  [9.8745769e-01 6.8686703e-08 4.5184379e-08 ... 1.3340347e-10\n",
      "   5.1788732e-08 1.2533223e-02]\n",
      "  [2.1959389e-02 1.7837850e-07 3.7902087e-08 ... 3.1510078e-13\n",
      "   1.2453397e-07 9.7803098e-01]\n",
      "  [9.6177077e-01 6.8795367e-07 3.2531514e-07 ... 2.8046659e-10\n",
      "   2.9141074e-07 3.8200252e-02]]]\n",
      "1\n",
      "len yhat: 1\n",
      "Original: bin blue at r six now\n",
      "Prediction: bin brued at six now\n",
      "~~~~~~~~~~~~~~~~~~~~~~~~~~~~~~~~~~~~~~~~~~~~~~~~~~~~~~~~~~~~~~~~~~~~~~~~~~~~~~~~~~~~~~~~~~~~~~~~~~~~\n",
      "1193/1193 [==============================] - 367s 307ms/step - loss: 21.3933 - val_loss: 15.6807 - lr: 1.0000e-04\n",
      "Epoch 27/50\n",
      "1/1 [==============================] - 0s 29ms/steps - loss: 19.48\n",
      "yhat------------\n",
      "(1, 75, 41)\n",
      "[4.45582846e-05 3.46958608e-04 8.03978294e-02 7.20524695e-05\n",
      " 1.11496893e-05 2.53382226e-04 6.29886272e-05 1.02533275e-04\n",
      " 1.74715475e-04 2.80049484e-04 2.79784254e-05 1.72138461e-05\n",
      " 2.01439872e-01 4.18466225e-05 1.61965163e-05 9.29464295e-06\n",
      " 6.59629464e-01 4.03631930e-05 7.17808070e-05 5.64419217e-02\n",
      " 3.61255479e-05 2.85112092e-05 3.16422411e-05 1.98120306e-05\n",
      " 3.59788755e-05 5.87582363e-05 2.17497382e-05 8.15707750e-08\n",
      " 9.06965738e-08 8.42887786e-08 6.98378742e-08 9.44427185e-08\n",
      " 5.40091598e-08 5.32685647e-08 8.26789801e-08 9.02152095e-08\n",
      " 6.09887820e-08 4.60279672e-08 9.99311567e-08 2.51073972e-04\n",
      " 3.33353637e-05]\n",
      "1\n",
      "[[[4.4558285e-05 3.4695861e-04 8.0397829e-02 ... 9.9931157e-08\n",
      "   2.5107397e-04 3.3335364e-05]\n",
      "  [2.6092479e-05 3.9605396e-03 4.8543781e-04 ... 4.5352389e-10\n",
      "   2.4108709e-05 1.9271403e-04]\n",
      "  [7.5471777e-05 8.9402157e-01 5.7982281e-05 ... 3.6013738e-08\n",
      "   8.8250759e-05 1.7487438e-04]\n",
      "  ...\n",
      "  [9.8100692e-01 9.2554330e-08 5.6873560e-08 ... 2.9648706e-10\n",
      "   7.0185550e-08 1.8981114e-02]\n",
      "  [1.8896820e-02 1.9895742e-07 4.4201904e-08 ... 8.2820843e-13\n",
      "   1.3477252e-07 9.8109400e-01]\n",
      "  [9.5419198e-01 6.6857143e-07 3.2102494e-07 ... 2.3735938e-10\n",
      "   3.2934719e-07 4.5781344e-02]]]\n",
      "1\n",
      "len yhat: 1\n",
      "Original: place blue with i seven now\n",
      "Prediction: place blue wit se now\n",
      "~~~~~~~~~~~~~~~~~~~~~~~~~~~~~~~~~~~~~~~~~~~~~~~~~~~~~~~~~~~~~~~~~~~~~~~~~~~~~~~~~~~~~~~~~~~~~~~~~~~~\n",
      "1193/1193 [==============================] - 366s 307ms/step - loss: 19.4847 - val_loss: 14.5392 - lr: 1.0000e-04\n",
      "Epoch 28/50\n",
      "1/1 [==============================] - 0s 37ms/steps - loss: 17.89\n",
      "yhat------------\n",
      "(1, 75, 41)\n",
      "[2.94390484e-05 4.44355072e-04 3.47714908e-02 1.62383403e-05\n",
      " 2.54922588e-06 1.08246568e-04 2.68720505e-05 5.12059851e-05\n",
      " 1.69378356e-04 1.74496861e-04 1.42518220e-05 8.61202716e-06\n",
      " 7.33971298e-01 1.02068079e-05 8.83276698e-06 5.06555989e-06\n",
      " 2.08289266e-01 1.32732421e-05 3.70626767e-05 2.15650965e-02\n",
      " 2.34974850e-05 1.66997706e-05 9.40422433e-06 9.32620060e-06\n",
      " 1.75953610e-05 5.04208147e-05 1.03812845e-05 1.33144509e-08\n",
      " 1.63183724e-08 1.39631711e-08 8.73009931e-09 1.31786750e-08\n",
      " 1.25797852e-08 1.33262406e-08 1.09108234e-08 1.27020243e-08\n",
      " 1.29801991e-08 1.45921382e-08 1.56272453e-08 1.21069468e-04\n",
      " 2.40797053e-05]\n",
      "1\n",
      "[[[2.9439048e-05 4.4435507e-04 3.4771491e-02 ... 1.5627245e-08\n",
      "   1.2106947e-04 2.4079705e-05]\n",
      "  [6.2275335e-06 3.6747970e-03 8.1654522e-05 ... 4.0667712e-11\n",
      "   3.6621234e-06 5.7722929e-05]\n",
      "  [1.7558625e-05 9.5421958e-01 9.1286711e-06 ... 3.4860363e-09\n",
      "   1.7283090e-05 7.0611808e-05]\n",
      "  ...\n",
      "  [9.8857760e-01 2.9753343e-08 1.8224350e-08 ... 1.7704203e-10\n",
      "   2.2987392e-08 1.1415380e-02]\n",
      "  [1.6897520e-02 6.9340693e-08 1.4611817e-08 ... 1.8543068e-13\n",
      "   6.0911844e-08 9.8309660e-01]\n",
      "  [9.7013491e-01 2.5192108e-07 1.2368886e-07 ... 1.7768739e-10\n",
      "   1.5562946e-07 2.9847737e-02]]]\n",
      "1\n",
      "len yhat: 1\n",
      "Original: lay green at l seven please\n",
      "Prediction: lay gren at seve please\n",
      "~~~~~~~~~~~~~~~~~~~~~~~~~~~~~~~~~~~~~~~~~~~~~~~~~~~~~~~~~~~~~~~~~~~~~~~~~~~~~~~~~~~~~~~~~~~~~~~~~~~~\n",
      "1193/1193 [==============================] - 368s 309ms/step - loss: 17.8930 - val_loss: 13.5914 - lr: 1.0000e-04\n",
      "Epoch 29/50\n",
      "1/1 [==============================] - 0s 30ms/steps - loss: 16.31\n",
      "yhat------------\n",
      "(1, 75, 41)\n",
      "[2.43360773e-05 2.06020239e-04 4.17858213e-01 3.06962793e-05\n",
      " 7.99347254e-06 1.18858216e-03 4.41668271e-05 4.09173896e-04\n",
      " 9.17084399e-05 1.46778638e-03 7.62621767e-06 8.23075152e-06\n",
      " 4.75691119e-03 1.03884540e-05 1.78974457e-04 4.59356525e-05\n",
      " 8.05911794e-03 3.98860084e-06 1.50590480e-04 5.62307358e-01\n",
      " 2.28868899e-04 4.64274635e-05 2.43467093e-05 9.73693823e-05\n",
      " 2.51318725e-05 9.04970511e-05 3.57374156e-05 1.01044006e-10\n",
      " 5.49811169e-11 5.89899588e-11 5.06947644e-11 1.14626780e-10\n",
      " 6.68086905e-11 1.01321916e-10 6.80178344e-11 1.30870453e-10\n",
      " 6.49268347e-11 5.27997472e-11 8.09631945e-11 2.42209574e-03\n",
      " 1.71740758e-04]\n",
      "1\n",
      "[[[2.4336077e-05 2.0602024e-04 4.1785821e-01 ... 8.0963194e-11\n",
      "   2.4220957e-03 1.7174076e-04]\n",
      "  [3.2948832e-05 1.5683156e-03 7.0445525e-04 ... 2.7604465e-13\n",
      "   3.5830314e-04 1.2054970e-03]\n",
      "  [4.9102458e-05 1.0888234e-02 3.2417316e-05 ... 8.3039886e-12\n",
      "   9.1055321e-04 3.1568302e-04]\n",
      "  ...\n",
      "  [9.7652233e-01 4.0658865e-08 3.6645520e-08 ... 3.8086090e-10\n",
      "   2.8580413e-08 2.3468865e-02]\n",
      "  [1.3123044e-02 9.2489749e-08 2.7817215e-08 ... 2.7902805e-13\n",
      "   4.3998309e-08 9.8687184e-01]\n",
      "  [9.6386647e-01 4.3459443e-07 2.6877609e-07 ... 1.4001357e-10\n",
      "   1.3784546e-07 3.6114931e-02]]]\n",
      "1\n",
      "len yhat: 1\n",
      "Original: bin white with n three now\n",
      "Prediction: sen white with h thre now\n",
      "~~~~~~~~~~~~~~~~~~~~~~~~~~~~~~~~~~~~~~~~~~~~~~~~~~~~~~~~~~~~~~~~~~~~~~~~~~~~~~~~~~~~~~~~~~~~~~~~~~~~\n",
      "1193/1193 [==============================] - 367s 308ms/step - loss: 16.3114 - val_loss: 11.5495 - lr: 1.0000e-04\n",
      "Epoch 30/50\n",
      "1/1 [==============================] - 0s 29ms/steps - loss: 14.94\n",
      "yhat------------\n",
      "(1, 75, 41)\n",
      "[1.19153165e-05 1.55324495e-04 9.64323804e-03 2.52647606e-05\n",
      " 2.10924031e-06 3.04766909e-05 1.17432455e-05 1.21878447e-05\n",
      " 4.34635440e-05 3.59962432e-05 1.01500209e-05 5.49293145e-06\n",
      " 1.79402620e-01 9.88048123e-06 1.38721839e-06 9.95737082e-07\n",
      " 8.06178093e-01 1.31313445e-05 9.11678944e-06 4.33225371e-03\n",
      " 3.75655782e-06 3.89396155e-06 5.96017298e-06 1.66588961e-06\n",
      " 7.94854623e-06 1.16521369e-05 3.35775235e-06 1.43019520e-07\n",
      " 1.78280658e-07 1.62681275e-07 1.21550073e-07 2.02944946e-07\n",
      " 1.11440457e-07 8.05402181e-08 1.49828864e-07 1.54778192e-07\n",
      " 1.14256309e-07 8.50464872e-08 1.87391663e-07 2.06261429e-05\n",
      " 4.57154920e-06]\n",
      "1\n",
      "[[[1.19153165e-05 1.55324495e-04 9.64323804e-03 ... 1.87391663e-07\n",
      "   2.06261429e-05 4.57154920e-06]\n",
      "  [3.31293086e-06 1.62865827e-03 5.08519770e-05 ... 8.37049374e-10\n",
      "   8.21187200e-07 1.38026808e-05]\n",
      "  [1.34327483e-05 9.94203746e-01 4.90255889e-06 ... 5.73371040e-08\n",
      "   1.68900681e-06 1.93333472e-05]\n",
      "  ...\n",
      "  [9.92633402e-01 5.09499358e-08 3.80582676e-08 ... 8.60571822e-11\n",
      "   2.31921149e-08 7.36060971e-03]\n",
      "  [5.97644178e-03 6.78612437e-08 1.45096353e-08 ... 3.13332734e-14\n",
      "   3.96083379e-08 9.94018793e-01]\n",
      "  [9.73913610e-01 3.85404633e-07 1.80180265e-07 ... 5.38405848e-11\n",
      "   1.32606345e-07 2.60692202e-02]]]\n",
      "1\n",
      "len yhat: 1\n",
      "Original: place blue with o nine soon\n",
      "Prediction: place brue wit v seve son\n",
      "~~~~~~~~~~~~~~~~~~~~~~~~~~~~~~~~~~~~~~~~~~~~~~~~~~~~~~~~~~~~~~~~~~~~~~~~~~~~~~~~~~~~~~~~~~~~~~~~~~~~\n",
      "1193/1193 [==============================] - 367s 307ms/step - loss: 14.9468 - val_loss: 10.8881 - lr: 1.0000e-04\n",
      "Epoch 31/50\n",
      "1/1 [==============================] - 0s 31ms/steps - loss: 13.73\n",
      "yhat------------\n",
      "(1, 75, 41)\n",
      "[5.40241490e-06 6.40767830e-05 4.56815818e-03 2.44040057e-05\n",
      " 1.19570961e-06 2.00464456e-05 6.30962086e-06 4.91669425e-06\n",
      " 1.32279356e-05 1.09266739e-05 4.80196513e-06 2.66505026e-06\n",
      " 6.20258339e-02 6.44120109e-06 5.12331269e-07 3.40502368e-07\n",
      " 9.30203438e-01 7.38325343e-06 4.51271990e-06 2.99179414e-03\n",
      " 1.42526528e-06 1.64044206e-06 3.67718008e-06 4.46945535e-07\n",
      " 4.31268836e-06 6.41338511e-06 2.25206577e-06 1.42103957e-07\n",
      " 1.73731550e-07 1.51537449e-07 1.20795434e-07 2.19503363e-07\n",
      " 1.00995585e-07 7.81185392e-08 1.41692979e-07 1.35386827e-07\n",
      " 1.05198609e-07 7.75455149e-08 1.72046512e-07 1.02771201e-05\n",
      " 1.47811602e-06]\n",
      "1\n",
      "[[[5.4024149e-06 6.4076783e-05 4.5681582e-03 ... 1.7204651e-07\n",
      "   1.0277120e-05 1.4781160e-06]\n",
      "  [2.1360424e-06 9.1460795e-04 3.8135491e-05 ... 1.3409022e-09\n",
      "   4.5182401e-07 9.1607517e-06]\n",
      "  [1.5266496e-05 9.9404633e-01 8.1901971e-06 ... 1.1844741e-07\n",
      "   8.0795417e-07 2.6044063e-05]\n",
      "  ...\n",
      "  [9.9277812e-01 2.7698645e-08 2.7762381e-08 ... 6.5422584e-11\n",
      "   2.0081000e-08 7.2155022e-03]\n",
      "  [9.1782119e-03 4.2535003e-08 1.6718852e-08 ... 3.2126543e-14\n",
      "   3.4641708e-08 9.9081647e-01]\n",
      "  [9.7387278e-01 3.0392943e-07 1.5341570e-07 ... 2.9477747e-11\n",
      "   8.9599560e-08 2.6110947e-02]]]\n",
      "1\n",
      "len yhat: 1\n",
      "Original: place red with i nine sp please\n",
      "Prediction: place red with i nine please\n",
      "~~~~~~~~~~~~~~~~~~~~~~~~~~~~~~~~~~~~~~~~~~~~~~~~~~~~~~~~~~~~~~~~~~~~~~~~~~~~~~~~~~~~~~~~~~~~~~~~~~~~\n",
      "1193/1193 [==============================] - 367s 308ms/step - loss: 13.7343 - val_loss: 9.6794 - lr: 9.0484e-05\n",
      "Epoch 32/50\n",
      "1/1 [==============================] - 0s 34ms/steps - loss: 12.09\n",
      "yhat------------\n",
      "(1, 75, 41)\n",
      "[2.05284541e-05 4.94551263e-04 7.52891647e-03 7.12897827e-06\n",
      " 5.43015119e-07 1.95213270e-05 2.08783531e-05 1.56570113e-05\n",
      " 1.56975511e-04 1.13811460e-04 9.06153127e-06 4.06847903e-06\n",
      " 8.92132223e-01 4.00179124e-06 1.86139073e-06 1.28616330e-06\n",
      " 9.67768356e-02 1.00834295e-05 6.73759996e-06 2.55665020e-03\n",
      " 1.35993887e-05 7.56427789e-06 2.63425545e-06 5.90778109e-06\n",
      " 7.03701835e-06 4.30699438e-05 3.68735050e-06 6.56636416e-08\n",
      " 7.55521583e-08 4.17642312e-08 3.80221223e-08 5.90291478e-08\n",
      " 6.65046045e-08 5.01481523e-08 4.74821285e-08 4.75686015e-08\n",
      " 5.44395604e-08 5.60745370e-08 6.65186874e-08 2.60927409e-05\n",
      " 8.29339024e-06]\n",
      "1\n",
      "[[[2.05284541e-05 4.94551263e-04 7.52891647e-03 ... 6.65186874e-08\n",
      "   2.60927409e-05 8.29339024e-06]\n",
      "  [1.39524275e-06 1.59874023e-03 1.56123842e-05 ... 8.04377676e-11\n",
      "   3.33324721e-07 5.67235702e-06]\n",
      "  [1.15498915e-05 9.93685663e-01 1.49878713e-06 ... 1.86119617e-08\n",
      "   1.36536949e-06 1.10004439e-05]\n",
      "  ...\n",
      "  [9.94714677e-01 3.87573529e-08 2.91777891e-08 ... 2.57510385e-11\n",
      "   1.13487779e-08 5.28160483e-03]\n",
      "  [4.85231774e-03 6.35652100e-08 9.17276655e-09 ... 6.21037484e-15\n",
      "   2.13909992e-08 9.95144129e-01]\n",
      "  [9.83679354e-01 3.47856826e-07 1.08187216e-07 ... 1.30804438e-11\n",
      "   7.79762246e-08 1.63087696e-02]]]\n",
      "1\n",
      "len yhat: 1\n",
      "Original: lay white by f two now\n",
      "Prediction: lay white by f fwo now\n",
      "~~~~~~~~~~~~~~~~~~~~~~~~~~~~~~~~~~~~~~~~~~~~~~~~~~~~~~~~~~~~~~~~~~~~~~~~~~~~~~~~~~~~~~~~~~~~~~~~~~~~\n",
      "1193/1193 [==============================] - 367s 307ms/step - loss: 12.0963 - val_loss: 8.2750 - lr: 8.1873e-05\n",
      "Epoch 33/50\n",
      "1/1 [==============================] - 0s 31ms/steps - loss: 11.50\n",
      "yhat------------\n",
      "(1, 75, 41)\n",
      "[2.63522156e-06 3.50146947e-05 3.35092354e-03 1.05582922e-05\n",
      " 5.84833685e-07 6.72129545e-06 3.26294548e-06 2.19467165e-06\n",
      " 6.11954601e-06 6.37180483e-06 2.11430392e-06 1.27616090e-06\n",
      " 2.43206695e-02 3.03349748e-06 1.72929120e-07 1.13336924e-07\n",
      " 9.70571637e-01 3.35862114e-06 1.60788716e-06 1.65719097e-03\n",
      " 5.65704624e-07 5.81882318e-07 1.39145197e-06 2.45559960e-07\n",
      " 2.13616863e-06 2.48508468e-06 8.69617338e-07 9.91292239e-08\n",
      " 1.19908833e-07 9.29481487e-08 7.73122792e-08 1.47893530e-07\n",
      " 7.15534725e-08 5.08684685e-08 9.08740034e-08 7.99361146e-08\n",
      " 7.24349078e-08 5.00691328e-08 1.13384594e-07 4.62528851e-06\n",
      " 4.62716116e-07]\n",
      "1\n",
      "[[[2.63522156e-06 3.50146947e-05 3.35092354e-03 ... 1.13384594e-07\n",
      "   4.62528851e-06 4.62716116e-07]\n",
      "  [1.85014051e-06 8.07161676e-04 6.42991363e-05 ... 1.78636705e-09\n",
      "   2.28220912e-07 6.23375263e-06]\n",
      "  [1.14556087e-05 9.90665674e-01 2.34737545e-05 ... 5.53961783e-08\n",
      "   6.03780734e-07 1.39672584e-05]\n",
      "  ...\n",
      "  [9.97524440e-01 1.52552584e-08 8.46578097e-09 ... 2.12495143e-11\n",
      "   5.38015188e-09 2.47340580e-03]\n",
      "  [6.21796306e-03 4.35365841e-08 6.02323125e-09 ... 9.24913561e-15\n",
      "   2.00132231e-08 9.93779361e-01]\n",
      "  [9.88807976e-01 2.07778740e-07 5.91444191e-08 ... 1.34763294e-11\n",
      "   4.14562749e-08 1.11851562e-02]]]\n",
      "1\n",
      "len yhat: 1\n",
      "Original: place blue at b nine soon\n",
      "Prediction: place blue an n nin son\n",
      "~~~~~~~~~~~~~~~~~~~~~~~~~~~~~~~~~~~~~~~~~~~~~~~~~~~~~~~~~~~~~~~~~~~~~~~~~~~~~~~~~~~~~~~~~~~~~~~~~~~~\n",
      "1193/1193 [==============================] - 365s 306ms/step - loss: 11.5038 - val_loss: 8.2008 - lr: 7.4082e-05\n",
      "Epoch 34/50\n",
      "1/1 [==============================] - 0s 33ms/steps - loss: 10.55\n",
      "yhat------------\n",
      "(1, 75, 41)\n",
      "[3.47679475e-06 8.12039507e-05 3.73238558e-03 1.26128898e-05\n",
      " 4.93724201e-07 7.86337387e-06 3.98963721e-06 3.85305157e-06\n",
      " 1.11243316e-05 1.30406352e-05 3.18390858e-06 1.50185929e-06\n",
      " 4.26977463e-02 3.94208109e-06 3.05865626e-07 2.04535368e-07\n",
      " 9.51974392e-01 5.07608956e-06 1.79160463e-06 1.42218685e-03\n",
      " 9.03214470e-07 7.39986206e-07 1.47331230e-06 4.59428406e-07\n",
      " 3.08288804e-06 4.44833040e-06 1.09353073e-06 1.33353780e-07\n",
      " 1.62392411e-07 1.33597567e-07 1.20858900e-07 2.08426727e-07\n",
      " 1.11545333e-07 7.46168070e-08 1.37688886e-07 1.12157835e-07\n",
      " 1.13860196e-07 8.22690822e-08 1.85108448e-07 5.00903889e-06\n",
      " 6.43061412e-07]\n",
      "1\n",
      "[[[3.47679475e-06 8.12039507e-05 3.73238558e-03 ... 1.85108448e-07\n",
      "   5.00903889e-06 6.43061412e-07]\n",
      "  [1.52872747e-06 1.54253759e-03 2.73417663e-05 ... 1.04714326e-09\n",
      "   1.76846967e-07 4.88541491e-06]\n",
      "  [1.05401405e-05 9.96034682e-01 2.84376097e-06 ... 5.31141602e-08\n",
      "   4.45369238e-07 8.07439574e-06]\n",
      "  ...\n",
      "  [9.98539686e-01 2.43288429e-08 1.77560953e-08 ... 2.76954275e-11\n",
      "   4.46471393e-09 1.45815860e-03]\n",
      "  [3.40209273e-03 4.38552661e-08 6.23666629e-09 ... 6.92479546e-15\n",
      "   8.73154349e-09 9.96595800e-01]\n",
      "  [9.88507271e-01 2.69953773e-07 8.96393715e-08 ... 2.83788132e-11\n",
      "   3.40429374e-08 1.14846351e-02]]]\n",
      "1\n",
      "len yhat: 1\n",
      "Original: place white in b nine please\n",
      "Prediction: place white in n nine please\n",
      "~~~~~~~~~~~~~~~~~~~~~~~~~~~~~~~~~~~~~~~~~~~~~~~~~~~~~~~~~~~~~~~~~~~~~~~~~~~~~~~~~~~~~~~~~~~~~~~~~~~~\n",
      "1193/1193 [==============================] - 367s 308ms/step - loss: 10.5545 - val_loss: 6.5443 - lr: 6.7032e-05\n",
      "Epoch 35/50\n",
      "1/1 [==============================] - 0s 35ms/steps - loss: 9.36\n",
      "yhat------------\n",
      "(1, 75, 41)\n",
      "[8.41288693e-06 6.16091420e-04 3.28895589e-03 1.85841407e-06\n",
      " 8.49027941e-08 3.12015140e-06 7.99817462e-06 1.51808645e-05\n",
      " 7.12711117e-05 3.14540739e-05 4.55399913e-06 1.11546058e-06\n",
      " 9.88291562e-01 6.92652804e-07 1.03002117e-06 3.31681434e-07\n",
      " 7.19562592e-03 1.62329047e-06 3.05096728e-06 3.86839878e-04\n",
      " 5.84866029e-06 3.12951784e-06 6.22089601e-07 1.50890446e-06\n",
      " 1.04074047e-06 3.79208868e-05 9.65057097e-07 4.42248460e-09\n",
      " 4.02634148e-09 3.09140447e-09 2.20553775e-09 2.66972910e-09\n",
      " 3.38945871e-09 3.71430131e-09 2.37516762e-09 3.28552718e-09\n",
      " 2.17333285e-09 2.90360180e-09 3.71670383e-09 9.96299605e-06\n",
      " 8.03581406e-06]\n",
      "1\n",
      "[[[8.41288693e-06 6.16091420e-04 3.28895589e-03 ... 3.71670383e-09\n",
      "   9.96299605e-06 8.03581406e-06]\n",
      "  [9.69298526e-07 3.25781968e-03 1.17297950e-05 ... 1.15633015e-11\n",
      "   1.27459714e-07 9.58339933e-06]\n",
      "  [6.76983291e-06 9.95443344e-01 1.11529539e-06 ... 8.35717995e-10\n",
      "   7.07904064e-07 1.23514419e-05]\n",
      "  ...\n",
      "  [9.96609747e-01 1.01135624e-08 7.57105489e-09 ... 3.43185202e-11\n",
      "   4.01664080e-09 3.38767469e-03]\n",
      "  [3.47793102e-03 3.37666748e-08 4.63730876e-09 ... 1.83340366e-14\n",
      "   9.55143431e-09 9.96520519e-01]\n",
      "  [9.90472555e-01 1.74587484e-07 6.30961665e-08 ... 3.78912873e-11\n",
      "   2.70907279e-08 9.52131208e-03]]]\n",
      "1\n",
      "len yhat: 1\n",
      "Original: lay green by f nine soon\n",
      "Prediction: lay gren by f nine son\n",
      "~~~~~~~~~~~~~~~~~~~~~~~~~~~~~~~~~~~~~~~~~~~~~~~~~~~~~~~~~~~~~~~~~~~~~~~~~~~~~~~~~~~~~~~~~~~~~~~~~~~~\n",
      "1193/1193 [==============================] - 369s 309ms/step - loss: 9.3623 - val_loss: 6.1743 - lr: 6.0653e-05\n",
      "Epoch 36/50\n",
      "1/1 [==============================] - 0s 43ms/steps - loss: 8.54\n",
      "yhat------------\n",
      "(1, 75, 41)\n",
      "[6.87806642e-06 5.01624192e-04 5.25118876e-03 1.71132865e-06\n",
      " 8.83046596e-08 3.07306800e-06 1.21094672e-05 1.02990898e-05\n",
      " 1.00639525e-04 5.31033438e-05 4.40498570e-06 1.46897787e-06\n",
      " 9.76843119e-01 1.05992945e-06 7.61578292e-07 3.17934223e-07\n",
      " 1.65692754e-02 2.53816370e-06 2.54920110e-06 5.80745516e-04\n",
      " 5.68423275e-06 3.04760943e-06 6.09054666e-07 2.86625323e-06\n",
      " 1.63993730e-06 2.33105311e-05 9.32207001e-07 1.29550441e-08\n",
      " 1.10589928e-08 8.74079475e-09 6.85161350e-09 8.45693471e-09\n",
      " 1.18806005e-08 1.03714211e-08 7.87972354e-09 1.09423333e-08\n",
      " 7.57434471e-09 9.16422316e-09 1.21900934e-08 1.06708840e-05\n",
      " 4.26786301e-06]\n",
      "1\n",
      "[[[6.8780664e-06 5.0162419e-04 5.2511888e-03 ... 1.2190093e-08\n",
      "   1.0670884e-05 4.2678630e-06]\n",
      "  [5.1559067e-07 1.8231896e-03 1.1689440e-05 ... 1.8724812e-11\n",
      "   7.6590261e-08 3.9824718e-06]\n",
      "  [2.7882643e-06 9.9734110e-01 5.3144407e-07 ... 1.1626112e-09\n",
      "   2.7478032e-07 3.7876514e-06]\n",
      "  ...\n",
      "  [9.9774230e-01 7.8102600e-09 3.3972891e-09 ... 1.3243124e-11\n",
      "   1.8923589e-09 2.2565227e-03]\n",
      "  [2.3061752e-03 2.1056628e-08 1.5964887e-09 ... 2.0823784e-15\n",
      "   5.0232041e-09 9.9769258e-01]\n",
      "  [9.9216169e-01 1.5436027e-07 3.8300310e-08 ... 1.1216130e-11\n",
      "   2.0820579e-08 7.8336215e-03]]]\n",
      "1\n",
      "len yhat: 1\n",
      "Original: lay white in q three please\n",
      "Prediction: lay white in q thre please\n",
      "~~~~~~~~~~~~~~~~~~~~~~~~~~~~~~~~~~~~~~~~~~~~~~~~~~~~~~~~~~~~~~~~~~~~~~~~~~~~~~~~~~~~~~~~~~~~~~~~~~~~\n",
      "1193/1193 [==============================] - 367s 308ms/step - loss: 8.5419 - val_loss: 5.3660 - lr: 5.4881e-05\n",
      "Epoch 37/50\n",
      "1/1 [==============================] - 0s 44ms/steps - loss: 7.91\n",
      "yhat------------\n",
      "(1, 75, 41)\n",
      "[2.7680069e-06 4.8684695e-05 1.4632344e-03 1.5020739e-05 5.2397536e-07\n",
      " 4.8297784e-06 2.7281017e-06 1.8906129e-06 8.6302753e-06 5.0251506e-06\n",
      " 2.3670759e-06 1.0952656e-06 1.5054598e-02 2.9066452e-06 2.0447128e-07\n",
      " 9.7523646e-08 9.8209989e-01 4.7122808e-06 1.2642597e-06 1.2655217e-03\n",
      " 7.8070235e-07 3.6302848e-07 9.4526803e-07 1.9525694e-07 2.3168957e-06\n",
      " 2.7017109e-06 1.0379185e-06 1.5814577e-07 1.7173420e-07 1.5806539e-07\n",
      " 1.3300151e-07 2.2255489e-07 1.2444235e-07 8.3027338e-08 1.6987140e-07\n",
      " 1.3517896e-07 1.4710766e-07 1.0443679e-07 2.1194192e-07 3.3881324e-06\n",
      " 4.2439652e-07]\n",
      "1\n",
      "[[[2.76800688e-06 4.86846948e-05 1.46323442e-03 ... 2.11941924e-07\n",
      "   3.38813243e-06 4.24396518e-07]\n",
      "  [1.82187625e-06 2.05263705e-03 1.49983771e-05 ... 2.92672331e-09\n",
      "   1.66140424e-07 5.70245720e-06]\n",
      "  [3.75730224e-06 9.97996867e-01 4.80082747e-07 ... 1.28685631e-08\n",
      "   1.88726503e-07 3.95747384e-06]\n",
      "  ...\n",
      "  [9.98664618e-01 1.26949997e-08 4.66439909e-09 ... 1.43830494e-11\n",
      "   1.67903136e-09 1.33420934e-03]\n",
      "  [2.24123988e-03 2.71946874e-08 1.51191204e-09 ... 3.99091262e-15\n",
      "   4.08605727e-09 9.97757614e-01]\n",
      "  [9.92027700e-01 1.70424030e-07 3.90639237e-08 ... 1.42793164e-11\n",
      "   1.76498567e-08 7.96783715e-03]]]\n",
      "1\n",
      "len yhat: 1\n",
      "Original: place white at c eight please\n",
      "Prediction: place white at c eight please\n",
      "~~~~~~~~~~~~~~~~~~~~~~~~~~~~~~~~~~~~~~~~~~~~~~~~~~~~~~~~~~~~~~~~~~~~~~~~~~~~~~~~~~~~~~~~~~~~~~~~~~~~\n",
      "1193/1193 [==============================] - 367s 308ms/step - loss: 7.9152 - val_loss: 5.1977 - lr: 4.9659e-05\n",
      "Epoch 38/50\n",
      "1193/1193 [==============================] - ETA: 0s - loss: 7.4559"
     ]
    },
    {
     "name": "stderr",
     "output_type": "stream",
     "text": [
      "2024-01-20 03:08:12.246438: W tensorflow/core/framework/op_kernel.cc:1839] OP_REQUIRES failed at strided_slice_op.cc:117 : INVALID_ARGUMENT: slice index 1 of dimension 0 out of bounds.\n",
      "2024-01-20 03:08:12.249995: W tensorflow/core/framework/op_kernel.cc:1827] UNKNOWN: InvalidArgumentError: {{function_node __wrapped__StridedSlice_device_/job:localhost/replica:0/task:0/device:GPU:0}} slice index 1 of dimension 0 out of bounds. [Op:StridedSlice] name: strided_slice/\n",
      "Traceback (most recent call last):\n",
      "\n",
      "  File \"/home/unbarrier/.pyenv/versions/3.11.7/envs/py3.11/lib/python3.11/site-packages/tensorflow/python/ops/script_ops.py\", line 268, in __call__\n",
      "    return func(device, token, args)\n",
      "           ^^^^^^^^^^^^^^^^^^^^^^^^^\n",
      "\n",
      "  File \"/home/unbarrier/.pyenv/versions/3.11.7/envs/py3.11/lib/python3.11/site-packages/tensorflow/python/ops/script_ops.py\", line 146, in __call__\n",
      "    outputs = self._call(device, args)\n",
      "              ^^^^^^^^^^^^^^^^^^^^^^^^\n",
      "\n",
      "  File \"/home/unbarrier/.pyenv/versions/3.11.7/envs/py3.11/lib/python3.11/site-packages/tensorflow/python/ops/script_ops.py\", line 153, in _call\n",
      "    ret = self._func(*args)\n",
      "          ^^^^^^^^^^^^^^^^^\n",
      "\n",
      "  File \"/home/unbarrier/.pyenv/versions/3.11.7/envs/py3.11/lib/python3.11/site-packages/tensorflow/python/autograph/impl/api.py\", line 643, in wrapper\n",
      "    return func(*args, **kwargs)\n",
      "           ^^^^^^^^^^^^^^^^^^^^^\n",
      "\n",
      "  File \"/tmp/ipykernel_364371/3595898013.py\", line 19, in load_data\n",
      "    alignments = load_alignments(alignment_path)\n",
      "                 ^^^^^^^^^^^^^^^^^^^^^^^^^^^^^^^\n",
      "\n",
      "  File \"/tmp/ipykernel_364371/2697028414.py\", line 12, in load_alignments\n",
      "    tokens = tf.strings.unicode_split(tokens, input_encoding='UTF-8')\n",
      "             ^^^^^^^^^^^^^^^^^^^^^^^^^^^^^^^^^^^^^^^^^^^^^^^^^^^^^^^^\n",
      "\n",
      "  File \"/home/unbarrier/.pyenv/versions/3.11.7/envs/py3.11/lib/python3.11/site-packages/tensorflow/python/util/traceback_utils.py\", line 153, in error_handler\n",
      "    raise e.with_traceback(filtered_tb) from None\n",
      "\n",
      "  File \"/home/unbarrier/.pyenv/versions/3.11.7/envs/py3.11/lib/python3.11/site-packages/tensorflow/python/framework/ops.py\", line 5883, in raise_from_not_ok_status\n",
      "    raise core._status_to_exception(e) from None  # pylint: disable=protected-access\n",
      "    ^^^^^^^^^^^^^^^^^^^^^^^^^^^^^^^^^^^^^^^^^^^^\n",
      "\n",
      "tensorflow.python.framework.errors_impl.InvalidArgumentError: {{function_node __wrapped__StridedSlice_device_/job:localhost/replica:0/task:0/device:GPU:0}} slice index 1 of dimension 0 out of bounds. [Op:StridedSlice] name: strided_slice/\n",
      "\n",
      "\n",
      "2024-01-20 03:08:12.250386: W tensorflow/core/framework/op_kernel.cc:1827] UNKNOWN: InvalidArgumentError: {{function_node __wrapped__Reshape_device_/job:localhost/replica:0/task:0/device:GPU:0}} sizes input must be 1-D, not [22,1] [Op:Reshape]\n",
      "Traceback (most recent call last):\n",
      "\n",
      "  File \"/home/unbarrier/.pyenv/versions/3.11.7/envs/py3.11/lib/python3.11/site-packages/tensorflow/python/ops/script_ops.py\", line 268, in __call__\n",
      "    return func(device, token, args)\n",
      "           ^^^^^^^^^^^^^^^^^^^^^^^^^\n",
      "\n",
      "  File \"/home/unbarrier/.pyenv/versions/3.11.7/envs/py3.11/lib/python3.11/site-packages/tensorflow/python/ops/script_ops.py\", line 146, in __call__\n",
      "    outputs = self._call(device, args)\n",
      "              ^^^^^^^^^^^^^^^^^^^^^^^^\n",
      "\n",
      "  File \"/home/unbarrier/.pyenv/versions/3.11.7/envs/py3.11/lib/python3.11/site-packages/tensorflow/python/ops/script_ops.py\", line 153, in _call\n",
      "    ret = self._func(*args)\n",
      "          ^^^^^^^^^^^^^^^^^\n",
      "\n",
      "  File \"/home/unbarrier/.pyenv/versions/3.11.7/envs/py3.11/lib/python3.11/site-packages/tensorflow/python/autograph/impl/api.py\", line 643, in wrapper\n",
      "    return func(*args, **kwargs)\n",
      "           ^^^^^^^^^^^^^^^^^^^^^\n",
      "\n",
      "  File \"/tmp/ipykernel_364371/3595898013.py\", line 18, in load_data\n",
      "    frames = load_video(video_path)\n",
      "             ^^^^^^^^^^^^^^^^^^^^^^\n",
      "\n",
      "  File \"/tmp/ipykernel_364371/1668792994.py\", line 13, in load_video\n",
      "    frame = tf.image.rgb_to_grayscale(frame)\n",
      "            ^^^^^^^^^^^^^^^^^^^^^^^^^^^^^^^^\n",
      "\n",
      "  File \"/home/unbarrier/.pyenv/versions/3.11.7/envs/py3.11/lib/python3.11/site-packages/tensorflow/python/util/traceback_utils.py\", line 153, in error_handler\n",
      "    raise e.with_traceback(filtered_tb) from None\n",
      "\n",
      "  File \"/home/unbarrier/.pyenv/versions/3.11.7/envs/py3.11/lib/python3.11/site-packages/tensorflow/python/eager/execute.py\", line 59, in quick_execute\n",
      "    except TypeError as e:\n",
      "\n",
      "tensorflow.python.framework.errors_impl.InvalidArgumentError: {{function_node __wrapped__Reshape_device_/job:localhost/replica:0/task:0/device:GPU:0}} sizes input must be 1-D, not [22,1] [Op:Reshape]\n",
      "\n",
      "\n",
      "2024-01-20 03:08:12.250483: I tensorflow/core/framework/local_rendezvous.cc:421] Local rendezvous recv item cancelled. Key hash: 3704450445736044805\n",
      "2024-01-20 03:08:12.250503: I tensorflow/core/framework/local_rendezvous.cc:421] Local rendezvous recv item cancelled. Key hash: 6884064693181918687\n",
      "2024-01-20 03:08:12.250512: I tensorflow/core/framework/local_rendezvous.cc:421] Local rendezvous recv item cancelled. Key hash: 12463150804050608027\n",
      "2024-01-20 03:08:12.250519: I tensorflow/core/framework/local_rendezvous.cc:421] Local rendezvous recv item cancelled. Key hash: 8781627486383751254\n",
      "2024-01-20 03:08:12.250527: I tensorflow/core/framework/local_rendezvous.cc:421] Local rendezvous recv item cancelled. Key hash: 5733673018442208558\n",
      "2024-01-20 03:08:12.250533: I tensorflow/core/framework/local_rendezvous.cc:421] Local rendezvous recv item cancelled. Key hash: 12678918906093782576\n",
      "2024-01-20 03:08:12.250541: I tensorflow/core/framework/local_rendezvous.cc:421] Local rendezvous recv item cancelled. Key hash: 7141696827150821480\n",
      "2024-01-20 03:08:12.250555: I tensorflow/core/framework/local_rendezvous.cc:421] Local rendezvous recv item cancelled. Key hash: 15149333991317559978\n"
     ]
    },
    {
     "ename": "UnknownError",
     "evalue": "Graph execution error:\n\nDetected at node EagerPyFunc defined at (most recent call last):\n<stack traces unavailable>\nDetected at node EagerPyFunc defined at (most recent call last):\n<stack traces unavailable>\n2 root error(s) found.\n  (0) UNKNOWN:  InvalidArgumentError: {{function_node __wrapped__Reshape_device_/job:localhost/replica:0/task:0/device:GPU:0}} sizes input must be 1-D, not [22,1] [Op:Reshape]\nTraceback (most recent call last):\n\n  File \"/home/unbarrier/.pyenv/versions/3.11.7/envs/py3.11/lib/python3.11/site-packages/tensorflow/python/ops/script_ops.py\", line 268, in __call__\n    return func(device, token, args)\n           ^^^^^^^^^^^^^^^^^^^^^^^^^\n\n  File \"/home/unbarrier/.pyenv/versions/3.11.7/envs/py3.11/lib/python3.11/site-packages/tensorflow/python/ops/script_ops.py\", line 146, in __call__\n    outputs = self._call(device, args)\n              ^^^^^^^^^^^^^^^^^^^^^^^^\n\n  File \"/home/unbarrier/.pyenv/versions/3.11.7/envs/py3.11/lib/python3.11/site-packages/tensorflow/python/ops/script_ops.py\", line 153, in _call\n    ret = self._func(*args)\n          ^^^^^^^^^^^^^^^^^\n\n  File \"/home/unbarrier/.pyenv/versions/3.11.7/envs/py3.11/lib/python3.11/site-packages/tensorflow/python/autograph/impl/api.py\", line 643, in wrapper\n    return func(*args, **kwargs)\n           ^^^^^^^^^^^^^^^^^^^^^\n\n  File \"/tmp/ipykernel_364371/3595898013.py\", line 18, in load_data\n    frames = load_video(video_path)\n             ^^^^^^^^^^^^^^^^^^^^^^\n\n  File \"/tmp/ipykernel_364371/1668792994.py\", line 13, in load_video\n    frame = tf.image.rgb_to_grayscale(frame)\n            ^^^^^^^^^^^^^^^^^^^^^^^^^^^^^^^^\n\n  File \"/home/unbarrier/.pyenv/versions/3.11.7/envs/py3.11/lib/python3.11/site-packages/tensorflow/python/util/traceback_utils.py\", line 153, in error_handler\n    raise e.with_traceback(filtered_tb) from None\n\n  File \"/home/unbarrier/.pyenv/versions/3.11.7/envs/py3.11/lib/python3.11/site-packages/tensorflow/python/eager/execute.py\", line 59, in quick_execute\n    except TypeError as e:\n\ntensorflow.python.framework.errors_impl.InvalidArgumentError: {{function_node __wrapped__Reshape_device_/job:localhost/replica:0/task:0/device:GPU:0}} sizes input must be 1-D, not [22,1] [Op:Reshape]\n\n\n\t [[{{node EagerPyFunc}}]]\n\t [[IteratorGetNext]]\n\t [[IteratorGetNext/_48]]\n  (1) UNKNOWN:  InvalidArgumentError: {{function_node __wrapped__Reshape_device_/job:localhost/replica:0/task:0/device:GPU:0}} sizes input must be 1-D, not [22,1] [Op:Reshape]\nTraceback (most recent call last):\n\n  File \"/home/unbarrier/.pyenv/versions/3.11.7/envs/py3.11/lib/python3.11/site-packages/tensorflow/python/ops/script_ops.py\", line 268, in __call__\n    return func(device, token, args)\n           ^^^^^^^^^^^^^^^^^^^^^^^^^\n\n  File \"/home/unbarrier/.pyenv/versions/3.11.7/envs/py3.11/lib/python3.11/site-packages/tensorflow/python/ops/script_ops.py\", line 146, in __call__\n    outputs = self._call(device, args)\n              ^^^^^^^^^^^^^^^^^^^^^^^^\n\n  File \"/home/unbarrier/.pyenv/versions/3.11.7/envs/py3.11/lib/python3.11/site-packages/tensorflow/python/ops/script_ops.py\", line 153, in _call\n    ret = self._func(*args)\n          ^^^^^^^^^^^^^^^^^\n\n  File \"/home/unbarrier/.pyenv/versions/3.11.7/envs/py3.11/lib/python3.11/site-packages/tensorflow/python/autograph/impl/api.py\", line 643, in wrapper\n    return func(*args, **kwargs)\n           ^^^^^^^^^^^^^^^^^^^^^\n\n  File \"/tmp/ipykernel_364371/3595898013.py\", line 18, in load_data\n    frames = load_video(video_path)\n             ^^^^^^^^^^^^^^^^^^^^^^\n\n  File \"/tmp/ipykernel_364371/1668792994.py\", line 13, in load_video\n    frame = tf.image.rgb_to_grayscale(frame)\n            ^^^^^^^^^^^^^^^^^^^^^^^^^^^^^^^^\n\n  File \"/home/unbarrier/.pyenv/versions/3.11.7/envs/py3.11/lib/python3.11/site-packages/tensorflow/python/util/traceback_utils.py\", line 153, in error_handler\n    raise e.with_traceback(filtered_tb) from None\n\n  File \"/home/unbarrier/.pyenv/versions/3.11.7/envs/py3.11/lib/python3.11/site-packages/tensorflow/python/eager/execute.py\", line 59, in quick_execute\n    except TypeError as e:\n\ntensorflow.python.framework.errors_impl.InvalidArgumentError: {{function_node __wrapped__Reshape_device_/job:localhost/replica:0/task:0/device:GPU:0}} sizes input must be 1-D, not [22,1] [Op:Reshape]\n\n\n\t [[{{node EagerPyFunc}}]]\n\t [[IteratorGetNext]]\n0 successful operations.\n0 derived errors ignored. [Op:__inference_test_function_73612236]",
     "output_type": "error",
     "traceback": [
      "\u001b[0;31m---------------------------------------------------------------------------\u001b[0m",
      "\u001b[0;31mUnknownError\u001b[0m                              Traceback (most recent call last)",
      "Cell \u001b[0;32mIn[122], line 1\u001b[0m\n\u001b[0;32m----> 1\u001b[0m \u001b[43mmodel\u001b[49m\u001b[38;5;241;43m.\u001b[39;49m\u001b[43mfit\u001b[49m\u001b[43m(\u001b[49m\u001b[43mtrain\u001b[49m\u001b[43m,\u001b[49m\u001b[43m \u001b[49m\u001b[43mvalidation_data\u001b[49m\u001b[38;5;241;43m=\u001b[39;49m\u001b[43mtest\u001b[49m\u001b[43m,\u001b[49m\u001b[43m \u001b[49m\u001b[43mepochs\u001b[49m\u001b[38;5;241;43m=\u001b[39;49m\u001b[38;5;241;43m50\u001b[39;49m\u001b[43m,\u001b[49m\u001b[43m \u001b[49m\u001b[43mcallbacks\u001b[49m\u001b[38;5;241;43m=\u001b[39;49m\u001b[43m[\u001b[49m\u001b[43mcheckpoint_callback\u001b[49m\u001b[43m,\u001b[49m\u001b[43m \u001b[49m\u001b[43mschedule_callback\u001b[49m\u001b[43m,\u001b[49m\u001b[43m \u001b[49m\u001b[43mexample_callback\u001b[49m\u001b[43m]\u001b[49m\u001b[43m)\u001b[49m\n",
      "File \u001b[0;32m~/.pyenv/versions/3.11.7/envs/py3.11/lib/python3.11/site-packages/keras/src/utils/traceback_utils.py:61\u001b[0m, in \u001b[0;36mfilter_traceback.<locals>.error_handler\u001b[0;34m(*args, **kwargs)\u001b[0m\n\u001b[1;32m     59\u001b[0m \u001b[38;5;28;01mdef\u001b[39;00m \u001b[38;5;21merror_handler\u001b[39m(\u001b[38;5;241m*\u001b[39margs, \u001b[38;5;241m*\u001b[39m\u001b[38;5;241m*\u001b[39mkwargs):\n\u001b[1;32m     60\u001b[0m     \u001b[38;5;28;01mif\u001b[39;00m \u001b[38;5;129;01mnot\u001b[39;00m tf\u001b[38;5;241m.\u001b[39mdebugging\u001b[38;5;241m.\u001b[39mis_traceback_filtering_enabled():\n\u001b[0;32m---> 61\u001b[0m         \u001b[38;5;28;01mreturn\u001b[39;00m \u001b[43mfn\u001b[49m\u001b[43m(\u001b[49m\u001b[38;5;241;43m*\u001b[39;49m\u001b[43margs\u001b[49m\u001b[43m,\u001b[49m\u001b[43m \u001b[49m\u001b[38;5;241;43m*\u001b[39;49m\u001b[38;5;241;43m*\u001b[39;49m\u001b[43mkwargs\u001b[49m\u001b[43m)\u001b[49m\n\u001b[1;32m     63\u001b[0m     filtered_tb \u001b[38;5;241m=\u001b[39m \u001b[38;5;28;01mNone\u001b[39;00m\n\u001b[1;32m     64\u001b[0m     \u001b[38;5;28;01mtry\u001b[39;00m:\n",
      "File \u001b[0;32m~/.pyenv/versions/3.11.7/envs/py3.11/lib/python3.11/site-packages/keras/src/engine/training.py:1856\u001b[0m, in \u001b[0;36mModel.fit\u001b[0;34m(self, x, y, batch_size, epochs, verbose, callbacks, validation_split, validation_data, shuffle, class_weight, sample_weight, initial_epoch, steps_per_epoch, validation_steps, validation_batch_size, validation_freq, max_queue_size, workers, use_multiprocessing)\u001b[0m\n\u001b[1;32m   1840\u001b[0m \u001b[38;5;28;01mif\u001b[39;00m \u001b[38;5;28mgetattr\u001b[39m(\u001b[38;5;28mself\u001b[39m, \u001b[38;5;124m\"\u001b[39m\u001b[38;5;124m_eval_data_handler\u001b[39m\u001b[38;5;124m\"\u001b[39m, \u001b[38;5;28;01mNone\u001b[39;00m) \u001b[38;5;129;01mis\u001b[39;00m \u001b[38;5;28;01mNone\u001b[39;00m:\n\u001b[1;32m   1841\u001b[0m     \u001b[38;5;28mself\u001b[39m\u001b[38;5;241m.\u001b[39m_eval_data_handler \u001b[38;5;241m=\u001b[39m data_adapter\u001b[38;5;241m.\u001b[39mget_data_handler(\n\u001b[1;32m   1842\u001b[0m         x\u001b[38;5;241m=\u001b[39mval_x,\n\u001b[1;32m   1843\u001b[0m         y\u001b[38;5;241m=\u001b[39mval_y,\n\u001b[0;32m   (...)\u001b[0m\n\u001b[1;32m   1854\u001b[0m         pss_evaluation_shards\u001b[38;5;241m=\u001b[39m\u001b[38;5;28mself\u001b[39m\u001b[38;5;241m.\u001b[39m_pss_evaluation_shards,\n\u001b[1;32m   1855\u001b[0m     )\n\u001b[0;32m-> 1856\u001b[0m val_logs \u001b[38;5;241m=\u001b[39m \u001b[38;5;28;43mself\u001b[39;49m\u001b[38;5;241;43m.\u001b[39;49m\u001b[43mevaluate\u001b[49m\u001b[43m(\u001b[49m\n\u001b[1;32m   1857\u001b[0m \u001b[43m    \u001b[49m\u001b[43mx\u001b[49m\u001b[38;5;241;43m=\u001b[39;49m\u001b[43mval_x\u001b[49m\u001b[43m,\u001b[49m\n\u001b[1;32m   1858\u001b[0m \u001b[43m    \u001b[49m\u001b[43my\u001b[49m\u001b[38;5;241;43m=\u001b[39;49m\u001b[43mval_y\u001b[49m\u001b[43m,\u001b[49m\n\u001b[1;32m   1859\u001b[0m \u001b[43m    \u001b[49m\u001b[43msample_weight\u001b[49m\u001b[38;5;241;43m=\u001b[39;49m\u001b[43mval_sample_weight\u001b[49m\u001b[43m,\u001b[49m\n\u001b[1;32m   1860\u001b[0m \u001b[43m    \u001b[49m\u001b[43mbatch_size\u001b[49m\u001b[38;5;241;43m=\u001b[39;49m\u001b[43mvalidation_batch_size\u001b[49m\u001b[43m \u001b[49m\u001b[38;5;129;43;01mor\u001b[39;49;00m\u001b[43m \u001b[49m\u001b[43mbatch_size\u001b[49m\u001b[43m,\u001b[49m\n\u001b[1;32m   1861\u001b[0m \u001b[43m    \u001b[49m\u001b[43msteps\u001b[49m\u001b[38;5;241;43m=\u001b[39;49m\u001b[43mvalidation_steps\u001b[49m\u001b[43m,\u001b[49m\n\u001b[1;32m   1862\u001b[0m \u001b[43m    \u001b[49m\u001b[43mcallbacks\u001b[49m\u001b[38;5;241;43m=\u001b[39;49m\u001b[43mcallbacks\u001b[49m\u001b[43m,\u001b[49m\n\u001b[1;32m   1863\u001b[0m \u001b[43m    \u001b[49m\u001b[43mmax_queue_size\u001b[49m\u001b[38;5;241;43m=\u001b[39;49m\u001b[43mmax_queue_size\u001b[49m\u001b[43m,\u001b[49m\n\u001b[1;32m   1864\u001b[0m \u001b[43m    \u001b[49m\u001b[43mworkers\u001b[49m\u001b[38;5;241;43m=\u001b[39;49m\u001b[43mworkers\u001b[49m\u001b[43m,\u001b[49m\n\u001b[1;32m   1865\u001b[0m \u001b[43m    \u001b[49m\u001b[43muse_multiprocessing\u001b[49m\u001b[38;5;241;43m=\u001b[39;49m\u001b[43muse_multiprocessing\u001b[49m\u001b[43m,\u001b[49m\n\u001b[1;32m   1866\u001b[0m \u001b[43m    \u001b[49m\u001b[43mreturn_dict\u001b[49m\u001b[38;5;241;43m=\u001b[39;49m\u001b[38;5;28;43;01mTrue\u001b[39;49;00m\u001b[43m,\u001b[49m\n\u001b[1;32m   1867\u001b[0m \u001b[43m    \u001b[49m\u001b[43m_use_cached_eval_dataset\u001b[49m\u001b[38;5;241;43m=\u001b[39;49m\u001b[38;5;28;43;01mTrue\u001b[39;49;00m\u001b[43m,\u001b[49m\n\u001b[1;32m   1868\u001b[0m \u001b[43m\u001b[49m\u001b[43m)\u001b[49m\n\u001b[1;32m   1869\u001b[0m val_logs \u001b[38;5;241m=\u001b[39m {\n\u001b[1;32m   1870\u001b[0m     \u001b[38;5;124m\"\u001b[39m\u001b[38;5;124mval_\u001b[39m\u001b[38;5;124m\"\u001b[39m \u001b[38;5;241m+\u001b[39m name: val \u001b[38;5;28;01mfor\u001b[39;00m name, val \u001b[38;5;129;01min\u001b[39;00m val_logs\u001b[38;5;241m.\u001b[39mitems()\n\u001b[1;32m   1871\u001b[0m }\n\u001b[1;32m   1872\u001b[0m epoch_logs\u001b[38;5;241m.\u001b[39mupdate(val_logs)\n",
      "File \u001b[0;32m~/.pyenv/versions/3.11.7/envs/py3.11/lib/python3.11/site-packages/keras/src/utils/traceback_utils.py:61\u001b[0m, in \u001b[0;36mfilter_traceback.<locals>.error_handler\u001b[0;34m(*args, **kwargs)\u001b[0m\n\u001b[1;32m     59\u001b[0m \u001b[38;5;28;01mdef\u001b[39;00m \u001b[38;5;21merror_handler\u001b[39m(\u001b[38;5;241m*\u001b[39margs, \u001b[38;5;241m*\u001b[39m\u001b[38;5;241m*\u001b[39mkwargs):\n\u001b[1;32m     60\u001b[0m     \u001b[38;5;28;01mif\u001b[39;00m \u001b[38;5;129;01mnot\u001b[39;00m tf\u001b[38;5;241m.\u001b[39mdebugging\u001b[38;5;241m.\u001b[39mis_traceback_filtering_enabled():\n\u001b[0;32m---> 61\u001b[0m         \u001b[38;5;28;01mreturn\u001b[39;00m \u001b[43mfn\u001b[49m\u001b[43m(\u001b[49m\u001b[38;5;241;43m*\u001b[39;49m\u001b[43margs\u001b[49m\u001b[43m,\u001b[49m\u001b[43m \u001b[49m\u001b[38;5;241;43m*\u001b[39;49m\u001b[38;5;241;43m*\u001b[39;49m\u001b[43mkwargs\u001b[49m\u001b[43m)\u001b[49m\n\u001b[1;32m     63\u001b[0m     filtered_tb \u001b[38;5;241m=\u001b[39m \u001b[38;5;28;01mNone\u001b[39;00m\n\u001b[1;32m     64\u001b[0m     \u001b[38;5;28;01mtry\u001b[39;00m:\n",
      "File \u001b[0;32m~/.pyenv/versions/3.11.7/envs/py3.11/lib/python3.11/site-packages/keras/src/engine/training.py:2296\u001b[0m, in \u001b[0;36mModel.evaluate\u001b[0;34m(self, x, y, batch_size, verbose, sample_weight, steps, callbacks, max_queue_size, workers, use_multiprocessing, return_dict, **kwargs)\u001b[0m\n\u001b[1;32m   2292\u001b[0m             \u001b[38;5;28;01mwith\u001b[39;00m tf\u001b[38;5;241m.\u001b[39mprofiler\u001b[38;5;241m.\u001b[39mexperimental\u001b[38;5;241m.\u001b[39mTrace(\n\u001b[1;32m   2293\u001b[0m                 \u001b[38;5;124m\"\u001b[39m\u001b[38;5;124mtest\u001b[39m\u001b[38;5;124m\"\u001b[39m, step_num\u001b[38;5;241m=\u001b[39mstep, _r\u001b[38;5;241m=\u001b[39m\u001b[38;5;241m1\u001b[39m\n\u001b[1;32m   2294\u001b[0m             ):\n\u001b[1;32m   2295\u001b[0m                 callbacks\u001b[38;5;241m.\u001b[39mon_test_batch_begin(step)\n\u001b[0;32m-> 2296\u001b[0m                 logs \u001b[38;5;241m=\u001b[39m \u001b[43mtest_function_runner\u001b[49m\u001b[38;5;241;43m.\u001b[39;49m\u001b[43mrun_step\u001b[49m\u001b[43m(\u001b[49m\n\u001b[1;32m   2297\u001b[0m \u001b[43m                    \u001b[49m\u001b[43mdataset_or_iterator\u001b[49m\u001b[43m,\u001b[49m\n\u001b[1;32m   2298\u001b[0m \u001b[43m                    \u001b[49m\u001b[43mdata_handler\u001b[49m\u001b[43m,\u001b[49m\n\u001b[1;32m   2299\u001b[0m \u001b[43m                    \u001b[49m\u001b[43mstep\u001b[49m\u001b[43m,\u001b[49m\n\u001b[1;32m   2300\u001b[0m \u001b[43m                    \u001b[49m\u001b[38;5;28;43mself\u001b[39;49m\u001b[38;5;241;43m.\u001b[39;49m\u001b[43m_pss_evaluation_shards\u001b[49m\u001b[43m,\u001b[49m\n\u001b[1;32m   2301\u001b[0m \u001b[43m                \u001b[49m\u001b[43m)\u001b[49m\n\u001b[1;32m   2303\u001b[0m logs \u001b[38;5;241m=\u001b[39m tf_utils\u001b[38;5;241m.\u001b[39msync_to_numpy_or_python_type(logs)\n\u001b[1;32m   2304\u001b[0m \u001b[38;5;66;03m# Override with model metrics instead of last step logs\u001b[39;00m\n",
      "File \u001b[0;32m~/.pyenv/versions/3.11.7/envs/py3.11/lib/python3.11/site-packages/keras/src/engine/training.py:4108\u001b[0m, in \u001b[0;36m_TestFunction.run_step\u001b[0;34m(self, dataset_or_iterator, data_handler, step, unused_shards)\u001b[0m\n\u001b[1;32m   4107\u001b[0m \u001b[38;5;28;01mdef\u001b[39;00m \u001b[38;5;21mrun_step\u001b[39m(\u001b[38;5;28mself\u001b[39m, dataset_or_iterator, data_handler, step, unused_shards):\n\u001b[0;32m-> 4108\u001b[0m     tmp_logs \u001b[38;5;241m=\u001b[39m \u001b[38;5;28;43mself\u001b[39;49m\u001b[38;5;241;43m.\u001b[39;49m\u001b[43m_function\u001b[49m\u001b[43m(\u001b[49m\u001b[43mdataset_or_iterator\u001b[49m\u001b[43m)\u001b[49m\n\u001b[1;32m   4109\u001b[0m     \u001b[38;5;28;01mif\u001b[39;00m data_handler\u001b[38;5;241m.\u001b[39mshould_sync:\n\u001b[1;32m   4110\u001b[0m         context\u001b[38;5;241m.\u001b[39masync_wait()\n",
      "File \u001b[0;32m~/.pyenv/versions/3.11.7/envs/py3.11/lib/python3.11/site-packages/tensorflow/python/util/traceback_utils.py:141\u001b[0m, in \u001b[0;36mfilter_traceback.<locals>.error_handler\u001b[0;34m(*args, **kwargs)\u001b[0m\n\u001b[1;32m    139\u001b[0m \u001b[38;5;28;01mtry\u001b[39;00m:\n\u001b[1;32m    140\u001b[0m   \u001b[38;5;28;01mif\u001b[39;00m \u001b[38;5;129;01mnot\u001b[39;00m is_traceback_filtering_enabled():\n\u001b[0;32m--> 141\u001b[0m     \u001b[38;5;28;01mreturn\u001b[39;00m \u001b[43mfn\u001b[49m\u001b[43m(\u001b[49m\u001b[38;5;241;43m*\u001b[39;49m\u001b[43margs\u001b[49m\u001b[43m,\u001b[49m\u001b[43m \u001b[49m\u001b[38;5;241;43m*\u001b[39;49m\u001b[38;5;241;43m*\u001b[39;49m\u001b[43mkwargs\u001b[49m\u001b[43m)\u001b[49m\n\u001b[1;32m    142\u001b[0m \u001b[38;5;28;01mexcept\u001b[39;00m \u001b[38;5;167;01mNameError\u001b[39;00m:\n\u001b[1;32m    143\u001b[0m   \u001b[38;5;66;03m# In some very rare cases,\u001b[39;00m\n\u001b[1;32m    144\u001b[0m   \u001b[38;5;66;03m# `is_traceback_filtering_enabled` (from the outer scope) may not be\u001b[39;00m\n\u001b[1;32m    145\u001b[0m   \u001b[38;5;66;03m# accessible from inside this function\u001b[39;00m\n\u001b[1;32m    146\u001b[0m   \u001b[38;5;28;01mreturn\u001b[39;00m fn(\u001b[38;5;241m*\u001b[39margs, \u001b[38;5;241m*\u001b[39m\u001b[38;5;241m*\u001b[39mkwargs)\n",
      "File \u001b[0;32m~/.pyenv/versions/3.11.7/envs/py3.11/lib/python3.11/site-packages/tensorflow/python/eager/polymorphic_function/polymorphic_function.py:832\u001b[0m, in \u001b[0;36mFunction.__call__\u001b[0;34m(self, *args, **kwds)\u001b[0m\n\u001b[1;32m    829\u001b[0m compiler \u001b[38;5;241m=\u001b[39m \u001b[38;5;124m\"\u001b[39m\u001b[38;5;124mxla\u001b[39m\u001b[38;5;124m\"\u001b[39m \u001b[38;5;28;01mif\u001b[39;00m \u001b[38;5;28mself\u001b[39m\u001b[38;5;241m.\u001b[39m_jit_compile \u001b[38;5;28;01melse\u001b[39;00m \u001b[38;5;124m\"\u001b[39m\u001b[38;5;124mnonXla\u001b[39m\u001b[38;5;124m\"\u001b[39m\n\u001b[1;32m    831\u001b[0m \u001b[38;5;28;01mwith\u001b[39;00m OptionalXlaContext(\u001b[38;5;28mself\u001b[39m\u001b[38;5;241m.\u001b[39m_jit_compile):\n\u001b[0;32m--> 832\u001b[0m   result \u001b[38;5;241m=\u001b[39m \u001b[38;5;28;43mself\u001b[39;49m\u001b[38;5;241;43m.\u001b[39;49m\u001b[43m_call\u001b[49m\u001b[43m(\u001b[49m\u001b[38;5;241;43m*\u001b[39;49m\u001b[43margs\u001b[49m\u001b[43m,\u001b[49m\u001b[43m \u001b[49m\u001b[38;5;241;43m*\u001b[39;49m\u001b[38;5;241;43m*\u001b[39;49m\u001b[43mkwds\u001b[49m\u001b[43m)\u001b[49m\n\u001b[1;32m    834\u001b[0m new_tracing_count \u001b[38;5;241m=\u001b[39m \u001b[38;5;28mself\u001b[39m\u001b[38;5;241m.\u001b[39mexperimental_get_tracing_count()\n\u001b[1;32m    835\u001b[0m without_tracing \u001b[38;5;241m=\u001b[39m (tracing_count \u001b[38;5;241m==\u001b[39m new_tracing_count)\n",
      "File \u001b[0;32m~/.pyenv/versions/3.11.7/envs/py3.11/lib/python3.11/site-packages/tensorflow/python/eager/polymorphic_function/polymorphic_function.py:877\u001b[0m, in \u001b[0;36mFunction._call\u001b[0;34m(self, *args, **kwds)\u001b[0m\n\u001b[1;32m    874\u001b[0m \u001b[38;5;28mself\u001b[39m\u001b[38;5;241m.\u001b[39m_lock\u001b[38;5;241m.\u001b[39mrelease()\n\u001b[1;32m    875\u001b[0m \u001b[38;5;66;03m# In this case we have not created variables on the first call. So we can\u001b[39;00m\n\u001b[1;32m    876\u001b[0m \u001b[38;5;66;03m# run the first trace but we should fail if variables are created.\u001b[39;00m\n\u001b[0;32m--> 877\u001b[0m results \u001b[38;5;241m=\u001b[39m \u001b[43mtracing_compilation\u001b[49m\u001b[38;5;241;43m.\u001b[39;49m\u001b[43mcall_function\u001b[49m\u001b[43m(\u001b[49m\n\u001b[1;32m    878\u001b[0m \u001b[43m    \u001b[49m\u001b[43margs\u001b[49m\u001b[43m,\u001b[49m\u001b[43m \u001b[49m\u001b[43mkwds\u001b[49m\u001b[43m,\u001b[49m\u001b[43m \u001b[49m\u001b[38;5;28;43mself\u001b[39;49m\u001b[38;5;241;43m.\u001b[39;49m\u001b[43m_variable_creation_config\u001b[49m\n\u001b[1;32m    879\u001b[0m \u001b[43m\u001b[49m\u001b[43m)\u001b[49m\n\u001b[1;32m    880\u001b[0m \u001b[38;5;28;01mif\u001b[39;00m \u001b[38;5;28mself\u001b[39m\u001b[38;5;241m.\u001b[39m_created_variables:\n\u001b[1;32m    881\u001b[0m   \u001b[38;5;28;01mraise\u001b[39;00m \u001b[38;5;167;01mValueError\u001b[39;00m(\u001b[38;5;124m\"\u001b[39m\u001b[38;5;124mCreating variables on a non-first call to a function\u001b[39m\u001b[38;5;124m\"\u001b[39m\n\u001b[1;32m    882\u001b[0m                    \u001b[38;5;124m\"\u001b[39m\u001b[38;5;124m decorated with tf.function.\u001b[39m\u001b[38;5;124m\"\u001b[39m)\n",
      "File \u001b[0;32m~/.pyenv/versions/3.11.7/envs/py3.11/lib/python3.11/site-packages/tensorflow/python/eager/polymorphic_function/tracing_compilation.py:139\u001b[0m, in \u001b[0;36mcall_function\u001b[0;34m(args, kwargs, tracing_options)\u001b[0m\n\u001b[1;32m    137\u001b[0m bound_args \u001b[38;5;241m=\u001b[39m function\u001b[38;5;241m.\u001b[39mfunction_type\u001b[38;5;241m.\u001b[39mbind(\u001b[38;5;241m*\u001b[39margs, \u001b[38;5;241m*\u001b[39m\u001b[38;5;241m*\u001b[39mkwargs)\n\u001b[1;32m    138\u001b[0m flat_inputs \u001b[38;5;241m=\u001b[39m function\u001b[38;5;241m.\u001b[39mfunction_type\u001b[38;5;241m.\u001b[39munpack_inputs(bound_args)\n\u001b[0;32m--> 139\u001b[0m \u001b[38;5;28;01mreturn\u001b[39;00m \u001b[43mfunction\u001b[49m\u001b[38;5;241;43m.\u001b[39;49m\u001b[43m_call_flat\u001b[49m\u001b[43m(\u001b[49m\u001b[43m  \u001b[49m\u001b[38;5;66;43;03m# pylint: disable=protected-access\u001b[39;49;00m\n\u001b[1;32m    140\u001b[0m \u001b[43m    \u001b[49m\u001b[43mflat_inputs\u001b[49m\u001b[43m,\u001b[49m\u001b[43m \u001b[49m\u001b[43mcaptured_inputs\u001b[49m\u001b[38;5;241;43m=\u001b[39;49m\u001b[43mfunction\u001b[49m\u001b[38;5;241;43m.\u001b[39;49m\u001b[43mcaptured_inputs\u001b[49m\n\u001b[1;32m    141\u001b[0m \u001b[43m\u001b[49m\u001b[43m)\u001b[49m\n",
      "File \u001b[0;32m~/.pyenv/versions/3.11.7/envs/py3.11/lib/python3.11/site-packages/tensorflow/python/eager/polymorphic_function/concrete_function.py:1323\u001b[0m, in \u001b[0;36mConcreteFunction._call_flat\u001b[0;34m(self, tensor_inputs, captured_inputs)\u001b[0m\n\u001b[1;32m   1319\u001b[0m possible_gradient_type \u001b[38;5;241m=\u001b[39m gradients_util\u001b[38;5;241m.\u001b[39mPossibleTapeGradientTypes(args)\n\u001b[1;32m   1320\u001b[0m \u001b[38;5;28;01mif\u001b[39;00m (possible_gradient_type \u001b[38;5;241m==\u001b[39m gradients_util\u001b[38;5;241m.\u001b[39mPOSSIBLE_GRADIENT_TYPES_NONE\n\u001b[1;32m   1321\u001b[0m     \u001b[38;5;129;01mand\u001b[39;00m executing_eagerly):\n\u001b[1;32m   1322\u001b[0m   \u001b[38;5;66;03m# No tape is watching; skip to running the function.\u001b[39;00m\n\u001b[0;32m-> 1323\u001b[0m   \u001b[38;5;28;01mreturn\u001b[39;00m \u001b[38;5;28;43mself\u001b[39;49m\u001b[38;5;241;43m.\u001b[39;49m\u001b[43m_inference_function\u001b[49m\u001b[38;5;241;43m.\u001b[39;49m\u001b[43mcall_preflattened\u001b[49m\u001b[43m(\u001b[49m\u001b[43margs\u001b[49m\u001b[43m)\u001b[49m\n\u001b[1;32m   1324\u001b[0m forward_backward \u001b[38;5;241m=\u001b[39m \u001b[38;5;28mself\u001b[39m\u001b[38;5;241m.\u001b[39m_select_forward_and_backward_functions(\n\u001b[1;32m   1325\u001b[0m     args,\n\u001b[1;32m   1326\u001b[0m     possible_gradient_type,\n\u001b[1;32m   1327\u001b[0m     executing_eagerly)\n\u001b[1;32m   1328\u001b[0m forward_function, args_with_tangents \u001b[38;5;241m=\u001b[39m forward_backward\u001b[38;5;241m.\u001b[39mforward()\n",
      "File \u001b[0;32m~/.pyenv/versions/3.11.7/envs/py3.11/lib/python3.11/site-packages/tensorflow/python/eager/polymorphic_function/atomic_function.py:216\u001b[0m, in \u001b[0;36mAtomicFunction.call_preflattened\u001b[0;34m(self, args)\u001b[0m\n\u001b[1;32m    214\u001b[0m \u001b[38;5;28;01mdef\u001b[39;00m \u001b[38;5;21mcall_preflattened\u001b[39m(\u001b[38;5;28mself\u001b[39m, args: Sequence[core\u001b[38;5;241m.\u001b[39mTensor]) \u001b[38;5;241m-\u001b[39m\u001b[38;5;241m>\u001b[39m Any:\n\u001b[1;32m    215\u001b[0m \u001b[38;5;250m  \u001b[39m\u001b[38;5;124;03m\"\"\"Calls with flattened tensor inputs and returns the structured output.\"\"\"\u001b[39;00m\n\u001b[0;32m--> 216\u001b[0m   flat_outputs \u001b[38;5;241m=\u001b[39m \u001b[38;5;28;43mself\u001b[39;49m\u001b[38;5;241;43m.\u001b[39;49m\u001b[43mcall_flat\u001b[49m\u001b[43m(\u001b[49m\u001b[38;5;241;43m*\u001b[39;49m\u001b[43margs\u001b[49m\u001b[43m)\u001b[49m\n\u001b[1;32m    217\u001b[0m   \u001b[38;5;28;01mreturn\u001b[39;00m \u001b[38;5;28mself\u001b[39m\u001b[38;5;241m.\u001b[39mfunction_type\u001b[38;5;241m.\u001b[39mpack_output(flat_outputs)\n",
      "File \u001b[0;32m~/.pyenv/versions/3.11.7/envs/py3.11/lib/python3.11/site-packages/tensorflow/python/eager/polymorphic_function/atomic_function.py:251\u001b[0m, in \u001b[0;36mAtomicFunction.call_flat\u001b[0;34m(self, *args)\u001b[0m\n\u001b[1;32m    249\u001b[0m \u001b[38;5;28;01mwith\u001b[39;00m record\u001b[38;5;241m.\u001b[39mstop_recording():\n\u001b[1;32m    250\u001b[0m   \u001b[38;5;28;01mif\u001b[39;00m \u001b[38;5;28mself\u001b[39m\u001b[38;5;241m.\u001b[39m_bound_context\u001b[38;5;241m.\u001b[39mexecuting_eagerly():\n\u001b[0;32m--> 251\u001b[0m     outputs \u001b[38;5;241m=\u001b[39m \u001b[38;5;28;43mself\u001b[39;49m\u001b[38;5;241;43m.\u001b[39;49m\u001b[43m_bound_context\u001b[49m\u001b[38;5;241;43m.\u001b[39;49m\u001b[43mcall_function\u001b[49m\u001b[43m(\u001b[49m\n\u001b[1;32m    252\u001b[0m \u001b[43m        \u001b[49m\u001b[38;5;28;43mself\u001b[39;49m\u001b[38;5;241;43m.\u001b[39;49m\u001b[43mname\u001b[49m\u001b[43m,\u001b[49m\n\u001b[1;32m    253\u001b[0m \u001b[43m        \u001b[49m\u001b[38;5;28;43mlist\u001b[39;49m\u001b[43m(\u001b[49m\u001b[43margs\u001b[49m\u001b[43m)\u001b[49m\u001b[43m,\u001b[49m\n\u001b[1;32m    254\u001b[0m \u001b[43m        \u001b[49m\u001b[38;5;28;43mlen\u001b[39;49m\u001b[43m(\u001b[49m\u001b[38;5;28;43mself\u001b[39;49m\u001b[38;5;241;43m.\u001b[39;49m\u001b[43mfunction_type\u001b[49m\u001b[38;5;241;43m.\u001b[39;49m\u001b[43mflat_outputs\u001b[49m\u001b[43m)\u001b[49m\u001b[43m,\u001b[49m\n\u001b[1;32m    255\u001b[0m \u001b[43m    \u001b[49m\u001b[43m)\u001b[49m\n\u001b[1;32m    256\u001b[0m   \u001b[38;5;28;01melse\u001b[39;00m:\n\u001b[1;32m    257\u001b[0m     outputs \u001b[38;5;241m=\u001b[39m make_call_op_in_graph(\n\u001b[1;32m    258\u001b[0m         \u001b[38;5;28mself\u001b[39m,\n\u001b[1;32m    259\u001b[0m         \u001b[38;5;28mlist\u001b[39m(args),\n\u001b[1;32m    260\u001b[0m         \u001b[38;5;28mself\u001b[39m\u001b[38;5;241m.\u001b[39m_bound_context\u001b[38;5;241m.\u001b[39mfunction_call_options\u001b[38;5;241m.\u001b[39mas_attrs(),\n\u001b[1;32m    261\u001b[0m     )\n",
      "File \u001b[0;32m~/.pyenv/versions/3.11.7/envs/py3.11/lib/python3.11/site-packages/tensorflow/python/eager/context.py:1486\u001b[0m, in \u001b[0;36mContext.call_function\u001b[0;34m(self, name, tensor_inputs, num_outputs)\u001b[0m\n\u001b[1;32m   1484\u001b[0m cancellation_context \u001b[38;5;241m=\u001b[39m cancellation\u001b[38;5;241m.\u001b[39mcontext()\n\u001b[1;32m   1485\u001b[0m \u001b[38;5;28;01mif\u001b[39;00m cancellation_context \u001b[38;5;129;01mis\u001b[39;00m \u001b[38;5;28;01mNone\u001b[39;00m:\n\u001b[0;32m-> 1486\u001b[0m   outputs \u001b[38;5;241m=\u001b[39m \u001b[43mexecute\u001b[49m\u001b[38;5;241;43m.\u001b[39;49m\u001b[43mexecute\u001b[49m\u001b[43m(\u001b[49m\n\u001b[1;32m   1487\u001b[0m \u001b[43m      \u001b[49m\u001b[43mname\u001b[49m\u001b[38;5;241;43m.\u001b[39;49m\u001b[43mdecode\u001b[49m\u001b[43m(\u001b[49m\u001b[38;5;124;43m\"\u001b[39;49m\u001b[38;5;124;43mutf-8\u001b[39;49m\u001b[38;5;124;43m\"\u001b[39;49m\u001b[43m)\u001b[49m\u001b[43m,\u001b[49m\n\u001b[1;32m   1488\u001b[0m \u001b[43m      \u001b[49m\u001b[43mnum_outputs\u001b[49m\u001b[38;5;241;43m=\u001b[39;49m\u001b[43mnum_outputs\u001b[49m\u001b[43m,\u001b[49m\n\u001b[1;32m   1489\u001b[0m \u001b[43m      \u001b[49m\u001b[43minputs\u001b[49m\u001b[38;5;241;43m=\u001b[39;49m\u001b[43mtensor_inputs\u001b[49m\u001b[43m,\u001b[49m\n\u001b[1;32m   1490\u001b[0m \u001b[43m      \u001b[49m\u001b[43mattrs\u001b[49m\u001b[38;5;241;43m=\u001b[39;49m\u001b[43mattrs\u001b[49m\u001b[43m,\u001b[49m\n\u001b[1;32m   1491\u001b[0m \u001b[43m      \u001b[49m\u001b[43mctx\u001b[49m\u001b[38;5;241;43m=\u001b[39;49m\u001b[38;5;28;43mself\u001b[39;49m\u001b[43m,\u001b[49m\n\u001b[1;32m   1492\u001b[0m \u001b[43m  \u001b[49m\u001b[43m)\u001b[49m\n\u001b[1;32m   1493\u001b[0m \u001b[38;5;28;01melse\u001b[39;00m:\n\u001b[1;32m   1494\u001b[0m   outputs \u001b[38;5;241m=\u001b[39m execute\u001b[38;5;241m.\u001b[39mexecute_with_cancellation(\n\u001b[1;32m   1495\u001b[0m       name\u001b[38;5;241m.\u001b[39mdecode(\u001b[38;5;124m\"\u001b[39m\u001b[38;5;124mutf-8\u001b[39m\u001b[38;5;124m\"\u001b[39m),\n\u001b[1;32m   1496\u001b[0m       num_outputs\u001b[38;5;241m=\u001b[39mnum_outputs,\n\u001b[0;32m   (...)\u001b[0m\n\u001b[1;32m   1500\u001b[0m       cancellation_manager\u001b[38;5;241m=\u001b[39mcancellation_context,\n\u001b[1;32m   1501\u001b[0m   )\n",
      "File \u001b[0;32m~/.pyenv/versions/3.11.7/envs/py3.11/lib/python3.11/site-packages/tensorflow/python/eager/execute.py:53\u001b[0m, in \u001b[0;36mquick_execute\u001b[0;34m(op_name, num_outputs, inputs, attrs, ctx, name)\u001b[0m\n\u001b[1;32m     51\u001b[0m \u001b[38;5;28;01mtry\u001b[39;00m:\n\u001b[1;32m     52\u001b[0m   ctx\u001b[38;5;241m.\u001b[39mensure_initialized()\n\u001b[0;32m---> 53\u001b[0m   tensors \u001b[38;5;241m=\u001b[39m \u001b[43mpywrap_tfe\u001b[49m\u001b[38;5;241;43m.\u001b[39;49m\u001b[43mTFE_Py_Execute\u001b[49m\u001b[43m(\u001b[49m\u001b[43mctx\u001b[49m\u001b[38;5;241;43m.\u001b[39;49m\u001b[43m_handle\u001b[49m\u001b[43m,\u001b[49m\u001b[43m \u001b[49m\u001b[43mdevice_name\u001b[49m\u001b[43m,\u001b[49m\u001b[43m \u001b[49m\u001b[43mop_name\u001b[49m\u001b[43m,\u001b[49m\n\u001b[1;32m     54\u001b[0m \u001b[43m                                      \u001b[49m\u001b[43minputs\u001b[49m\u001b[43m,\u001b[49m\u001b[43m \u001b[49m\u001b[43mattrs\u001b[49m\u001b[43m,\u001b[49m\u001b[43m \u001b[49m\u001b[43mnum_outputs\u001b[49m\u001b[43m)\u001b[49m\n\u001b[1;32m     55\u001b[0m \u001b[38;5;28;01mexcept\u001b[39;00m core\u001b[38;5;241m.\u001b[39m_NotOkStatusException \u001b[38;5;28;01mas\u001b[39;00m e:\n\u001b[1;32m     56\u001b[0m   \u001b[38;5;28;01mif\u001b[39;00m name \u001b[38;5;129;01mis\u001b[39;00m \u001b[38;5;129;01mnot\u001b[39;00m \u001b[38;5;28;01mNone\u001b[39;00m:\n",
      "\u001b[0;31mUnknownError\u001b[0m: Graph execution error:\n\nDetected at node EagerPyFunc defined at (most recent call last):\n<stack traces unavailable>\nDetected at node EagerPyFunc defined at (most recent call last):\n<stack traces unavailable>\n2 root error(s) found.\n  (0) UNKNOWN:  InvalidArgumentError: {{function_node __wrapped__Reshape_device_/job:localhost/replica:0/task:0/device:GPU:0}} sizes input must be 1-D, not [22,1] [Op:Reshape]\nTraceback (most recent call last):\n\n  File \"/home/unbarrier/.pyenv/versions/3.11.7/envs/py3.11/lib/python3.11/site-packages/tensorflow/python/ops/script_ops.py\", line 268, in __call__\n    return func(device, token, args)\n           ^^^^^^^^^^^^^^^^^^^^^^^^^\n\n  File \"/home/unbarrier/.pyenv/versions/3.11.7/envs/py3.11/lib/python3.11/site-packages/tensorflow/python/ops/script_ops.py\", line 146, in __call__\n    outputs = self._call(device, args)\n              ^^^^^^^^^^^^^^^^^^^^^^^^\n\n  File \"/home/unbarrier/.pyenv/versions/3.11.7/envs/py3.11/lib/python3.11/site-packages/tensorflow/python/ops/script_ops.py\", line 153, in _call\n    ret = self._func(*args)\n          ^^^^^^^^^^^^^^^^^\n\n  File \"/home/unbarrier/.pyenv/versions/3.11.7/envs/py3.11/lib/python3.11/site-packages/tensorflow/python/autograph/impl/api.py\", line 643, in wrapper\n    return func(*args, **kwargs)\n           ^^^^^^^^^^^^^^^^^^^^^\n\n  File \"/tmp/ipykernel_364371/3595898013.py\", line 18, in load_data\n    frames = load_video(video_path)\n             ^^^^^^^^^^^^^^^^^^^^^^\n\n  File \"/tmp/ipykernel_364371/1668792994.py\", line 13, in load_video\n    frame = tf.image.rgb_to_grayscale(frame)\n            ^^^^^^^^^^^^^^^^^^^^^^^^^^^^^^^^\n\n  File \"/home/unbarrier/.pyenv/versions/3.11.7/envs/py3.11/lib/python3.11/site-packages/tensorflow/python/util/traceback_utils.py\", line 153, in error_handler\n    raise e.with_traceback(filtered_tb) from None\n\n  File \"/home/unbarrier/.pyenv/versions/3.11.7/envs/py3.11/lib/python3.11/site-packages/tensorflow/python/eager/execute.py\", line 59, in quick_execute\n    except TypeError as e:\n\ntensorflow.python.framework.errors_impl.InvalidArgumentError: {{function_node __wrapped__Reshape_device_/job:localhost/replica:0/task:0/device:GPU:0}} sizes input must be 1-D, not [22,1] [Op:Reshape]\n\n\n\t [[{{node EagerPyFunc}}]]\n\t [[IteratorGetNext]]\n\t [[IteratorGetNext/_48]]\n  (1) UNKNOWN:  InvalidArgumentError: {{function_node __wrapped__Reshape_device_/job:localhost/replica:0/task:0/device:GPU:0}} sizes input must be 1-D, not [22,1] [Op:Reshape]\nTraceback (most recent call last):\n\n  File \"/home/unbarrier/.pyenv/versions/3.11.7/envs/py3.11/lib/python3.11/site-packages/tensorflow/python/ops/script_ops.py\", line 268, in __call__\n    return func(device, token, args)\n           ^^^^^^^^^^^^^^^^^^^^^^^^^\n\n  File \"/home/unbarrier/.pyenv/versions/3.11.7/envs/py3.11/lib/python3.11/site-packages/tensorflow/python/ops/script_ops.py\", line 146, in __call__\n    outputs = self._call(device, args)\n              ^^^^^^^^^^^^^^^^^^^^^^^^\n\n  File \"/home/unbarrier/.pyenv/versions/3.11.7/envs/py3.11/lib/python3.11/site-packages/tensorflow/python/ops/script_ops.py\", line 153, in _call\n    ret = self._func(*args)\n          ^^^^^^^^^^^^^^^^^\n\n  File \"/home/unbarrier/.pyenv/versions/3.11.7/envs/py3.11/lib/python3.11/site-packages/tensorflow/python/autograph/impl/api.py\", line 643, in wrapper\n    return func(*args, **kwargs)\n           ^^^^^^^^^^^^^^^^^^^^^\n\n  File \"/tmp/ipykernel_364371/3595898013.py\", line 18, in load_data\n    frames = load_video(video_path)\n             ^^^^^^^^^^^^^^^^^^^^^^\n\n  File \"/tmp/ipykernel_364371/1668792994.py\", line 13, in load_video\n    frame = tf.image.rgb_to_grayscale(frame)\n            ^^^^^^^^^^^^^^^^^^^^^^^^^^^^^^^^\n\n  File \"/home/unbarrier/.pyenv/versions/3.11.7/envs/py3.11/lib/python3.11/site-packages/tensorflow/python/util/traceback_utils.py\", line 153, in error_handler\n    raise e.with_traceback(filtered_tb) from None\n\n  File \"/home/unbarrier/.pyenv/versions/3.11.7/envs/py3.11/lib/python3.11/site-packages/tensorflow/python/eager/execute.py\", line 59, in quick_execute\n    except TypeError as e:\n\ntensorflow.python.framework.errors_impl.InvalidArgumentError: {{function_node __wrapped__Reshape_device_/job:localhost/replica:0/task:0/device:GPU:0}} sizes input must be 1-D, not [22,1] [Op:Reshape]\n\n\n\t [[{{node EagerPyFunc}}]]\n\t [[IteratorGetNext]]\n0 successful operations.\n0 derived errors ignored. [Op:__inference_test_function_73612236]"
     ]
    }
   ],
   "source": [
    "model.fit(train, validation_data=test, epochs=50, callbacks=[checkpoint_callback, schedule_callback, example_callback])"
   ]
  },
  {
   "cell_type": "code",
   "execution_count": null,
   "id": "eccaa452-2c3b-4fee-bcc2-2223b4d21506",
   "metadata": {},
   "outputs": [],
   "source": [
    "# 트레이스백 필터링 다시 활성화\n",
    "tf.debugging.enable_traceback_filtering()"
   ]
  },
  {
   "cell_type": "markdown",
   "id": "fa8ee94b-89f7-4733-8a0c-a86f86ff590a",
   "metadata": {
    "id": "fa8ee94b-89f7-4733-8a0c-a86f86ff590a",
    "tags": []
   },
   "source": [
    "# 5. Make a Prediction"
   ]
  },
  {
   "cell_type": "code",
   "execution_count": null,
   "id": "01fa7204-ce0e-49a8-8dbd-14fe5dfead40",
   "metadata": {
    "id": "01fa7204-ce0e-49a8-8dbd-14fe5dfead40",
    "tags": []
   },
   "outputs": [],
   "source": [
    "# url = 'https://drive.google.com/uc?id=1vWscXs4Vt0a_1IH1-ct2TCgXAZT-N3_Y'\n",
    "# output = 'checkpoints.zip'\n",
    "# gdown.download(url, output, quiet=False)\n",
    "# gdown.extractall('checkpoints.zip', 'models')"
   ]
  },
  {
   "cell_type": "code",
   "execution_count": 47,
   "id": "247f664d-3c87-4e96-946e-930dad0e1c2c",
   "metadata": {
    "id": "247f664d-3c87-4e96-946e-930dad0e1c2c",
    "tags": []
   },
   "outputs": [
    {
     "data": {
      "text/plain": [
       "<tensorflow.python.checkpoint.checkpoint.CheckpointLoadStatus at 0x7f2cd0435550>"
      ]
     },
     "execution_count": 47,
     "metadata": {},
     "output_type": "execute_result"
    }
   ],
   "source": [
    "model.load_weights(BASE_PATH + 'models/checkpoint')"
   ]
  },
  {
   "cell_type": "code",
   "execution_count": 56,
   "id": "7f8d689f-b7bb-443c-9b88-e40c1d800828",
   "metadata": {
    "id": "7f8d689f-b7bb-443c-9b88-e40c1d800828",
    "tags": []
   },
   "outputs": [],
   "source": [
    "test_data = test.as_numpy_iterator()"
   ]
  },
  {
   "cell_type": "code",
   "execution_count": 234,
   "id": "38546dc2-bee9-4837-864b-8a884df40ad7",
   "metadata": {
    "id": "38546dc2-bee9-4837-864b-8a884df40ad7",
    "tags": []
   },
   "outputs": [],
   "source": [
    "sample = test_data.next() # 첫 실행시 오래 걸림"
   ]
  },
  {
   "cell_type": "code",
   "execution_count": 235,
   "id": "a43621f0-229d-4c0d-9554-9c3a3da9c61a",
   "metadata": {
    "id": "a43621f0-229d-4c0d-9554-9c3a3da9c61a",
    "tags": []
   },
   "outputs": [
    {
     "name": "stdout",
     "output_type": "stream",
     "text": [
      "1/1 [==============================] - 0s 27ms/step\n"
     ]
    }
   ],
   "source": [
    "yhat = model.predict(sample[0])"
   ]
  },
  {
   "cell_type": "code",
   "execution_count": 236,
   "id": "ea462999-f87e-4a7e-a057-5be7b6d8f7d5",
   "metadata": {
    "id": "ea462999-f87e-4a7e-a057-5be7b6d8f7d5",
    "tags": []
   },
   "outputs": [
    {
     "name": "stdout",
     "output_type": "stream",
     "text": [
      "~~~~~~~~~~~~~~~~~~~~~~~~~~~~~~~~~~~~~~~~~~~~~~~~~~~~~~~~~~~~~~~~~~~~~~~~~~~~~~~~~~~~~~~~~~~~~~~~~~~~ REAL TEXT\n"
     ]
    },
    {
     "data": {
      "text/plain": [
       "[<tf.Tensor: shape=(), dtype=string, numpy=b'lay blue at q zero please'>]"
      ]
     },
     "execution_count": 236,
     "metadata": {},
     "output_type": "execute_result"
    }
   ],
   "source": [
    "print('~'*100, 'REAL TEXT')\n",
    "[tf.strings.reduce_join([num_to_char(word) for word in sentence]) for sentence in sample[1]]"
   ]
  },
  {
   "cell_type": "code",
   "execution_count": 237,
   "id": "82bd4c10-dd6e-411e-834b-2a3b43fd12c5",
   "metadata": {
    "editable": true,
    "id": "82bd4c10-dd6e-411e-834b-2a3b43fd12c5",
    "slideshow": {
     "slide_type": ""
    },
    "tags": []
   },
   "outputs": [],
   "source": [
    "decoded = tf.keras.backend.ctc_decode(yhat, input_length=[75] * batch_size, greedy=True)[0][0].numpy()"
   ]
  },
  {
   "cell_type": "code",
   "execution_count": 238,
   "id": "5d68ac46-c90b-4eab-a709-f19aee569ff5",
   "metadata": {
    "id": "5d68ac46-c90b-4eab-a709-f19aee569ff5",
    "tags": []
   },
   "outputs": [
    {
     "name": "stdout",
     "output_type": "stream",
     "text": [
      "~~~~~~~~~~~~~~~~~~~~~~~~~~~~~~~~~~~~~~~~~~~~~~~~~~~~~~~~~~~~~~~~~~~~~~~~~~~~~~~~~~~~~~~~~~~~~~~~~~~~ PREDICTIONS\n"
     ]
    },
    {
     "data": {
      "text/plain": [
       "[<tf.Tensor: shape=(), dtype=string, numpy=b'lay blue at q zero please'>]"
      ]
     },
     "execution_count": 238,
     "metadata": {},
     "output_type": "execute_result"
    }
   ],
   "source": [
    "print('~'*100, 'PREDICTIONS')\n",
    "[tf.strings.reduce_join([num_to_char(word) for word in sentence]) for sentence in decoded]"
   ]
  },
  {
   "cell_type": "markdown",
   "id": "64622f98-e99b-4fed-a2cc-f0da82eb5431",
   "metadata": {
    "id": "64622f98-e99b-4fed-a2cc-f0da82eb5431"
   },
   "source": [
    "# 6. Test on a Video"
   ]
  },
  {
   "cell_type": "code",
   "execution_count": 124,
   "id": "9358ea64-014f-4ef1-b30f-1f6a1e28f4db",
   "metadata": {},
   "outputs": [
    {
     "name": "stdout",
     "output_type": "stream",
     "text": [
      "랜덤하게 선택된 .mpg 파일 경로: ./data/s30/bgbe8a.mpg\n"
     ]
    }
   ],
   "source": [
    "import os\n",
    "import random\n",
    "\n",
    "def get_random_mpg_path(root_folder):\n",
    "    mpg_files = []\n",
    "    \n",
    "    # root_folder와 그 하위 폴더에서 .mpg 파일 찾기\n",
    "    for foldername, subfolders, filenames in os.walk(root_folder):\n",
    "        for filename in filenames:\n",
    "            if filename.endswith('.mpg'):\n",
    "                mpg_files.append(os.path.join(foldername, filename))\n",
    "    \n",
    "    # .mpg 파일이 없으면 None 반환\n",
    "    if not mpg_files:\n",
    "        return None\n",
    "    \n",
    "    # 랜덤하게 선택된 .mpg 파일 경로 반환\n",
    "    return random.choice(mpg_files)\n",
    "\n",
    "# 사용 예시\n",
    "root_folder = BASE_PATH + 'data/'\n",
    "random_mpg_path = get_random_mpg_path(root_folder)\n",
    "\n",
    "if random_mpg_path:\n",
    "    print(f'랜덤하게 선택된 .mpg 파일 경로: {random_mpg_path}')\n",
    "else:\n",
    "    print('폴더 안에 .mpg 파일이 없습니다.')\n"
   ]
  },
  {
   "cell_type": "code",
   "execution_count": 257,
   "id": "1cfca9b6-ebab-45e7-9574-11b5e5839ad0",
   "metadata": {},
   "outputs": [
    {
     "name": "stdout",
     "output_type": "stream",
     "text": [
      "./data/s34/pbil2s.mpg\n",
      "~~~~~~~~~~~~~~~~~~~~~~~~~~~~~~~~~~~~~~~~~~~~~~~~~~~~~~~~~~~~~~~~~~~~~~~~~~~~~~~~~~~~~~~~~~~~~~~~~~~~ REAL TEXT\n"
     ]
    },
    {
     "data": {
      "text/plain": [
       "[<tf.Tensor: shape=(), dtype=string, numpy=b'place blue in l two soon'>]"
      ]
     },
     "execution_count": 257,
     "metadata": {},
     "output_type": "execute_result"
    }
   ],
   "source": [
    "# 1. load random data (from s1 ~ s34, 훈련 데이터에 포함된 것도 있음. s12 부터는 훈련 데이터에 포함되지 않음.)\n",
    "test_path = get_random_mpg_path(root_folder)\n",
    "print(test_path)\n",
    "sample = load_test_data(tf.convert_to_tensor(test_path))\n",
    "print('~'*100, 'REAL TEXT')\n",
    "[tf.strings.reduce_join([num_to_char(word) for word in sentence]) for sentence in [sample[1]]]"
   ]
  },
  {
   "cell_type": "code",
   "execution_count": 258,
   "id": "e91ba72d-5c01-45ea-892f-50ed5b79f39c",
   "metadata": {},
   "outputs": [
    {
     "name": "stdout",
     "output_type": "stream",
     "text": [
      "1/1 [==============================] - 0s 27ms/step\n",
      "~~~~~~~~~~~~~~~~~~~~~~~~~~~~~~~~~~~~~~~~~~~~~~~~~~~~~~~~~~~~~~~~~~~~~~~~~~~~~~~~~~~~~~~~~~~~~~~~~~~~ PREDICTIONS\n"
     ]
    },
    {
     "data": {
      "text/plain": [
       "[<tf.Tensor: shape=(), dtype=string, numpy=b'lay gree it u eive sleasn'>]"
      ]
     },
     "execution_count": 258,
     "metadata": {},
     "output_type": "execute_result"
    }
   ],
   "source": [
    "# 2. predict\n",
    "yhat = model.predict(tf.expand_dims(sample[0], axis=0))\n",
    "decoded = tf.keras.backend.ctc_decode(yhat, input_length=[75], greedy=True)[0][0].numpy()\n",
    "print('~'*100, 'PREDICTIONS')\n",
    "[tf.strings.reduce_join([num_to_char(word) for word in sentence]) for sentence in decoded]"
   ]
  },
  {
   "cell_type": "code",
   "execution_count": null,
   "id": "ed636ef3-39d9-47ec-a3c6-7b21b035f3d5",
   "metadata": {},
   "outputs": [],
   "source": []
  }
 ],
 "metadata": {
  "accelerator": "GPU",
  "colab": {
   "gpuType": "A100",
   "machine_shape": "hm",
   "provenance": []
  },
  "kernelspec": {
   "display_name": "Python 3 (ipykernel)",
   "language": "python",
   "name": "python3"
  },
  "language_info": {
   "codemirror_mode": {
    "name": "ipython",
    "version": 3
   },
   "file_extension": ".py",
   "mimetype": "text/x-python",
   "name": "python",
   "nbconvert_exporter": "python",
   "pygments_lexer": "ipython3",
   "version": "3.11.7"
  }
 },
 "nbformat": 4,
 "nbformat_minor": 5
}
